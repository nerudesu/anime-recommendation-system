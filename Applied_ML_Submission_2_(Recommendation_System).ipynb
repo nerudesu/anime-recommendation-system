{
  "nbformat": 4,
  "nbformat_minor": 0,
  "metadata": {
    "colab": {
      "provenance": [],
      "toc_visible": true,
      "gpuType": "T4",
      "authorship_tag": "ABX9TyO7y4MFxasSXoL2cM/VxTjV",
      "include_colab_link": true
    },
    "kernelspec": {
      "name": "python3",
      "display_name": "Python 3"
    },
    "language_info": {
      "name": "python"
    },
    "accelerator": "GPU"
  },
  "cells": [
    {
      "cell_type": "markdown",
      "metadata": {
        "id": "view-in-github",
        "colab_type": "text"
      },
      "source": [
        "<a href=\"https://colab.research.google.com/github/nerudesu/anime-recommendation-system/blob/main/Applied_ML_Submission_2_(Recommendation_System).ipynb\" target=\"_parent\"><img src=\"https://colab.research.google.com/assets/colab-badge.svg\" alt=\"Open In Colab\"/></a>"
      ]
    },
    {
      "cell_type": "markdown",
      "source": [
        "# Laporan Proyek Machine Learning - Pradipta A. Suryadi\n",
        "\n",
        "## Project Overview\n",
        "Industri anime telah mengalami pertumbuhan yang signifikan dan peningkatan popularitas secara global, menciptakan pasar yang berkembang pesat untuk bisnis terkait anime ([AJA, 2023](https://aja.gr.jp/english/japan-anime-data))[1]. Sistem rekomendasi anime memainkan peran penting dalam industri anime dengan membantu *user* menemukan judul anime baru dan meningkatkan pengalaman menonton mereka. Beberapa latar belakang tentang aspek bisnis dari sistem rekomendasi anime, sebagai berikut:\n",
        "\n",
        "1.  **Permintaan pasar**\n",
        "    Permintaan akan konten anime terus meningkat di seluruh dunia. Penggemar anime terus mencari judul baru yang menarik untuk ditonton. Namun, banyaknya serial anime yang tersedia dapat membuat *user* kewalahan untuk menemukan konten yang sesuai dengan preferensi mereka. Sistem rekomendasi anime mengatasi tantangan ini dengan memberikan rekomendasi yang dipersonalisasi. Tidak hanya meningkatkan kepuasan pengguna tetapi juga mendorong interaksi dan retensi.\n",
        "\n",
        "2.  **Keterlibatan dan Retensi *User***\n",
        "    Dengan menawarkan rekomendasi yang dipersonalisasi, sistem rekomendasi anime dapat secara signifikan meningkatkan keterlibatan *user* dan tingkat retensi. *User* cenderung menghabiskan lebih banyak waktu di platform atau layanan yang memahami preferensi mereka dan secara konsisten menyarankan judul anime yang relevan. Keterlibatan dan retensi *user* yang ditingkatkan berkontribusi pada peningkatan loyalitas, rekomendasi dari mulut ke mulut, dan potensi pertumbuhan pendapatan.\n",
        "\n",
        "3.  **Penemuan Konten**\n",
        "    Sistem rekomendasi anime memungkinkan *user* menemukan judul anime baru dan kurang dikenal yang sesuai dengan minat mereka. Ini tidak hanya menguntungkan *user* dengan memperluas khazanah anime mereka, tetapi juga mendukung pembuat konten dan studio produksi. Hal ini memungkinkan promosi serial anime yang *niche* dan beragam, yang mungkin memiliki keterpaparan terbatas dibandingkan dengan judul *mainstream*. Dengan memfasilitasi penemuan konten, sistem rekomendasi anime berkontribusi pada industri anime yang lebih beragam dan dinamis.\n",
        "\n",
        "4.  **Penghasilan Pendapatan**\n",
        "    Sistem rekomendasi anime dapat dimonetisasi dengan berbagai cara. Beberapa potensi pendapatan:\n",
        "    -   Periklanan\n",
        "        Sistem rekomendasi dapat menampilkan iklan bertarget berdasarkan preferensi pengguna dan kebiasaan menonton, menghasilkan pendapatan iklan.\n",
        "    -   Langganan Premium\n",
        "        Menawarkan langganan premium dengan fitur tambahan akses awal ke anime yang direkomendasikan.\n",
        "    -   Merchandising dan Affiliate Marketing\n",
        "        Bermitra dengan produsen merchandise, pengecer, atau platform pemasaran terafiliasi untuk mempromosikan dan menjual produk terkait anime.\n",
        "    -   Kemitraan Lisensi dan Distribusi\n",
        "        Berkolaborasi dengan platform streaming atau *broadcaster* untuk memperluas jangkauan dan distribusi judul anime yang direkomendasikan.\n",
        "\n",
        "5.  **Data *User* dan Analitik**\n",
        "    Sistem rekomendasi anime menghasilkan data dan analitik *user* yang berharga, memberikan pengetahuan tentang preferensi pengguna, kebiasaan menonton, dan tren. Data ini dapat digunakan untuk riset pasar, perencanaan konten, dan strategi pemasaran bertarget. Menganalisis perilaku dan preferensi pengguna dapat membantu bisnis memahami audiens target mereka dengan lebih baik, mengembangkan kampanye pemasaran bertarget, dan meningkatkan keputusan akuisisi konten.\n",
        "\n",
        "6.  **Keunggulan kompetitif**\n",
        "    Menerapkan sistem rekomendasi anime yang kuat dan akurat dapat memberikan keuntungan kompetitif bagi bisnis di industri anime. Sistem rekomendasi yang unggul dapat menarik dan mempertahankan *user*, membedakan platform atau layanan dari pesaing, dan membangun reputasi untuk memberikan rekomendasi hasil personalisasi berkualitas tinggi. Bisnis dapat mempertahankan keunggulan kompetitif di pasar dengan terus meningkatkan algoritma rekomendasi dan tetap up-to-date dengan penelitian terbaru dan tren industri.\n",
        "\n",
        "Pengembangan sistem rekomendasi anime cukup banyak dilakukan oleh para peneliti, misalnya pengembangan sistem rekomendasi anime yang menggabungkan teknik collaborative filtering dan content-based filtering ([Mugeswari, R., 2019](https://ijcsis.org/papers/vol17no4/A-2637.pdf))[2]. Penelitian ini mengeksplorasi tantangan dalam merekomendasikan judul anime dan mengusulkan pendekatan hybrid untuk mengatasinya. Studi ini mencakup penjelasan rinci tentang arsitektur sistem rekomendasi, preprocessing data, dan algoritma yang digunakan untuk penyaringan kolaboratif dan penyaringan berbasis konten. Penelitian ini juga menyajikan hasil eksperimen dan evaluasi untuk menilai kinerja dan efektivitas sistem yang diusulkan."
      ],
      "metadata": {
        "id": "hSjEnX4O-ZuA"
      }
    },
    {
      "cell_type": "markdown",
      "source": [
        "## Business Understanding\n",
        "Sistem rekomendasi anime memiliki implikasi bisnis yang signifikan bagi industri anime. Dengan memanfaatkan data dan analitik pengguna, bisnis dapat lebih memahami audiens mereka dan memberikan rekomendasi yang dipersonalisasi yang meningkatkan pengalaman pengguna secara keseluruhan dan mendorong pertumbuhan bisnis."
      ],
      "metadata": {
        "id": "mbEAmZkd-orK"
      }
    },
    {
      "cell_type": "markdown",
      "source": [
        "### Problem Statements\n",
        "Berdasarkan uraian sebelumnya, rumusan masalah dalam proyek ini adalah:\n",
        "- Berdasarkan data yang tersedia, bagaimana membuat sistem rekomendasi dengan teknik *content-based filtering*?\n",
        "- Dengan data rating dari *user*, bagaimana perusahaan dapat merekomendasikan anime lain yang mungkin disukai dan belum pernah ditonton *user*?"
      ],
      "metadata": {
        "id": "RuCIBRcL-2ce"
      }
    },
    {
      "cell_type": "markdown",
      "source": [
        "### Goals\n",
        "Tujuan yang ingin dicapai dari proyek ini adalah:\n",
        "- Menghasilkan sistem rekomendasi anime berdasarkan kemiripan *features*-nya.\n",
        "- Menghasilkan sistem rekomendasi anime berdasarkan kemiripan penilaian *user* terhadap *anime* yang sudah pernah ditonton sebelumnya."
      ],
      "metadata": {
        "id": "FBWwdEqH-8Ra"
      }
    },
    {
      "cell_type": "markdown",
      "source": [
        "### Solution approach\n",
        "Solusi yang diajukan untuk menyelesaikan permasalahan adalah:\n",
        "1. Membuat sistem rekomendasi dengan teknik content-based filtering berdasarkan *features* anime.\n",
        "2. Membuat sistem rekomendasi dengan teknik collaborative filtering berdasarkan rating dari *user*."
      ],
      "metadata": {
        "id": "CAX9Mknt--FI"
      }
    },
    {
      "cell_type": "markdown",
      "source": [
        "## Data Understanding\n",
        "Kita akan menggunakan dataset [Anime Recomendation System](https://www.kaggle.com/datasets/CooperUnion/anime-recommendations-database)[4] yang tersedia di Kaggle.\n",
        "\n",
        "Variabel-variabel pada Anime Recommendation System dataset adalah sebagai berikut:\n",
        "Anime.csv\n",
        "* anime_id - ID unik myanimelist.net yang mengidentifikasi anime.\n",
        "* name - Nama lengkap anime\n",
        "* genre - Daftar genre yang dipisahkan koma untuk anime ini.\n",
        "* type - movie, TV, OVA, etc.\n",
        "* episodes - Jumlah episode dalam anime ini. (1 jika type adalah movie).\n",
        "* rating - Rating rata-rata (skala 1 sampai 10) untuk anime ini.\n",
        "* members - Jumlah anggota komunitas yang tergabung dalam \"grup\" anime ini.\n",
        "\n",
        "Rating.csv\n",
        "* user_id - ID user yang dihasilkan secara acak sehingga tidak dapat diidentifikasi.\n",
        "* anime_id - Anime yang telah diberi peringkat oleh user ini.\n",
        "* rating - Peringkat (skala 1 sampai 10) yang diberikan pengguna ini (-1 jika user menontonnya tetapi tidak memberikan peringkat)."
      ],
      "metadata": {
        "id": "YDv2BPKG_Fkc"
      }
    },
    {
      "cell_type": "markdown",
      "source": [
        "### Exploratory Data Analysis (EDA)"
      ],
      "metadata": {
        "id": "XLcU-uP5AdBb"
      }
    },
    {
      "cell_type": "markdown",
      "source": [
        "#### Import Library"
      ],
      "metadata": {
        "id": "iqBZsskXwYxQ"
      }
    },
    {
      "cell_type": "code",
      "source": [
        "import numpy as np\n",
        "import pandas as pd\n",
        "import seaborn as sns\n",
        "import tensorflow as tf\n",
        "import matplotlib.pyplot as plt\n",
        "\n",
        "from sklearn.feature_extraction.text import TfidfVectorizer\n",
        "from sklearn.metrics.pairwise import cosine_similarity\n",
        "from sklearn.metrics.pairwise import linear_kernel\n",
        "from sklearn.model_selection import train_test_split\n",
        "\n",
        "import tensorflow as tf\n",
        "from tensorflow import keras\n",
        "from tensorflow.keras import layers\n",
        "\n",
        "import warnings\n",
        "warnings.filterwarnings(\"ignore\")"
      ],
      "metadata": {
        "id": "4AhlUGIBxQmi"
      },
      "execution_count": null,
      "outputs": []
    },
    {
      "cell_type": "markdown",
      "source": [
        "#### Data Loading"
      ],
      "metadata": {
        "id": "YSB087Xk55eb"
      }
    },
    {
      "cell_type": "markdown",
      "source": [
        "Download dataset dari Kaggle menggunakan API"
      ],
      "metadata": {
        "id": "eQxoGmrMxYF9"
      }
    },
    {
      "cell_type": "code",
      "source": [
        "! pip install -q kaggle"
      ],
      "metadata": {
        "id": "gJOO9gA9yG_F"
      },
      "execution_count": null,
      "outputs": []
    },
    {
      "cell_type": "code",
      "source": [
        "from google.colab import files\n",
        "files.upload()"
      ],
      "metadata": {
        "colab": {
          "base_uri": "https://localhost:8080/",
          "height": 92
        },
        "id": "7I2XjjbUwX6I",
        "outputId": "b65436da-754d-46dc-c239-293a222532bc"
      },
      "execution_count": null,
      "outputs": [
        {
          "output_type": "display_data",
          "data": {
            "text/plain": [
              "<IPython.core.display.HTML object>"
            ],
            "text/html": [
              "\n",
              "     <input type=\"file\" id=\"files-1c0c7a49-7f2c-4dd0-abfc-7cdd2d95f856\" name=\"files[]\" multiple disabled\n",
              "        style=\"border:none\" />\n",
              "     <output id=\"result-1c0c7a49-7f2c-4dd0-abfc-7cdd2d95f856\">\n",
              "      Upload widget is only available when the cell has been executed in the\n",
              "      current browser session. Please rerun this cell to enable.\n",
              "      </output>\n",
              "      <script>// Copyright 2017 Google LLC\n",
              "//\n",
              "// Licensed under the Apache License, Version 2.0 (the \"License\");\n",
              "// you may not use this file except in compliance with the License.\n",
              "// You may obtain a copy of the License at\n",
              "//\n",
              "//      http://www.apache.org/licenses/LICENSE-2.0\n",
              "//\n",
              "// Unless required by applicable law or agreed to in writing, software\n",
              "// distributed under the License is distributed on an \"AS IS\" BASIS,\n",
              "// WITHOUT WARRANTIES OR CONDITIONS OF ANY KIND, either express or implied.\n",
              "// See the License for the specific language governing permissions and\n",
              "// limitations under the License.\n",
              "\n",
              "/**\n",
              " * @fileoverview Helpers for google.colab Python module.\n",
              " */\n",
              "(function(scope) {\n",
              "function span(text, styleAttributes = {}) {\n",
              "  const element = document.createElement('span');\n",
              "  element.textContent = text;\n",
              "  for (const key of Object.keys(styleAttributes)) {\n",
              "    element.style[key] = styleAttributes[key];\n",
              "  }\n",
              "  return element;\n",
              "}\n",
              "\n",
              "// Max number of bytes which will be uploaded at a time.\n",
              "const MAX_PAYLOAD_SIZE = 100 * 1024;\n",
              "\n",
              "function _uploadFiles(inputId, outputId) {\n",
              "  const steps = uploadFilesStep(inputId, outputId);\n",
              "  const outputElement = document.getElementById(outputId);\n",
              "  // Cache steps on the outputElement to make it available for the next call\n",
              "  // to uploadFilesContinue from Python.\n",
              "  outputElement.steps = steps;\n",
              "\n",
              "  return _uploadFilesContinue(outputId);\n",
              "}\n",
              "\n",
              "// This is roughly an async generator (not supported in the browser yet),\n",
              "// where there are multiple asynchronous steps and the Python side is going\n",
              "// to poll for completion of each step.\n",
              "// This uses a Promise to block the python side on completion of each step,\n",
              "// then passes the result of the previous step as the input to the next step.\n",
              "function _uploadFilesContinue(outputId) {\n",
              "  const outputElement = document.getElementById(outputId);\n",
              "  const steps = outputElement.steps;\n",
              "\n",
              "  const next = steps.next(outputElement.lastPromiseValue);\n",
              "  return Promise.resolve(next.value.promise).then((value) => {\n",
              "    // Cache the last promise value to make it available to the next\n",
              "    // step of the generator.\n",
              "    outputElement.lastPromiseValue = value;\n",
              "    return next.value.response;\n",
              "  });\n",
              "}\n",
              "\n",
              "/**\n",
              " * Generator function which is called between each async step of the upload\n",
              " * process.\n",
              " * @param {string} inputId Element ID of the input file picker element.\n",
              " * @param {string} outputId Element ID of the output display.\n",
              " * @return {!Iterable<!Object>} Iterable of next steps.\n",
              " */\n",
              "function* uploadFilesStep(inputId, outputId) {\n",
              "  const inputElement = document.getElementById(inputId);\n",
              "  inputElement.disabled = false;\n",
              "\n",
              "  const outputElement = document.getElementById(outputId);\n",
              "  outputElement.innerHTML = '';\n",
              "\n",
              "  const pickedPromise = new Promise((resolve) => {\n",
              "    inputElement.addEventListener('change', (e) => {\n",
              "      resolve(e.target.files);\n",
              "    });\n",
              "  });\n",
              "\n",
              "  const cancel = document.createElement('button');\n",
              "  inputElement.parentElement.appendChild(cancel);\n",
              "  cancel.textContent = 'Cancel upload';\n",
              "  const cancelPromise = new Promise((resolve) => {\n",
              "    cancel.onclick = () => {\n",
              "      resolve(null);\n",
              "    };\n",
              "  });\n",
              "\n",
              "  // Wait for the user to pick the files.\n",
              "  const files = yield {\n",
              "    promise: Promise.race([pickedPromise, cancelPromise]),\n",
              "    response: {\n",
              "      action: 'starting',\n",
              "    }\n",
              "  };\n",
              "\n",
              "  cancel.remove();\n",
              "\n",
              "  // Disable the input element since further picks are not allowed.\n",
              "  inputElement.disabled = true;\n",
              "\n",
              "  if (!files) {\n",
              "    return {\n",
              "      response: {\n",
              "        action: 'complete',\n",
              "      }\n",
              "    };\n",
              "  }\n",
              "\n",
              "  for (const file of files) {\n",
              "    const li = document.createElement('li');\n",
              "    li.append(span(file.name, {fontWeight: 'bold'}));\n",
              "    li.append(span(\n",
              "        `(${file.type || 'n/a'}) - ${file.size} bytes, ` +\n",
              "        `last modified: ${\n",
              "            file.lastModifiedDate ? file.lastModifiedDate.toLocaleDateString() :\n",
              "                                    'n/a'} - `));\n",
              "    const percent = span('0% done');\n",
              "    li.appendChild(percent);\n",
              "\n",
              "    outputElement.appendChild(li);\n",
              "\n",
              "    const fileDataPromise = new Promise((resolve) => {\n",
              "      const reader = new FileReader();\n",
              "      reader.onload = (e) => {\n",
              "        resolve(e.target.result);\n",
              "      };\n",
              "      reader.readAsArrayBuffer(file);\n",
              "    });\n",
              "    // Wait for the data to be ready.\n",
              "    let fileData = yield {\n",
              "      promise: fileDataPromise,\n",
              "      response: {\n",
              "        action: 'continue',\n",
              "      }\n",
              "    };\n",
              "\n",
              "    // Use a chunked sending to avoid message size limits. See b/62115660.\n",
              "    let position = 0;\n",
              "    do {\n",
              "      const length = Math.min(fileData.byteLength - position, MAX_PAYLOAD_SIZE);\n",
              "      const chunk = new Uint8Array(fileData, position, length);\n",
              "      position += length;\n",
              "\n",
              "      const base64 = btoa(String.fromCharCode.apply(null, chunk));\n",
              "      yield {\n",
              "        response: {\n",
              "          action: 'append',\n",
              "          file: file.name,\n",
              "          data: base64,\n",
              "        },\n",
              "      };\n",
              "\n",
              "      let percentDone = fileData.byteLength === 0 ?\n",
              "          100 :\n",
              "          Math.round((position / fileData.byteLength) * 100);\n",
              "      percent.textContent = `${percentDone}% done`;\n",
              "\n",
              "    } while (position < fileData.byteLength);\n",
              "  }\n",
              "\n",
              "  // All done.\n",
              "  yield {\n",
              "    response: {\n",
              "      action: 'complete',\n",
              "    }\n",
              "  };\n",
              "}\n",
              "\n",
              "scope.google = scope.google || {};\n",
              "scope.google.colab = scope.google.colab || {};\n",
              "scope.google.colab._files = {\n",
              "  _uploadFiles,\n",
              "  _uploadFilesContinue,\n",
              "};\n",
              "})(self);\n",
              "</script> "
            ]
          },
          "metadata": {}
        },
        {
          "output_type": "stream",
          "name": "stdout",
          "text": [
            "Saving kaggle.json to kaggle.json\n"
          ]
        },
        {
          "output_type": "execute_result",
          "data": {
            "text/plain": [
              "{'kaggle.json': b'{\"username\":\"pasryd\",\"key\":\"74ea6524693cb93d8e23acbbf0d72b85\"}'}"
            ]
          },
          "metadata": {},
          "execution_count": 3
        }
      ]
    },
    {
      "cell_type": "code",
      "source": [
        "!rm -r ~/.kaggle # Hapus folder ~/.kaggle sebelumnya jika ada\n",
        "!mkdir ~/.kaggle # Buat folder baru\n",
        "!mv ./kaggle.json ~/.kaggle/ # Pindah API json ke ~/.kaggle\n",
        "!chmod 600 ~/.kaggle/kaggle.json # Untuk keamanan Token akan direset setelah data selesai diunduh"
      ],
      "metadata": {
        "id": "LeJNDeo2xo80",
        "colab": {
          "base_uri": "https://localhost:8080/"
        },
        "outputId": "3d2eb030-fcc2-4ffb-9910-bb9e068707f0"
      },
      "execution_count": null,
      "outputs": [
        {
          "output_type": "stream",
          "name": "stdout",
          "text": [
            "rm: cannot remove '/root/.kaggle': No such file or directory\n"
          ]
        }
      ]
    },
    {
      "cell_type": "code",
      "source": [
        "!kaggle datasets download -d CooperUnion/anime-recommendations-database"
      ],
      "metadata": {
        "colab": {
          "base_uri": "https://localhost:8080/"
        },
        "id": "frMYSs-p3XlK",
        "outputId": "080c09ec-9086-48ae-eae4-0693269dff09"
      },
      "execution_count": null,
      "outputs": [
        {
          "output_type": "stream",
          "name": "stdout",
          "text": [
            "Downloading anime-recommendations-database.zip to /content\n",
            " 84% 21.0M/25.0M [00:01<00:00, 17.5MB/s]\n",
            "100% 25.0M/25.0M [00:01<00:00, 16.8MB/s]\n"
          ]
        }
      ]
    },
    {
      "cell_type": "code",
      "source": [
        "# Unzip\n",
        "!unzip -q anime-recommendations-database.zip"
      ],
      "metadata": {
        "id": "zyOI3Jir5tSi"
      },
      "execution_count": null,
      "outputs": []
    },
    {
      "cell_type": "code",
      "source": [
        "anime = pd.read_csv('anime.csv') # Anime Dataset\n",
        "rating = pd.read_csv('rating.csv') # Rating Dataset"
      ],
      "metadata": {
        "id": "4ZOiV7QQ6DrG"
      },
      "execution_count": null,
      "outputs": []
    },
    {
      "cell_type": "markdown",
      "source": [
        "#### Data Cleaning & Visualization"
      ],
      "metadata": {
        "id": "RKW8Ydz4B8q0"
      }
    },
    {
      "cell_type": "markdown",
      "source": [
        "##### Anime Dataset"
      ],
      "metadata": {
        "id": "in9RH5rQ7WCb"
      }
    },
    {
      "cell_type": "markdown",
      "source": [
        "Pertama-tama mari kita lihat isi dari data Anime"
      ],
      "metadata": {
        "id": "0mnyIEQkCKwE"
      }
    },
    {
      "cell_type": "code",
      "source": [
        "anime.head()"
      ],
      "metadata": {
        "colab": {
          "base_uri": "https://localhost:8080/",
          "height": 206
        },
        "id": "ecmbhNP96emp",
        "outputId": "632d411d-86e2-4c3e-a507-677a650cefd8"
      },
      "execution_count": null,
      "outputs": [
        {
          "output_type": "execute_result",
          "data": {
            "text/plain": [
              "   anime_id                              name  \\\n",
              "0     32281                    Kimi no Na wa.   \n",
              "1      5114  Fullmetal Alchemist: Brotherhood   \n",
              "2     28977                          Gintama°   \n",
              "3      9253                       Steins;Gate   \n",
              "4      9969                     Gintama&#039;   \n",
              "\n",
              "                                               genre   type episodes  rating  \\\n",
              "0               Drama, Romance, School, Supernatural  Movie        1    9.37   \n",
              "1  Action, Adventure, Drama, Fantasy, Magic, Mili...     TV       64    9.26   \n",
              "2  Action, Comedy, Historical, Parody, Samurai, S...     TV       51    9.25   \n",
              "3                                   Sci-Fi, Thriller     TV       24    9.17   \n",
              "4  Action, Comedy, Historical, Parody, Samurai, S...     TV       51    9.16   \n",
              "\n",
              "   members  \n",
              "0   200630  \n",
              "1   793665  \n",
              "2   114262  \n",
              "3   673572  \n",
              "4   151266  "
            ],
            "text/html": [
              "\n",
              "  <div id=\"df-09472747-5f83-4bb6-a59c-8e640c665191\">\n",
              "    <div class=\"colab-df-container\">\n",
              "      <div>\n",
              "<style scoped>\n",
              "    .dataframe tbody tr th:only-of-type {\n",
              "        vertical-align: middle;\n",
              "    }\n",
              "\n",
              "    .dataframe tbody tr th {\n",
              "        vertical-align: top;\n",
              "    }\n",
              "\n",
              "    .dataframe thead th {\n",
              "        text-align: right;\n",
              "    }\n",
              "</style>\n",
              "<table border=\"1\" class=\"dataframe\">\n",
              "  <thead>\n",
              "    <tr style=\"text-align: right;\">\n",
              "      <th></th>\n",
              "      <th>anime_id</th>\n",
              "      <th>name</th>\n",
              "      <th>genre</th>\n",
              "      <th>type</th>\n",
              "      <th>episodes</th>\n",
              "      <th>rating</th>\n",
              "      <th>members</th>\n",
              "    </tr>\n",
              "  </thead>\n",
              "  <tbody>\n",
              "    <tr>\n",
              "      <th>0</th>\n",
              "      <td>32281</td>\n",
              "      <td>Kimi no Na wa.</td>\n",
              "      <td>Drama, Romance, School, Supernatural</td>\n",
              "      <td>Movie</td>\n",
              "      <td>1</td>\n",
              "      <td>9.37</td>\n",
              "      <td>200630</td>\n",
              "    </tr>\n",
              "    <tr>\n",
              "      <th>1</th>\n",
              "      <td>5114</td>\n",
              "      <td>Fullmetal Alchemist: Brotherhood</td>\n",
              "      <td>Action, Adventure, Drama, Fantasy, Magic, Mili...</td>\n",
              "      <td>TV</td>\n",
              "      <td>64</td>\n",
              "      <td>9.26</td>\n",
              "      <td>793665</td>\n",
              "    </tr>\n",
              "    <tr>\n",
              "      <th>2</th>\n",
              "      <td>28977</td>\n",
              "      <td>Gintama°</td>\n",
              "      <td>Action, Comedy, Historical, Parody, Samurai, S...</td>\n",
              "      <td>TV</td>\n",
              "      <td>51</td>\n",
              "      <td>9.25</td>\n",
              "      <td>114262</td>\n",
              "    </tr>\n",
              "    <tr>\n",
              "      <th>3</th>\n",
              "      <td>9253</td>\n",
              "      <td>Steins;Gate</td>\n",
              "      <td>Sci-Fi, Thriller</td>\n",
              "      <td>TV</td>\n",
              "      <td>24</td>\n",
              "      <td>9.17</td>\n",
              "      <td>673572</td>\n",
              "    </tr>\n",
              "    <tr>\n",
              "      <th>4</th>\n",
              "      <td>9969</td>\n",
              "      <td>Gintama&amp;#039;</td>\n",
              "      <td>Action, Comedy, Historical, Parody, Samurai, S...</td>\n",
              "      <td>TV</td>\n",
              "      <td>51</td>\n",
              "      <td>9.16</td>\n",
              "      <td>151266</td>\n",
              "    </tr>\n",
              "  </tbody>\n",
              "</table>\n",
              "</div>\n",
              "      <button class=\"colab-df-convert\" onclick=\"convertToInteractive('df-09472747-5f83-4bb6-a59c-8e640c665191')\"\n",
              "              title=\"Convert this dataframe to an interactive table.\"\n",
              "              style=\"display:none;\">\n",
              "        \n",
              "  <svg xmlns=\"http://www.w3.org/2000/svg\" height=\"24px\"viewBox=\"0 0 24 24\"\n",
              "       width=\"24px\">\n",
              "    <path d=\"M0 0h24v24H0V0z\" fill=\"none\"/>\n",
              "    <path d=\"M18.56 5.44l.94 2.06.94-2.06 2.06-.94-2.06-.94-.94-2.06-.94 2.06-2.06.94zm-11 1L8.5 8.5l.94-2.06 2.06-.94-2.06-.94L8.5 2.5l-.94 2.06-2.06.94zm10 10l.94 2.06.94-2.06 2.06-.94-2.06-.94-.94-2.06-.94 2.06-2.06.94z\"/><path d=\"M17.41 7.96l-1.37-1.37c-.4-.4-.92-.59-1.43-.59-.52 0-1.04.2-1.43.59L10.3 9.45l-7.72 7.72c-.78.78-.78 2.05 0 2.83L4 21.41c.39.39.9.59 1.41.59.51 0 1.02-.2 1.41-.59l7.78-7.78 2.81-2.81c.8-.78.8-2.07 0-2.86zM5.41 20L4 18.59l7.72-7.72 1.47 1.35L5.41 20z\"/>\n",
              "  </svg>\n",
              "      </button>\n",
              "      \n",
              "  <style>\n",
              "    .colab-df-container {\n",
              "      display:flex;\n",
              "      flex-wrap:wrap;\n",
              "      gap: 12px;\n",
              "    }\n",
              "\n",
              "    .colab-df-convert {\n",
              "      background-color: #E8F0FE;\n",
              "      border: none;\n",
              "      border-radius: 50%;\n",
              "      cursor: pointer;\n",
              "      display: none;\n",
              "      fill: #1967D2;\n",
              "      height: 32px;\n",
              "      padding: 0 0 0 0;\n",
              "      width: 32px;\n",
              "    }\n",
              "\n",
              "    .colab-df-convert:hover {\n",
              "      background-color: #E2EBFA;\n",
              "      box-shadow: 0px 1px 2px rgba(60, 64, 67, 0.3), 0px 1px 3px 1px rgba(60, 64, 67, 0.15);\n",
              "      fill: #174EA6;\n",
              "    }\n",
              "\n",
              "    [theme=dark] .colab-df-convert {\n",
              "      background-color: #3B4455;\n",
              "      fill: #D2E3FC;\n",
              "    }\n",
              "\n",
              "    [theme=dark] .colab-df-convert:hover {\n",
              "      background-color: #434B5C;\n",
              "      box-shadow: 0px 1px 3px 1px rgba(0, 0, 0, 0.15);\n",
              "      filter: drop-shadow(0px 1px 2px rgba(0, 0, 0, 0.3));\n",
              "      fill: #FFFFFF;\n",
              "    }\n",
              "  </style>\n",
              "\n",
              "      <script>\n",
              "        const buttonEl =\n",
              "          document.querySelector('#df-09472747-5f83-4bb6-a59c-8e640c665191 button.colab-df-convert');\n",
              "        buttonEl.style.display =\n",
              "          google.colab.kernel.accessAllowed ? 'block' : 'none';\n",
              "\n",
              "        async function convertToInteractive(key) {\n",
              "          const element = document.querySelector('#df-09472747-5f83-4bb6-a59c-8e640c665191');\n",
              "          const dataTable =\n",
              "            await google.colab.kernel.invokeFunction('convertToInteractive',\n",
              "                                                     [key], {});\n",
              "          if (!dataTable) return;\n",
              "\n",
              "          const docLinkHtml = 'Like what you see? Visit the ' +\n",
              "            '<a target=\"_blank\" href=https://colab.research.google.com/notebooks/data_table.ipynb>data table notebook</a>'\n",
              "            + ' to learn more about interactive tables.';\n",
              "          element.innerHTML = '';\n",
              "          dataTable['output_type'] = 'display_data';\n",
              "          await google.colab.output.renderOutput(dataTable, element);\n",
              "          const docLink = document.createElement('div');\n",
              "          docLink.innerHTML = docLinkHtml;\n",
              "          element.appendChild(docLink);\n",
              "        }\n",
              "      </script>\n",
              "    </div>\n",
              "  </div>\n",
              "  "
            ]
          },
          "metadata": {},
          "execution_count": 8
        }
      ]
    },
    {
      "cell_type": "code",
      "source": [
        "anime.shape"
      ],
      "metadata": {
        "colab": {
          "base_uri": "https://localhost:8080/"
        },
        "id": "R1AJckkp70i6",
        "outputId": "28649760-9d7e-4c6f-847d-d722fe7fe488"
      },
      "execution_count": null,
      "outputs": [
        {
          "output_type": "execute_result",
          "data": {
            "text/plain": [
              "(12294, 7)"
            ]
          },
          "metadata": {},
          "execution_count": 9
        }
      ]
    },
    {
      "cell_type": "markdown",
      "source": [
        "Pada Anime Dataset terdapat 12294 baris dan 7 kolom."
      ],
      "metadata": {
        "id": "bKTiJWgO94LC"
      }
    },
    {
      "cell_type": "code",
      "source": [
        "anime.info()"
      ],
      "metadata": {
        "colab": {
          "base_uri": "https://localhost:8080/"
        },
        "id": "Zh51zWO47PkD",
        "outputId": "862f9b16-f2c5-40aa-eb64-7215c1d7c1b3"
      },
      "execution_count": null,
      "outputs": [
        {
          "output_type": "stream",
          "name": "stdout",
          "text": [
            "<class 'pandas.core.frame.DataFrame'>\n",
            "RangeIndex: 12294 entries, 0 to 12293\n",
            "Data columns (total 7 columns):\n",
            " #   Column    Non-Null Count  Dtype  \n",
            "---  ------    --------------  -----  \n",
            " 0   anime_id  12294 non-null  int64  \n",
            " 1   name      12294 non-null  object \n",
            " 2   genre     12232 non-null  object \n",
            " 3   type      12269 non-null  object \n",
            " 4   episodes  12294 non-null  object \n",
            " 5   rating    12064 non-null  float64\n",
            " 6   members   12294 non-null  int64  \n",
            "dtypes: float64(1), int64(2), object(4)\n",
            "memory usage: 672.5+ KB\n"
          ]
        }
      ]
    },
    {
      "cell_type": "markdown",
      "source": [
        "Pada dataset anime terdapat:\n",
        "-   3 kolom numerikal (anime_id, rating, members)\n",
        "-   4 kolom kategorikal (name, genre, type, episodes)\n",
        "\n",
        "Sedikit aneh jika episodes masuk dalam tipe kategorikal kita perlu lihat lebih detil."
      ],
      "metadata": {
        "id": "-nY1l_X8-O-E"
      }
    },
    {
      "cell_type": "code",
      "source": [
        "anime.episodes.sort_values(ascending=False)"
      ],
      "metadata": {
        "colab": {
          "base_uri": "https://localhost:8080/"
        },
        "id": "izdSvStqHlHt",
        "outputId": "1616fd4e-0a14-439a-e45b-0af75b64ef15"
      },
      "execution_count": null,
      "outputs": [
        {
          "output_type": "execute_result",
          "data": {
            "text/plain": [
              "8480     Unknown\n",
              "10902    Unknown\n",
              "10918    Unknown\n",
              "10917    Unknown\n",
              "10915    Unknown\n",
              "          ...   \n",
              "6599           1\n",
              "6596           1\n",
              "6594           1\n",
              "6591           1\n",
              "12293          1\n",
              "Name: episodes, Length: 12294, dtype: object"
            ]
          },
          "metadata": {},
          "execution_count": 11
        }
      ]
    },
    {
      "cell_type": "markdown",
      "source": [
        "Ternyata ada episode yang dikategorikan Unknown, kita coba hitung ada berapa anime yang memiliki keterangan episodes Unknown."
      ],
      "metadata": {
        "id": "a68BNEmoI_IR"
      }
    },
    {
      "cell_type": "code",
      "source": [
        "anime.episodes.value_counts()['Unknown']"
      ],
      "metadata": {
        "colab": {
          "base_uri": "https://localhost:8080/"
        },
        "id": "KNbD0zFFJLOw",
        "outputId": "957cea87-5c0b-4558-ce6c-2f6ab317f2bd"
      },
      "execution_count": null,
      "outputs": [
        {
          "output_type": "execute_result",
          "data": {
            "text/plain": [
              "340"
            ]
          },
          "metadata": {},
          "execution_count": 12
        }
      ]
    },
    {
      "cell_type": "markdown",
      "source": [
        "Terdapat 340 Anime dengan jumlah episode tidak diketahui, karena proporsi jumlahnya sedikit, kita dapat membuang data tersebut."
      ],
      "metadata": {
        "id": "hiHCdGXeOJNz"
      }
    },
    {
      "cell_type": "code",
      "source": [
        "anime_clean = anime.drop(anime[anime['episodes'] == 'Unknown'].index)"
      ],
      "metadata": {
        "id": "67943E6xOLOK"
      },
      "execution_count": null,
      "outputs": []
    },
    {
      "cell_type": "markdown",
      "source": [
        "Kita akan sesuaikan tipenya menjadi int"
      ],
      "metadata": {
        "id": "hYKuWXn1P4dh"
      }
    },
    {
      "cell_type": "code",
      "source": [
        "anime_clean['episodes'] = anime_clean['episodes'].astype(int)"
      ],
      "metadata": {
        "id": "sfjUQt5AP3CJ"
      },
      "execution_count": null,
      "outputs": []
    },
    {
      "cell_type": "code",
      "source": [
        "anime_clean.info()"
      ],
      "metadata": {
        "colab": {
          "base_uri": "https://localhost:8080/"
        },
        "id": "ARh9DFzfPxgC",
        "outputId": "9edd4fbf-0cbd-48bc-e28c-3e974250cd97"
      },
      "execution_count": null,
      "outputs": [
        {
          "output_type": "stream",
          "name": "stdout",
          "text": [
            "<class 'pandas.core.frame.DataFrame'>\n",
            "Int64Index: 11954 entries, 0 to 12293\n",
            "Data columns (total 7 columns):\n",
            " #   Column    Non-Null Count  Dtype  \n",
            "---  ------    --------------  -----  \n",
            " 0   anime_id  11954 non-null  int64  \n",
            " 1   name      11954 non-null  object \n",
            " 2   genre     11903 non-null  object \n",
            " 3   type      11954 non-null  object \n",
            " 4   episodes  11954 non-null  int64  \n",
            " 5   rating    11876 non-null  float64\n",
            " 6   members   11954 non-null  int64  \n",
            "dtypes: float64(1), int64(3), object(3)\n",
            "memory usage: 747.1+ KB\n"
          ]
        }
      ]
    },
    {
      "cell_type": "code",
      "source": [
        "anime_clean.shape"
      ],
      "metadata": {
        "colab": {
          "base_uri": "https://localhost:8080/"
        },
        "id": "EMu-zV7XRzpN",
        "outputId": "2f12298c-7f1e-4c3d-cb37-ac2a4aa07df1"
      },
      "execution_count": null,
      "outputs": [
        {
          "output_type": "execute_result",
          "data": {
            "text/plain": [
              "(11954, 7)"
            ]
          },
          "metadata": {},
          "execution_count": 16
        }
      ]
    },
    {
      "cell_type": "markdown",
      "source": [
        "Terdapat pengurangan baris data sebanyak 340 dari 12294 menjadi 11954."
      ],
      "metadata": {
        "id": "UreZBrwhSB9f"
      }
    },
    {
      "cell_type": "markdown",
      "source": [
        "Check duplikasi data"
      ],
      "metadata": {
        "id": "S5h6FmVN-rQw"
      }
    },
    {
      "cell_type": "code",
      "source": [
        "print('Jumlah anime unik pada data:', anime_clean['anime_id'].nunique())\n",
        "print('Jumlah anime yang duplikat pada data:', len(anime_clean[anime_clean['anime_id'].duplicated()]))"
      ],
      "metadata": {
        "colab": {
          "base_uri": "https://localhost:8080/"
        },
        "id": "rcLX0IZg-n1y",
        "outputId": "f6fd8ef1-e821-4c56-d545-f385ad07aeae"
      },
      "execution_count": null,
      "outputs": [
        {
          "output_type": "stream",
          "name": "stdout",
          "text": [
            "Jumlah anime unik pada data: 11954\n",
            "Jumlah anime yang duplikat pada data: 0\n"
          ]
        }
      ]
    },
    {
      "cell_type": "markdown",
      "source": [
        "Seluruh anime_id pada data adalah unik, tidak ada duplikasi."
      ],
      "metadata": {
        "id": "deaG8Vbi_DuZ"
      }
    },
    {
      "cell_type": "markdown",
      "source": [
        "Check jika ada nilai Null"
      ],
      "metadata": {
        "id": "F7n_1si8_m4y"
      }
    },
    {
      "cell_type": "code",
      "source": [
        "anime_clean.isnull().sum()"
      ],
      "metadata": {
        "colab": {
          "base_uri": "https://localhost:8080/"
        },
        "id": "YgGGztrE_PVE",
        "outputId": "fbdc2fdd-deee-4020-fec8-86c36922081c"
      },
      "execution_count": null,
      "outputs": [
        {
          "output_type": "execute_result",
          "data": {
            "text/plain": [
              "anime_id     0\n",
              "name         0\n",
              "genre       51\n",
              "type         0\n",
              "episodes     0\n",
              "rating      78\n",
              "members      0\n",
              "dtype: int64"
            ]
          },
          "metadata": {},
          "execution_count": 18
        }
      ]
    },
    {
      "cell_type": "markdown",
      "source": [
        "Terdapat sedikit nilai Null pada kolom genre dan rating. Kita akan buang untuk baris yang memiliki nilai Null tersebut."
      ],
      "metadata": {
        "id": "x_WQ0eTdC7Bz"
      }
    },
    {
      "cell_type": "code",
      "source": [
        "anime_clean.dropna(inplace=True)"
      ],
      "metadata": {
        "id": "9c8FwX1ZDJ1A"
      },
      "execution_count": null,
      "outputs": []
    },
    {
      "cell_type": "markdown",
      "source": [
        "Jumlah data yang Null setelah dilakukan proses drop NA"
      ],
      "metadata": {
        "id": "BJizm_xSDtXU"
      }
    },
    {
      "cell_type": "code",
      "source": [
        "anime_clean.isnull().sum()"
      ],
      "metadata": {
        "colab": {
          "base_uri": "https://localhost:8080/"
        },
        "id": "cgfG6g3-DoKS",
        "outputId": "5021efda-1942-4952-d8a6-62c1a5a7c110"
      },
      "execution_count": null,
      "outputs": [
        {
          "output_type": "execute_result",
          "data": {
            "text/plain": [
              "anime_id    0\n",
              "name        0\n",
              "genre       0\n",
              "type        0\n",
              "episodes    0\n",
              "rating      0\n",
              "members     0\n",
              "dtype: int64"
            ]
          },
          "metadata": {},
          "execution_count": 20
        }
      ]
    },
    {
      "cell_type": "code",
      "source": [
        "anime_clean.shape"
      ],
      "metadata": {
        "colab": {
          "base_uri": "https://localhost:8080/"
        },
        "id": "wRVknViuDhqf",
        "outputId": "fcc4daa1-983f-4a71-9325-fd0b87dff21b"
      },
      "execution_count": null,
      "outputs": [
        {
          "output_type": "execute_result",
          "data": {
            "text/plain": [
              "(11830, 7)"
            ]
          },
          "metadata": {},
          "execution_count": 21
        }
      ]
    },
    {
      "cell_type": "markdown",
      "source": [
        "Sehingga jumlah baris menjadi 11830 dari 11954 (berkurang 124 baris)"
      ],
      "metadata": {
        "id": "N4XOJ0s-EGSv"
      }
    },
    {
      "cell_type": "markdown",
      "source": [
        "Kita coba untuk melihat statistik dari data yang bersifat numerik"
      ],
      "metadata": {
        "id": "b7QvE1Ya3J-7"
      }
    },
    {
      "cell_type": "code",
      "source": [
        "anime_clean[['episodes','rating','members']].describe()"
      ],
      "metadata": {
        "colab": {
          "base_uri": "https://localhost:8080/",
          "height": 300
        },
        "id": "T3rS4NBU2VAi",
        "outputId": "a315a869-7848-4c41-b15b-2ae5a30df97c"
      },
      "execution_count": null,
      "outputs": [
        {
          "output_type": "execute_result",
          "data": {
            "text/plain": [
              "           episodes        rating       members\n",
              "count  11830.000000  11830.000000  1.183000e+04\n",
              "mean      12.486729      6.484609  1.851100e+04\n",
              "std       47.097131      1.019147  5.537144e+04\n",
              "min        1.000000      1.670000  1.200000e+01\n",
              "25%        1.000000      5.892500  2.322500e+02\n",
              "50%        2.000000      6.570000  1.589500e+03\n",
              "75%       12.000000      7.190000  9.832000e+03\n",
              "max     1818.000000     10.000000  1.013917e+06"
            ],
            "text/html": [
              "\n",
              "  <div id=\"df-b1ac8562-7a77-4b92-80de-f0f1c77f660d\">\n",
              "    <div class=\"colab-df-container\">\n",
              "      <div>\n",
              "<style scoped>\n",
              "    .dataframe tbody tr th:only-of-type {\n",
              "        vertical-align: middle;\n",
              "    }\n",
              "\n",
              "    .dataframe tbody tr th {\n",
              "        vertical-align: top;\n",
              "    }\n",
              "\n",
              "    .dataframe thead th {\n",
              "        text-align: right;\n",
              "    }\n",
              "</style>\n",
              "<table border=\"1\" class=\"dataframe\">\n",
              "  <thead>\n",
              "    <tr style=\"text-align: right;\">\n",
              "      <th></th>\n",
              "      <th>episodes</th>\n",
              "      <th>rating</th>\n",
              "      <th>members</th>\n",
              "    </tr>\n",
              "  </thead>\n",
              "  <tbody>\n",
              "    <tr>\n",
              "      <th>count</th>\n",
              "      <td>11830.000000</td>\n",
              "      <td>11830.000000</td>\n",
              "      <td>1.183000e+04</td>\n",
              "    </tr>\n",
              "    <tr>\n",
              "      <th>mean</th>\n",
              "      <td>12.486729</td>\n",
              "      <td>6.484609</td>\n",
              "      <td>1.851100e+04</td>\n",
              "    </tr>\n",
              "    <tr>\n",
              "      <th>std</th>\n",
              "      <td>47.097131</td>\n",
              "      <td>1.019147</td>\n",
              "      <td>5.537144e+04</td>\n",
              "    </tr>\n",
              "    <tr>\n",
              "      <th>min</th>\n",
              "      <td>1.000000</td>\n",
              "      <td>1.670000</td>\n",
              "      <td>1.200000e+01</td>\n",
              "    </tr>\n",
              "    <tr>\n",
              "      <th>25%</th>\n",
              "      <td>1.000000</td>\n",
              "      <td>5.892500</td>\n",
              "      <td>2.322500e+02</td>\n",
              "    </tr>\n",
              "    <tr>\n",
              "      <th>50%</th>\n",
              "      <td>2.000000</td>\n",
              "      <td>6.570000</td>\n",
              "      <td>1.589500e+03</td>\n",
              "    </tr>\n",
              "    <tr>\n",
              "      <th>75%</th>\n",
              "      <td>12.000000</td>\n",
              "      <td>7.190000</td>\n",
              "      <td>9.832000e+03</td>\n",
              "    </tr>\n",
              "    <tr>\n",
              "      <th>max</th>\n",
              "      <td>1818.000000</td>\n",
              "      <td>10.000000</td>\n",
              "      <td>1.013917e+06</td>\n",
              "    </tr>\n",
              "  </tbody>\n",
              "</table>\n",
              "</div>\n",
              "      <button class=\"colab-df-convert\" onclick=\"convertToInteractive('df-b1ac8562-7a77-4b92-80de-f0f1c77f660d')\"\n",
              "              title=\"Convert this dataframe to an interactive table.\"\n",
              "              style=\"display:none;\">\n",
              "        \n",
              "  <svg xmlns=\"http://www.w3.org/2000/svg\" height=\"24px\"viewBox=\"0 0 24 24\"\n",
              "       width=\"24px\">\n",
              "    <path d=\"M0 0h24v24H0V0z\" fill=\"none\"/>\n",
              "    <path d=\"M18.56 5.44l.94 2.06.94-2.06 2.06-.94-2.06-.94-.94-2.06-.94 2.06-2.06.94zm-11 1L8.5 8.5l.94-2.06 2.06-.94-2.06-.94L8.5 2.5l-.94 2.06-2.06.94zm10 10l.94 2.06.94-2.06 2.06-.94-2.06-.94-.94-2.06-.94 2.06-2.06.94z\"/><path d=\"M17.41 7.96l-1.37-1.37c-.4-.4-.92-.59-1.43-.59-.52 0-1.04.2-1.43.59L10.3 9.45l-7.72 7.72c-.78.78-.78 2.05 0 2.83L4 21.41c.39.39.9.59 1.41.59.51 0 1.02-.2 1.41-.59l7.78-7.78 2.81-2.81c.8-.78.8-2.07 0-2.86zM5.41 20L4 18.59l7.72-7.72 1.47 1.35L5.41 20z\"/>\n",
              "  </svg>\n",
              "      </button>\n",
              "      \n",
              "  <style>\n",
              "    .colab-df-container {\n",
              "      display:flex;\n",
              "      flex-wrap:wrap;\n",
              "      gap: 12px;\n",
              "    }\n",
              "\n",
              "    .colab-df-convert {\n",
              "      background-color: #E8F0FE;\n",
              "      border: none;\n",
              "      border-radius: 50%;\n",
              "      cursor: pointer;\n",
              "      display: none;\n",
              "      fill: #1967D2;\n",
              "      height: 32px;\n",
              "      padding: 0 0 0 0;\n",
              "      width: 32px;\n",
              "    }\n",
              "\n",
              "    .colab-df-convert:hover {\n",
              "      background-color: #E2EBFA;\n",
              "      box-shadow: 0px 1px 2px rgba(60, 64, 67, 0.3), 0px 1px 3px 1px rgba(60, 64, 67, 0.15);\n",
              "      fill: #174EA6;\n",
              "    }\n",
              "\n",
              "    [theme=dark] .colab-df-convert {\n",
              "      background-color: #3B4455;\n",
              "      fill: #D2E3FC;\n",
              "    }\n",
              "\n",
              "    [theme=dark] .colab-df-convert:hover {\n",
              "      background-color: #434B5C;\n",
              "      box-shadow: 0px 1px 3px 1px rgba(0, 0, 0, 0.15);\n",
              "      filter: drop-shadow(0px 1px 2px rgba(0, 0, 0, 0.3));\n",
              "      fill: #FFFFFF;\n",
              "    }\n",
              "  </style>\n",
              "\n",
              "      <script>\n",
              "        const buttonEl =\n",
              "          document.querySelector('#df-b1ac8562-7a77-4b92-80de-f0f1c77f660d button.colab-df-convert');\n",
              "        buttonEl.style.display =\n",
              "          google.colab.kernel.accessAllowed ? 'block' : 'none';\n",
              "\n",
              "        async function convertToInteractive(key) {\n",
              "          const element = document.querySelector('#df-b1ac8562-7a77-4b92-80de-f0f1c77f660d');\n",
              "          const dataTable =\n",
              "            await google.colab.kernel.invokeFunction('convertToInteractive',\n",
              "                                                     [key], {});\n",
              "          if (!dataTable) return;\n",
              "\n",
              "          const docLinkHtml = 'Like what you see? Visit the ' +\n",
              "            '<a target=\"_blank\" href=https://colab.research.google.com/notebooks/data_table.ipynb>data table notebook</a>'\n",
              "            + ' to learn more about interactive tables.';\n",
              "          element.innerHTML = '';\n",
              "          dataTable['output_type'] = 'display_data';\n",
              "          await google.colab.output.renderOutput(dataTable, element);\n",
              "          const docLink = document.createElement('div');\n",
              "          docLink.innerHTML = docLinkHtml;\n",
              "          element.appendChild(docLink);\n",
              "        }\n",
              "      </script>\n",
              "    </div>\n",
              "  </div>\n",
              "  "
            ]
          },
          "metadata": {},
          "execution_count": 22
        }
      ]
    },
    {
      "cell_type": "markdown",
      "source": [
        "Berdasarkan data tersebut kita dapat mengetahui bahwa:\n",
        "-   Jumlah episode paling sedikit adalah satu, sesuai deskripsi dataset angka 1 bisa saja anime bertipe Movie. Jumlah episode terbanyak adalah 1818.\n",
        "-   Rating anime terendah ada di angka 1.67 dan rating tertingginya adalah nilai maksimum yaitu 10.00 dengan rata-rata rating di 6.48.\n",
        "-   Jumlah member paling sedikit untuk satu judul anime adalah 16 member dan terbanyak di 1.013.917 member.\n",
        "\n",
        "Kita akan membagi episode, rating, dan member ini masing-masing ke dalam beberapa kategori pada tahapan Data preparation nanti. Tapi pertama-tama kita akan lihat dahulu distribusi anime berdasarkan tipenya."
      ],
      "metadata": {
        "id": "SSlSb_wF3PFE"
      }
    },
    {
      "cell_type": "code",
      "source": [
        "counts = anime_clean['type'].value_counts()\n",
        "percs = anime_clean['type'].value_counts(normalize=True).mul(100).round(1)\n",
        "\n",
        "# Concatenate results into one DataFrame\n",
        "anime_type = pd.concat([counts,percs], axis=1, keys=['count', 'percentage'])\n",
        "print(anime_type)"
      ],
      "metadata": {
        "colab": {
          "base_uri": "https://localhost:8080/"
        },
        "id": "To9Z74XMT3fP",
        "outputId": "383b31b5-f4b5-47d1-f422-32f32daeae2e"
      },
      "execution_count": null,
      "outputs": [
        {
          "output_type": "stream",
          "name": "stdout",
          "text": [
            "         count  percentage\n",
            "TV        3568        30.2\n",
            "OVA       3246        27.4\n",
            "Movie     2258        19.1\n",
            "Special   1665        14.1\n",
            "ONA        606         5.1\n",
            "Music      487         4.1\n"
          ]
        }
      ]
    },
    {
      "cell_type": "code",
      "source": [
        "# Extract labels and values from the DataFrame\n",
        "labels = anime_type.index.to_list()\n",
        "values = anime_type.percentage\n",
        "\n",
        "# Create the pie chart\n",
        "fig, ax = plt.subplots()\n",
        "ax.pie(values, labels=labels, autopct='%1.1f%%', startangle=90)\n",
        "\n",
        "# Add a title to the chart\n",
        "ax.set_title('Anime Type Distribution')\n",
        "\n",
        "# Equal aspect ratio ensures that pie is drawn as a circle\n",
        "ax.axis('equal')\n",
        "\n",
        "# Display the chart\n",
        "plt.show()"
      ],
      "metadata": {
        "colab": {
          "base_uri": "https://localhost:8080/",
          "height": 428
        },
        "id": "3LJx97tUVwkh",
        "outputId": "d6c2bbc3-a2fa-48e1-eab0-ea7baa288105"
      },
      "execution_count": null,
      "outputs": [
        {
          "output_type": "display_data",
          "data": {
            "text/plain": [
              "<Figure size 640x480 with 1 Axes>"
            ],
            "image/png": "[encoded data removed]"
          },
          "metadata": {}
        }
      ]
    },
    {
      "cell_type": "markdown",
      "source": [
        "Dapat kita lihat distribusi tipe anime paling banyak adalah serial TV disusul dengan OVA dan Movie di posisi ke tiga."
      ],
      "metadata": {
        "id": "wfHHdd3gWXEA"
      }
    },
    {
      "cell_type": "markdown",
      "source": [
        "##### Rating Dataset"
      ],
      "metadata": {
        "id": "AhvVQ0Om12Lx"
      }
    },
    {
      "cell_type": "markdown",
      "source": [
        "Selanjutnya kita akan melakukan eksplorasi untuk Rating dataset"
      ],
      "metadata": {
        "id": "zevFkRWNMOLP"
      }
    },
    {
      "cell_type": "code",
      "source": [
        "rating.head()"
      ],
      "metadata": {
        "colab": {
          "base_uri": "https://localhost:8080/",
          "height": 206
        },
        "id": "pbThfuki7FUb",
        "outputId": "810624c3-de7c-40ff-d5e2-b83290260245"
      },
      "execution_count": null,
      "outputs": [
        {
          "output_type": "execute_result",
          "data": {
            "text/plain": [
              "   user_id  anime_id  rating\n",
              "0        1        20      -1\n",
              "1        1        24      -1\n",
              "2        1        79      -1\n",
              "3        1       226      -1\n",
              "4        1       241      -1"
            ],
            "text/html": [
              "\n",
              "  <div id=\"df-7c37cce3-d8e1-4a9e-bdf7-36684e491c3b\">\n",
              "    <div class=\"colab-df-container\">\n",
              "      <div>\n",
              "<style scoped>\n",
              "    .dataframe tbody tr th:only-of-type {\n",
              "        vertical-align: middle;\n",
              "    }\n",
              "\n",
              "    .dataframe tbody tr th {\n",
              "        vertical-align: top;\n",
              "    }\n",
              "\n",
              "    .dataframe thead th {\n",
              "        text-align: right;\n",
              "    }\n",
              "</style>\n",
              "<table border=\"1\" class=\"dataframe\">\n",
              "  <thead>\n",
              "    <tr style=\"text-align: right;\">\n",
              "      <th></th>\n",
              "      <th>user_id</th>\n",
              "      <th>anime_id</th>\n",
              "      <th>rating</th>\n",
              "    </tr>\n",
              "  </thead>\n",
              "  <tbody>\n",
              "    <tr>\n",
              "      <th>0</th>\n",
              "      <td>1</td>\n",
              "      <td>20</td>\n",
              "      <td>-1</td>\n",
              "    </tr>\n",
              "    <tr>\n",
              "      <th>1</th>\n",
              "      <td>1</td>\n",
              "      <td>24</td>\n",
              "      <td>-1</td>\n",
              "    </tr>\n",
              "    <tr>\n",
              "      <th>2</th>\n",
              "      <td>1</td>\n",
              "      <td>79</td>\n",
              "      <td>-1</td>\n",
              "    </tr>\n",
              "    <tr>\n",
              "      <th>3</th>\n",
              "      <td>1</td>\n",
              "      <td>226</td>\n",
              "      <td>-1</td>\n",
              "    </tr>\n",
              "    <tr>\n",
              "      <th>4</th>\n",
              "      <td>1</td>\n",
              "      <td>241</td>\n",
              "      <td>-1</td>\n",
              "    </tr>\n",
              "  </tbody>\n",
              "</table>\n",
              "</div>\n",
              "      <button class=\"colab-df-convert\" onclick=\"convertToInteractive('df-7c37cce3-d8e1-4a9e-bdf7-36684e491c3b')\"\n",
              "              title=\"Convert this dataframe to an interactive table.\"\n",
              "              style=\"display:none;\">\n",
              "        \n",
              "  <svg xmlns=\"http://www.w3.org/2000/svg\" height=\"24px\"viewBox=\"0 0 24 24\"\n",
              "       width=\"24px\">\n",
              "    <path d=\"M0 0h24v24H0V0z\" fill=\"none\"/>\n",
              "    <path d=\"M18.56 5.44l.94 2.06.94-2.06 2.06-.94-2.06-.94-.94-2.06-.94 2.06-2.06.94zm-11 1L8.5 8.5l.94-2.06 2.06-.94-2.06-.94L8.5 2.5l-.94 2.06-2.06.94zm10 10l.94 2.06.94-2.06 2.06-.94-2.06-.94-.94-2.06-.94 2.06-2.06.94z\"/><path d=\"M17.41 7.96l-1.37-1.37c-.4-.4-.92-.59-1.43-.59-.52 0-1.04.2-1.43.59L10.3 9.45l-7.72 7.72c-.78.78-.78 2.05 0 2.83L4 21.41c.39.39.9.59 1.41.59.51 0 1.02-.2 1.41-.59l7.78-7.78 2.81-2.81c.8-.78.8-2.07 0-2.86zM5.41 20L4 18.59l7.72-7.72 1.47 1.35L5.41 20z\"/>\n",
              "  </svg>\n",
              "      </button>\n",
              "      \n",
              "  <style>\n",
              "    .colab-df-container {\n",
              "      display:flex;\n",
              "      flex-wrap:wrap;\n",
              "      gap: 12px;\n",
              "    }\n",
              "\n",
              "    .colab-df-convert {\n",
              "      background-color: #E8F0FE;\n",
              "      border: none;\n",
              "      border-radius: 50%;\n",
              "      cursor: pointer;\n",
              "      display: none;\n",
              "      fill: #1967D2;\n",
              "      height: 32px;\n",
              "      padding: 0 0 0 0;\n",
              "      width: 32px;\n",
              "    }\n",
              "\n",
              "    .colab-df-convert:hover {\n",
              "      background-color: #E2EBFA;\n",
              "      box-shadow: 0px 1px 2px rgba(60, 64, 67, 0.3), 0px 1px 3px 1px rgba(60, 64, 67, 0.15);\n",
              "      fill: #174EA6;\n",
              "    }\n",
              "\n",
              "    [theme=dark] .colab-df-convert {\n",
              "      background-color: #3B4455;\n",
              "      fill: #D2E3FC;\n",
              "    }\n",
              "\n",
              "    [theme=dark] .colab-df-convert:hover {\n",
              "      background-color: #434B5C;\n",
              "      box-shadow: 0px 1px 3px 1px rgba(0, 0, 0, 0.15);\n",
              "      filter: drop-shadow(0px 1px 2px rgba(0, 0, 0, 0.3));\n",
              "      fill: #FFFFFF;\n",
              "    }\n",
              "  </style>\n",
              "\n",
              "      <script>\n",
              "        const buttonEl =\n",
              "          document.querySelector('#df-7c37cce3-d8e1-4a9e-bdf7-36684e491c3b button.colab-df-convert');\n",
              "        buttonEl.style.display =\n",
              "          google.colab.kernel.accessAllowed ? 'block' : 'none';\n",
              "\n",
              "        async function convertToInteractive(key) {\n",
              "          const element = document.querySelector('#df-7c37cce3-d8e1-4a9e-bdf7-36684e491c3b');\n",
              "          const dataTable =\n",
              "            await google.colab.kernel.invokeFunction('convertToInteractive',\n",
              "                                                     [key], {});\n",
              "          if (!dataTable) return;\n",
              "\n",
              "          const docLinkHtml = 'Like what you see? Visit the ' +\n",
              "            '<a target=\"_blank\" href=https://colab.research.google.com/notebooks/data_table.ipynb>data table notebook</a>'\n",
              "            + ' to learn more about interactive tables.';\n",
              "          element.innerHTML = '';\n",
              "          dataTable['output_type'] = 'display_data';\n",
              "          await google.colab.output.renderOutput(dataTable, element);\n",
              "          const docLink = document.createElement('div');\n",
              "          docLink.innerHTML = docLinkHtml;\n",
              "          element.appendChild(docLink);\n",
              "        }\n",
              "      </script>\n",
              "    </div>\n",
              "  </div>\n",
              "  "
            ]
          },
          "metadata": {},
          "execution_count": 25
        }
      ]
    },
    {
      "cell_type": "code",
      "source": [
        "rating.info()"
      ],
      "metadata": {
        "colab": {
          "base_uri": "https://localhost:8080/"
        },
        "id": "Zk37Se3e7c6q",
        "outputId": "1e27e901-6fc2-4866-e9dd-b54a37258d0d"
      },
      "execution_count": null,
      "outputs": [
        {
          "output_type": "stream",
          "name": "stdout",
          "text": [
            "<class 'pandas.core.frame.DataFrame'>\n",
            "RangeIndex: 7813737 entries, 0 to 7813736\n",
            "Data columns (total 3 columns):\n",
            " #   Column    Dtype\n",
            "---  ------    -----\n",
            " 0   user_id   int64\n",
            " 1   anime_id  int64\n",
            " 2   rating    int64\n",
            "dtypes: int64(3)\n",
            "memory usage: 178.8 MB\n"
          ]
        }
      ]
    },
    {
      "cell_type": "markdown",
      "source": [
        "Terdapat tiga kolom numerik."
      ],
      "metadata": {
        "id": "BfBHYREmQ28R"
      }
    },
    {
      "cell_type": "code",
      "source": [
        "rating.shape"
      ],
      "metadata": {
        "colab": {
          "base_uri": "https://localhost:8080/"
        },
        "id": "R7D1N2lW8OSG",
        "outputId": "8f61c21e-9653-4c1d-f642-2be354832f51"
      },
      "execution_count": null,
      "outputs": [
        {
          "output_type": "execute_result",
          "data": {
            "text/plain": [
              "(7813737, 3)"
            ]
          },
          "metadata": {},
          "execution_count": 27
        }
      ]
    },
    {
      "cell_type": "code",
      "source": [
        "rating['rating'].describe()"
      ],
      "metadata": {
        "colab": {
          "base_uri": "https://localhost:8080/"
        },
        "id": "PiI2vf51MCBi",
        "outputId": "cdab6bab-6971-4a17-cce2-109cba73cbd6"
      },
      "execution_count": null,
      "outputs": [
        {
          "output_type": "execute_result",
          "data": {
            "text/plain": [
              "count    7.813737e+06\n",
              "mean     6.144030e+00\n",
              "std      3.727800e+00\n",
              "min     -1.000000e+00\n",
              "25%      6.000000e+00\n",
              "50%      7.000000e+00\n",
              "75%      9.000000e+00\n",
              "max      1.000000e+01\n",
              "Name: rating, dtype: float64"
            ]
          },
          "metadata": {},
          "execution_count": 28
        }
      ]
    },
    {
      "cell_type": "markdown",
      "source": [
        "Terdapat nilai rating -1, berdasarkan informasi dataset nilai -1 menandakan bahwa *user* menonton tapi tidak memberikan rating untuk judul anime tersebut."
      ],
      "metadata": {
        "id": "rJYK4OuWMvxA"
      }
    },
    {
      "cell_type": "markdown",
      "source": [
        "Kita lihat berapa banyak user yang tidak memberikan nilai rating."
      ],
      "metadata": {
        "id": "9NGJS6GxNEx1"
      }
    },
    {
      "cell_type": "code",
      "source": [
        "without_rating = rating.loc[rating['rating'] < 0].shape[0]\n",
        "percentage = round((without_rating/rating.shape[0])*100,2)\n",
        "\n",
        "print('Jumlah baris data tanpa rating: ' + str(without_rating) + ' ('+str(percentage)+'%)')"
      ],
      "metadata": {
        "colab": {
          "base_uri": "https://localhost:8080/"
        },
        "id": "d4YM6fvSNL-L",
        "outputId": "ab383046-ade9-4cb1-ae2d-6d99fd01faa0"
      },
      "execution_count": null,
      "outputs": [
        {
          "output_type": "stream",
          "name": "stdout",
          "text": [
            "Jumlah baris data tanpa rating: 1476496 (18.9%)\n"
          ]
        }
      ]
    },
    {
      "cell_type": "markdown",
      "source": [
        "Kita dapat berasumsi bahwa aman untuk menghilangkan data tersebut, kita akan drop baris data yang tidak memiliki rating (nilai: -1)"
      ],
      "metadata": {
        "id": "vN0tCBPVPjIE"
      }
    },
    {
      "cell_type": "code",
      "source": [
        "rating_clean = rating.drop(rating[rating['rating'] < 0].index)"
      ],
      "metadata": {
        "id": "86XMKSncP0ra"
      },
      "execution_count": null,
      "outputs": []
    },
    {
      "cell_type": "code",
      "source": [
        "rating_clean.shape"
      ],
      "metadata": {
        "colab": {
          "base_uri": "https://localhost:8080/"
        },
        "id": "HW8IR1X3QqO1",
        "outputId": "d188e3b3-0de4-414f-d974-8e6cf4d52290"
      },
      "execution_count": null,
      "outputs": [
        {
          "output_type": "execute_result",
          "data": {
            "text/plain": [
              "(6337241, 3)"
            ]
          },
          "metadata": {},
          "execution_count": 31
        }
      ]
    },
    {
      "cell_type": "markdown",
      "source": [
        "Check duplikasi data"
      ],
      "metadata": {
        "id": "L8PVYu3vRTiy"
      }
    },
    {
      "cell_type": "code",
      "source": [
        "print('Jumlah user unik pada data:', rating_clean['user_id'].nunique())\n",
        "print('Jumlah data yang duplikat:', len(rating_clean[rating_clean.duplicated()]))"
      ],
      "metadata": {
        "colab": {
          "base_uri": "https://localhost:8080/"
        },
        "id": "WBnLvK-KQyeR",
        "outputId": "e0451b1f-9694-44d5-a93b-15a2dba637f4"
      },
      "execution_count": null,
      "outputs": [
        {
          "output_type": "stream",
          "name": "stdout",
          "text": [
            "Jumlah user unik pada data: 69600\n",
            "Jumlah data yang duplikat: 1\n"
          ]
        }
      ]
    },
    {
      "cell_type": "markdown",
      "source": [
        "Kita akan membuang data yang duplikat"
      ],
      "metadata": {
        "id": "4iw7EqOaS0BL"
      }
    },
    {
      "cell_type": "code",
      "source": [
        "rating_clean.drop_duplicates(inplace=True)"
      ],
      "metadata": {
        "id": "8Wyx063yS5o4"
      },
      "execution_count": null,
      "outputs": []
    },
    {
      "cell_type": "code",
      "source": [
        "rating_clean.shape"
      ],
      "metadata": {
        "colab": {
          "base_uri": "https://localhost:8080/"
        },
        "id": "_dt3oDV2TJxc",
        "outputId": "622d0777-6304-4b96-f6f2-f5a1fd660189"
      },
      "execution_count": null,
      "outputs": [
        {
          "output_type": "execute_result",
          "data": {
            "text/plain": [
              "(6337240, 3)"
            ]
          },
          "metadata": {},
          "execution_count": 34
        }
      ]
    },
    {
      "cell_type": "markdown",
      "source": [
        "Selanjutnya kita akan cek jika ada nilai Null"
      ],
      "metadata": {
        "id": "kdVLBZemTN8A"
      }
    },
    {
      "cell_type": "code",
      "source": [
        "rating_clean.isnull().sum()"
      ],
      "metadata": {
        "colab": {
          "base_uri": "https://localhost:8080/"
        },
        "id": "6c3uZSarTSbz",
        "outputId": "393f2e43-bda5-4999-e7ba-128820303178"
      },
      "execution_count": null,
      "outputs": [
        {
          "output_type": "execute_result",
          "data": {
            "text/plain": [
              "user_id     0\n",
              "anime_id    0\n",
              "rating      0\n",
              "dtype: int64"
            ]
          },
          "metadata": {},
          "execution_count": 35
        }
      ]
    },
    {
      "cell_type": "markdown",
      "source": [
        "Sip, tidak ada data Null berarti data rating sudah siap kita gunakan."
      ],
      "metadata": {
        "id": "7xebLLaSTajZ"
      }
    },
    {
      "cell_type": "markdown",
      "source": [
        "Untuk menghilangkan rasa penasaran, kita akan lihat distribusi ratingnya terlebih dahulu."
      ],
      "metadata": {
        "id": "883NPbhBWhQV"
      }
    },
    {
      "cell_type": "code",
      "source": [
        "ratings_by_user = rating_clean.groupby('user_id')['rating'].mean()"
      ],
      "metadata": {
        "id": "VocQixOaWpm_"
      },
      "execution_count": null,
      "outputs": []
    },
    {
      "cell_type": "code",
      "source": [
        "plt.figure(figsize=(10, 6))  # Set the figure size (optional)\n",
        "plt.hist(ratings_by_user, bins=10, edgecolor='black')  # Adjust the number of bins as desired\n",
        "plt.xlabel('Rating')\n",
        "plt.ylabel('Frequency')\n",
        "plt.title('Distribution of Ratings')\n",
        "plt.show()"
      ],
      "metadata": {
        "colab": {
          "base_uri": "https://localhost:8080/",
          "height": 564
        },
        "id": "AmmYd0mlXAGz",
        "outputId": "eff375b0-b536-4f8d-fcfe-be646a5ce12c"
      },
      "execution_count": null,
      "outputs": [
        {
          "output_type": "display_data",
          "data": {
            "text/plain": [
              "<Figure size 1000x600 with 1 Axes>"
            ],
            "image/png": "[encoded data removed]"
          },
          "metadata": {}
        }
      ]
    },
    {
      "cell_type": "markdown",
      "source": [
        "Dapat kita lihat rating terbanyak adalah di range 8."
      ],
      "metadata": {
        "id": "iHcdjWxzYLPh"
      }
    },
    {
      "cell_type": "markdown",
      "source": [
        "## Data Preparation"
      ],
      "metadata": {
        "id": "Mv0WWVgz_PJz"
      }
    },
    {
      "cell_type": "markdown",
      "source": [
        "### Anime Dataset"
      ],
      "metadata": {
        "id": "fRMGDwlJGqRM"
      }
    },
    {
      "cell_type": "markdown",
      "source": [
        "Seperti yang sudah dijelaskan pada tahapan Data Understanding - EDA, karena kita akan menggunakan seluruh fitur yang tersedia untuk mempermudah dalam perhitungan *similarity*, kita akan melakukan kategorisasi pada dataset anime untuk fitur data numerik episodes, rating, dan member. Kita definisikan dulu fungsinya:"
      ],
      "metadata": {
        "id": "CX1_ItFlWkom"
      }
    },
    {
      "cell_type": "code",
      "source": [
        "def categorize_episodes(num_episodes):\n",
        "    category_size = (1818 / 10)  # Calculate the size of each category\n",
        "    category = int((num_episodes - 1) / category_size) + 1  # Determine the category based on the number of episodes\n",
        "\n",
        "    # Assign category labels\n",
        "    if category == 1:\n",
        "        return \"veryshort\"\n",
        "    elif category == 2:\n",
        "        return \"short\"\n",
        "    elif category == 3:\n",
        "        return \"moderate\"\n",
        "    elif category == 4:\n",
        "        return \"medium\"\n",
        "    elif category == 5:\n",
        "        return \"mediumlong\"\n",
        "    elif category == 6:\n",
        "        return \"long\"\n",
        "    elif category == 7:\n",
        "        return \"verylong\"\n",
        "    elif category == 8:\n",
        "        return \"extralong\"\n",
        "    elif category == 9:\n",
        "        return \"ultralong\"\n",
        "    else:\n",
        "        return \"epic\"\n",
        "\n",
        "def categorize_rating(rating):\n",
        "    if rating < 2.0:\n",
        "        return \"terrible\"\n",
        "    elif rating < 3.0:\n",
        "        return \"verybad\"\n",
        "    elif rating < 4.0:\n",
        "        return \"bad\"\n",
        "    elif rating < 5.0:\n",
        "        return \"belowaverage\"\n",
        "    elif rating < 6.0:\n",
        "        return \"average\"\n",
        "    elif rating < 7.0:\n",
        "        return \"aboveaverage\"\n",
        "    elif rating < 8.0:\n",
        "        return \"good\"\n",
        "    elif rating < 9.0:\n",
        "        return \"verygood\"\n",
        "    elif rating < 9.9:\n",
        "        return \"excellent\"\n",
        "    else:\n",
        "        return \"masterpiece\"\n",
        "\n",
        "def categorize_popularity(member_count):\n",
        "    if member_count <= 100000:\n",
        "        return \"lowpopularity\"\n",
        "    elif member_count <= 200000:\n",
        "        return \"moderatepopularity\"\n",
        "    elif member_count <= 300000:\n",
        "        return \"fairlypopular\"\n",
        "    elif member_count <= 400000:\n",
        "        return \"popular\"\n",
        "    elif member_count <= 500000:\n",
        "        return \"quitepopular\"\n",
        "    elif member_count <= 600000:\n",
        "        return \"verypopular\"\n",
        "    elif member_count <= 700000:\n",
        "        return \"highlypopular\"\n",
        "    elif member_count <= 800000:\n",
        "        return \"extremelypopular\"\n",
        "    elif member_count <= 900000:\n",
        "        return \"superpopular\"\n",
        "    else:\n",
        "        return \"megapopular\""
      ],
      "metadata": {
        "id": "qqhLGcLQmHe2"
      },
      "execution_count": null,
      "outputs": []
    },
    {
      "cell_type": "code",
      "source": [
        "# new column 'anime_size' has information about categorized anime episodes\n",
        "anime_clean['anime_size'] = anime_clean['episodes'].map(lambda x: categorize_episodes(x))\n",
        "\n",
        "# new column 'anime_rating' has information about categorized anime rating\n",
        "anime_clean['anime_rating'] = anime_clean['rating'].map(lambda x: categorize_rating(x))\n",
        "\n",
        "# new column 'anime_popularity' has information about categorized number of member for an anime\n",
        "anime_clean['anime_popularity'] = anime_clean['members'].map(lambda x: categorize_popularity(x))"
      ],
      "metadata": {
        "id": "4jilLdJeXw0O"
      },
      "execution_count": null,
      "outputs": []
    },
    {
      "cell_type": "code",
      "source": [
        "anime_clean.head()"
      ],
      "metadata": {
        "colab": {
          "base_uri": "https://localhost:8080/",
          "height": 319
        },
        "id": "m_jYhnCcYE6N",
        "outputId": "f2053eee-a891-41fd-ab68-cf5119cc95d9"
      },
      "execution_count": null,
      "outputs": [
        {
          "output_type": "execute_result",
          "data": {
            "text/plain": [
              "   anime_id                              name  \\\n",
              "0     32281                    Kimi no Na wa.   \n",
              "1      5114  Fullmetal Alchemist: Brotherhood   \n",
              "2     28977                          Gintama°   \n",
              "3      9253                       Steins;Gate   \n",
              "4      9969                     Gintama&#039;   \n",
              "\n",
              "                                               genre   type  episodes  rating  \\\n",
              "0               Drama, Romance, School, Supernatural  Movie         1    9.37   \n",
              "1  Action, Adventure, Drama, Fantasy, Magic, Mili...     TV        64    9.26   \n",
              "2  Action, Comedy, Historical, Parody, Samurai, S...     TV        51    9.25   \n",
              "3                                   Sci-Fi, Thriller     TV        24    9.17   \n",
              "4  Action, Comedy, Historical, Parody, Samurai, S...     TV        51    9.16   \n",
              "\n",
              "   members anime_size anime_rating    anime_popularity  \n",
              "0   200630  veryshort    excellent       fairlypopular  \n",
              "1   793665  veryshort    excellent    extremelypopular  \n",
              "2   114262  veryshort    excellent  moderatepopularity  \n",
              "3   673572  veryshort    excellent       highlypopular  \n",
              "4   151266  veryshort    excellent  moderatepopularity  "
            ],
            "text/html": [
              "\n",
              "  <div id=\"df-e97f9d24-a27c-4f77-97e8-f0cac494a9c4\">\n",
              "    <div class=\"colab-df-container\">\n",
              "      <div>\n",
              "<style scoped>\n",
              "    .dataframe tbody tr th:only-of-type {\n",
              "        vertical-align: middle;\n",
              "    }\n",
              "\n",
              "    .dataframe tbody tr th {\n",
              "        vertical-align: top;\n",
              "    }\n",
              "\n",
              "    .dataframe thead th {\n",
              "        text-align: right;\n",
              "    }\n",
              "</style>\n",
              "<table border=\"1\" class=\"dataframe\">\n",
              "  <thead>\n",
              "    <tr style=\"text-align: right;\">\n",
              "      <th></th>\n",
              "      <th>anime_id</th>\n",
              "      <th>name</th>\n",
              "      <th>genre</th>\n",
              "      <th>type</th>\n",
              "      <th>episodes</th>\n",
              "      <th>rating</th>\n",
              "      <th>members</th>\n",
              "      <th>anime_size</th>\n",
              "      <th>anime_rating</th>\n",
              "      <th>anime_popularity</th>\n",
              "    </tr>\n",
              "  </thead>\n",
              "  <tbody>\n",
              "    <tr>\n",
              "      <th>0</th>\n",
              "      <td>32281</td>\n",
              "      <td>Kimi no Na wa.</td>\n",
              "      <td>Drama, Romance, School, Supernatural</td>\n",
              "      <td>Movie</td>\n",
              "      <td>1</td>\n",
              "      <td>9.37</td>\n",
              "      <td>200630</td>\n",
              "      <td>veryshort</td>\n",
              "      <td>excellent</td>\n",
              "      <td>fairlypopular</td>\n",
              "    </tr>\n",
              "    <tr>\n",
              "      <th>1</th>\n",
              "      <td>5114</td>\n",
              "      <td>Fullmetal Alchemist: Brotherhood</td>\n",
              "      <td>Action, Adventure, Drama, Fantasy, Magic, Mili...</td>\n",
              "      <td>TV</td>\n",
              "      <td>64</td>\n",
              "      <td>9.26</td>\n",
              "      <td>793665</td>\n",
              "      <td>veryshort</td>\n",
              "      <td>excellent</td>\n",
              "      <td>extremelypopular</td>\n",
              "    </tr>\n",
              "    <tr>\n",
              "      <th>2</th>\n",
              "      <td>28977</td>\n",
              "      <td>Gintama°</td>\n",
              "      <td>Action, Comedy, Historical, Parody, Samurai, S...</td>\n",
              "      <td>TV</td>\n",
              "      <td>51</td>\n",
              "      <td>9.25</td>\n",
              "      <td>114262</td>\n",
              "      <td>veryshort</td>\n",
              "      <td>excellent</td>\n",
              "      <td>moderatepopularity</td>\n",
              "    </tr>\n",
              "    <tr>\n",
              "      <th>3</th>\n",
              "      <td>9253</td>\n",
              "      <td>Steins;Gate</td>\n",
              "      <td>Sci-Fi, Thriller</td>\n",
              "      <td>TV</td>\n",
              "      <td>24</td>\n",
              "      <td>9.17</td>\n",
              "      <td>673572</td>\n",
              "      <td>veryshort</td>\n",
              "      <td>excellent</td>\n",
              "      <td>highlypopular</td>\n",
              "    </tr>\n",
              "    <tr>\n",
              "      <th>4</th>\n",
              "      <td>9969</td>\n",
              "      <td>Gintama&amp;#039;</td>\n",
              "      <td>Action, Comedy, Historical, Parody, Samurai, S...</td>\n",
              "      <td>TV</td>\n",
              "      <td>51</td>\n",
              "      <td>9.16</td>\n",
              "      <td>151266</td>\n",
              "      <td>veryshort</td>\n",
              "      <td>excellent</td>\n",
              "      <td>moderatepopularity</td>\n",
              "    </tr>\n",
              "  </tbody>\n",
              "</table>\n",
              "</div>\n",
              "      <button class=\"colab-df-convert\" onclick=\"convertToInteractive('df-e97f9d24-a27c-4f77-97e8-f0cac494a9c4')\"\n",
              "              title=\"Convert this dataframe to an interactive table.\"\n",
              "              style=\"display:none;\">\n",
              "        \n",
              "  <svg xmlns=\"http://www.w3.org/2000/svg\" height=\"24px\"viewBox=\"0 0 24 24\"\n",
              "       width=\"24px\">\n",
              "    <path d=\"M0 0h24v24H0V0z\" fill=\"none\"/>\n",
              "    <path d=\"M18.56 5.44l.94 2.06.94-2.06 2.06-.94-2.06-.94-.94-2.06-.94 2.06-2.06.94zm-11 1L8.5 8.5l.94-2.06 2.06-.94-2.06-.94L8.5 2.5l-.94 2.06-2.06.94zm10 10l.94 2.06.94-2.06 2.06-.94-2.06-.94-.94-2.06-.94 2.06-2.06.94z\"/><path d=\"M17.41 7.96l-1.37-1.37c-.4-.4-.92-.59-1.43-.59-.52 0-1.04.2-1.43.59L10.3 9.45l-7.72 7.72c-.78.78-.78 2.05 0 2.83L4 21.41c.39.39.9.59 1.41.59.51 0 1.02-.2 1.41-.59l7.78-7.78 2.81-2.81c.8-.78.8-2.07 0-2.86zM5.41 20L4 18.59l7.72-7.72 1.47 1.35L5.41 20z\"/>\n",
              "  </svg>\n",
              "      </button>\n",
              "      \n",
              "  <style>\n",
              "    .colab-df-container {\n",
              "      display:flex;\n",
              "      flex-wrap:wrap;\n",
              "      gap: 12px;\n",
              "    }\n",
              "\n",
              "    .colab-df-convert {\n",
              "      background-color: #E8F0FE;\n",
              "      border: none;\n",
              "      border-radius: 50%;\n",
              "      cursor: pointer;\n",
              "      display: none;\n",
              "      fill: #1967D2;\n",
              "      height: 32px;\n",
              "      padding: 0 0 0 0;\n",
              "      width: 32px;\n",
              "    }\n",
              "\n",
              "    .colab-df-convert:hover {\n",
              "      background-color: #E2EBFA;\n",
              "      box-shadow: 0px 1px 2px rgba(60, 64, 67, 0.3), 0px 1px 3px 1px rgba(60, 64, 67, 0.15);\n",
              "      fill: #174EA6;\n",
              "    }\n",
              "\n",
              "    [theme=dark] .colab-df-convert {\n",
              "      background-color: #3B4455;\n",
              "      fill: #D2E3FC;\n",
              "    }\n",
              "\n",
              "    [theme=dark] .colab-df-convert:hover {\n",
              "      background-color: #434B5C;\n",
              "      box-shadow: 0px 1px 3px 1px rgba(0, 0, 0, 0.15);\n",
              "      filter: drop-shadow(0px 1px 2px rgba(0, 0, 0, 0.3));\n",
              "      fill: #FFFFFF;\n",
              "    }\n",
              "  </style>\n",
              "\n",
              "      <script>\n",
              "        const buttonEl =\n",
              "          document.querySelector('#df-e97f9d24-a27c-4f77-97e8-f0cac494a9c4 button.colab-df-convert');\n",
              "        buttonEl.style.display =\n",
              "          google.colab.kernel.accessAllowed ? 'block' : 'none';\n",
              "\n",
              "        async function convertToInteractive(key) {\n",
              "          const element = document.querySelector('#df-e97f9d24-a27c-4f77-97e8-f0cac494a9c4');\n",
              "          const dataTable =\n",
              "            await google.colab.kernel.invokeFunction('convertToInteractive',\n",
              "                                                     [key], {});\n",
              "          if (!dataTable) return;\n",
              "\n",
              "          const docLinkHtml = 'Like what you see? Visit the ' +\n",
              "            '<a target=\"_blank\" href=https://colab.research.google.com/notebooks/data_table.ipynb>data table notebook</a>'\n",
              "            + ' to learn more about interactive tables.';\n",
              "          element.innerHTML = '';\n",
              "          dataTable['output_type'] = 'display_data';\n",
              "          await google.colab.output.renderOutput(dataTable, element);\n",
              "          const docLink = document.createElement('div');\n",
              "          docLink.innerHTML = docLinkHtml;\n",
              "          element.appendChild(docLink);\n",
              "        }\n",
              "      </script>\n",
              "    </div>\n",
              "  </div>\n",
              "  "
            ]
          },
          "metadata": {},
          "execution_count": 40
        }
      ]
    },
    {
      "cell_type": "markdown",
      "source": [
        "Split data gender dan menggabungkannya kembali dengan spasi"
      ],
      "metadata": {
        "id": "bMEnlb95H0fV"
      }
    },
    {
      "cell_type": "code",
      "source": [
        "# Preprocess the genre data\n",
        "# Split the genre string into a list of genres\n",
        "anime_clean['genre'] = anime_clean['genre'].apply(lambda x: x.split(', '))\n",
        "\n",
        "# Convert the list of genres back to a string with spaces\n",
        "anime_clean['genre'] = anime_clean['genre'].apply(lambda x: ' '.join(x))"
      ],
      "metadata": {
        "id": "-tecpVumez69"
      },
      "execution_count": null,
      "outputs": []
    },
    {
      "cell_type": "markdown",
      "source": [
        "Kita akan buang kolom yang sudah kita kategorisasi"
      ],
      "metadata": {
        "id": "gyWD6D0YYuRx"
      }
    },
    {
      "cell_type": "code",
      "source": [
        "to_be_dropped = ['episodes','rating','members']\n",
        "data = anime_clean.drop(to_be_dropped, axis=1)"
      ],
      "metadata": {
        "id": "ctMbpV1PY6q4"
      },
      "execution_count": null,
      "outputs": []
    },
    {
      "cell_type": "code",
      "source": [
        "data.head()"
      ],
      "metadata": {
        "colab": {
          "base_uri": "https://localhost:8080/",
          "height": 206
        },
        "id": "n-q_0aXlZJ8v",
        "outputId": "1983ff47-9647-41a4-e8fb-1ca8ade3ae65"
      },
      "execution_count": null,
      "outputs": [
        {
          "output_type": "execute_result",
          "data": {
            "text/plain": [
              "   anime_id                              name  \\\n",
              "0     32281                    Kimi no Na wa.   \n",
              "1      5114  Fullmetal Alchemist: Brotherhood   \n",
              "2     28977                          Gintama°   \n",
              "3      9253                       Steins;Gate   \n",
              "4      9969                     Gintama&#039;   \n",
              "\n",
              "                                               genre   type anime_size  \\\n",
              "0                  Drama Romance School Supernatural  Movie  veryshort   \n",
              "1  Action Adventure Drama Fantasy Magic Military ...     TV  veryshort   \n",
              "2  Action Comedy Historical Parody Samurai Sci-Fi...     TV  veryshort   \n",
              "3                                    Sci-Fi Thriller     TV  veryshort   \n",
              "4  Action Comedy Historical Parody Samurai Sci-Fi...     TV  veryshort   \n",
              "\n",
              "  anime_rating    anime_popularity  \n",
              "0    excellent       fairlypopular  \n",
              "1    excellent    extremelypopular  \n",
              "2    excellent  moderatepopularity  \n",
              "3    excellent       highlypopular  \n",
              "4    excellent  moderatepopularity  "
            ],
            "text/html": [
              "\n",
              "  <div id=\"df-06f53c34-acbe-400e-8d67-b6b28ee8fcf0\">\n",
              "    <div class=\"colab-df-container\">\n",
              "      <div>\n",
              "<style scoped>\n",
              "    .dataframe tbody tr th:only-of-type {\n",
              "        vertical-align: middle;\n",
              "    }\n",
              "\n",
              "    .dataframe tbody tr th {\n",
              "        vertical-align: top;\n",
              "    }\n",
              "\n",
              "    .dataframe thead th {\n",
              "        text-align: right;\n",
              "    }\n",
              "</style>\n",
              "<table border=\"1\" class=\"dataframe\">\n",
              "  <thead>\n",
              "    <tr style=\"text-align: right;\">\n",
              "      <th></th>\n",
              "      <th>anime_id</th>\n",
              "      <th>name</th>\n",
              "      <th>genre</th>\n",
              "      <th>type</th>\n",
              "      <th>anime_size</th>\n",
              "      <th>anime_rating</th>\n",
              "      <th>anime_popularity</th>\n",
              "    </tr>\n",
              "  </thead>\n",
              "  <tbody>\n",
              "    <tr>\n",
              "      <th>0</th>\n",
              "      <td>32281</td>\n",
              "      <td>Kimi no Na wa.</td>\n",
              "      <td>Drama Romance School Supernatural</td>\n",
              "      <td>Movie</td>\n",
              "      <td>veryshort</td>\n",
              "      <td>excellent</td>\n",
              "      <td>fairlypopular</td>\n",
              "    </tr>\n",
              "    <tr>\n",
              "      <th>1</th>\n",
              "      <td>5114</td>\n",
              "      <td>Fullmetal Alchemist: Brotherhood</td>\n",
              "      <td>Action Adventure Drama Fantasy Magic Military ...</td>\n",
              "      <td>TV</td>\n",
              "      <td>veryshort</td>\n",
              "      <td>excellent</td>\n",
              "      <td>extremelypopular</td>\n",
              "    </tr>\n",
              "    <tr>\n",
              "      <th>2</th>\n",
              "      <td>28977</td>\n",
              "      <td>Gintama°</td>\n",
              "      <td>Action Comedy Historical Parody Samurai Sci-Fi...</td>\n",
              "      <td>TV</td>\n",
              "      <td>veryshort</td>\n",
              "      <td>excellent</td>\n",
              "      <td>moderatepopularity</td>\n",
              "    </tr>\n",
              "    <tr>\n",
              "      <th>3</th>\n",
              "      <td>9253</td>\n",
              "      <td>Steins;Gate</td>\n",
              "      <td>Sci-Fi Thriller</td>\n",
              "      <td>TV</td>\n",
              "      <td>veryshort</td>\n",
              "      <td>excellent</td>\n",
              "      <td>highlypopular</td>\n",
              "    </tr>\n",
              "    <tr>\n",
              "      <th>4</th>\n",
              "      <td>9969</td>\n",
              "      <td>Gintama&amp;#039;</td>\n",
              "      <td>Action Comedy Historical Parody Samurai Sci-Fi...</td>\n",
              "      <td>TV</td>\n",
              "      <td>veryshort</td>\n",
              "      <td>excellent</td>\n",
              "      <td>moderatepopularity</td>\n",
              "    </tr>\n",
              "  </tbody>\n",
              "</table>\n",
              "</div>\n",
              "      <button class=\"colab-df-convert\" onclick=\"convertToInteractive('df-06f53c34-acbe-400e-8d67-b6b28ee8fcf0')\"\n",
              "              title=\"Convert this dataframe to an interactive table.\"\n",
              "              style=\"display:none;\">\n",
              "        \n",
              "  <svg xmlns=\"http://www.w3.org/2000/svg\" height=\"24px\"viewBox=\"0 0 24 24\"\n",
              "       width=\"24px\">\n",
              "    <path d=\"M0 0h24v24H0V0z\" fill=\"none\"/>\n",
              "    <path d=\"M18.56 5.44l.94 2.06.94-2.06 2.06-.94-2.06-.94-.94-2.06-.94 2.06-2.06.94zm-11 1L8.5 8.5l.94-2.06 2.06-.94-2.06-.94L8.5 2.5l-.94 2.06-2.06.94zm10 10l.94 2.06.94-2.06 2.06-.94-2.06-.94-.94-2.06-.94 2.06-2.06.94z\"/><path d=\"M17.41 7.96l-1.37-1.37c-.4-.4-.92-.59-1.43-.59-.52 0-1.04.2-1.43.59L10.3 9.45l-7.72 7.72c-.78.78-.78 2.05 0 2.83L4 21.41c.39.39.9.59 1.41.59.51 0 1.02-.2 1.41-.59l7.78-7.78 2.81-2.81c.8-.78.8-2.07 0-2.86zM5.41 20L4 18.59l7.72-7.72 1.47 1.35L5.41 20z\"/>\n",
              "  </svg>\n",
              "      </button>\n",
              "      \n",
              "  <style>\n",
              "    .colab-df-container {\n",
              "      display:flex;\n",
              "      flex-wrap:wrap;\n",
              "      gap: 12px;\n",
              "    }\n",
              "\n",
              "    .colab-df-convert {\n",
              "      background-color: #E8F0FE;\n",
              "      border: none;\n",
              "      border-radius: 50%;\n",
              "      cursor: pointer;\n",
              "      display: none;\n",
              "      fill: #1967D2;\n",
              "      height: 32px;\n",
              "      padding: 0 0 0 0;\n",
              "      width: 32px;\n",
              "    }\n",
              "\n",
              "    .colab-df-convert:hover {\n",
              "      background-color: #E2EBFA;\n",
              "      box-shadow: 0px 1px 2px rgba(60, 64, 67, 0.3), 0px 1px 3px 1px rgba(60, 64, 67, 0.15);\n",
              "      fill: #174EA6;\n",
              "    }\n",
              "\n",
              "    [theme=dark] .colab-df-convert {\n",
              "      background-color: #3B4455;\n",
              "      fill: #D2E3FC;\n",
              "    }\n",
              "\n",
              "    [theme=dark] .colab-df-convert:hover {\n",
              "      background-color: #434B5C;\n",
              "      box-shadow: 0px 1px 3px 1px rgba(0, 0, 0, 0.15);\n",
              "      filter: drop-shadow(0px 1px 2px rgba(0, 0, 0, 0.3));\n",
              "      fill: #FFFFFF;\n",
              "    }\n",
              "  </style>\n",
              "\n",
              "      <script>\n",
              "        const buttonEl =\n",
              "          document.querySelector('#df-06f53c34-acbe-400e-8d67-b6b28ee8fcf0 button.colab-df-convert');\n",
              "        buttonEl.style.display =\n",
              "          google.colab.kernel.accessAllowed ? 'block' : 'none';\n",
              "\n",
              "        async function convertToInteractive(key) {\n",
              "          const element = document.querySelector('#df-06f53c34-acbe-400e-8d67-b6b28ee8fcf0');\n",
              "          const dataTable =\n",
              "            await google.colab.kernel.invokeFunction('convertToInteractive',\n",
              "                                                     [key], {});\n",
              "          if (!dataTable) return;\n",
              "\n",
              "          const docLinkHtml = 'Like what you see? Visit the ' +\n",
              "            '<a target=\"_blank\" href=https://colab.research.google.com/notebooks/data_table.ipynb>data table notebook</a>'\n",
              "            + ' to learn more about interactive tables.';\n",
              "          element.innerHTML = '';\n",
              "          dataTable['output_type'] = 'display_data';\n",
              "          await google.colab.output.renderOutput(dataTable, element);\n",
              "          const docLink = document.createElement('div');\n",
              "          docLink.innerHTML = docLinkHtml;\n",
              "          element.appendChild(docLink);\n",
              "        }\n",
              "      </script>\n",
              "    </div>\n",
              "  </div>\n",
              "  "
            ]
          },
          "metadata": {},
          "execution_count": 43
        }
      ]
    },
    {
      "cell_type": "markdown",
      "source": [
        "Langkah berikutnya adalah menggabungkan semua fitur menjadi satu kolom features"
      ],
      "metadata": {
        "id": "JkXsVxO0ILA3"
      }
    },
    {
      "cell_type": "code",
      "source": [
        "data['features'] = data['genre'] + ' ' + data['type'] + ' ' + data['anime_size'] + ' ' + data['anime_rating'] + ' ' + data['anime_popularity']"
      ],
      "metadata": {
        "id": "iVsK24lwZ1-I"
      },
      "execution_count": null,
      "outputs": []
    },
    {
      "cell_type": "code",
      "source": [
        "data.head()"
      ],
      "metadata": {
        "colab": {
          "base_uri": "https://localhost:8080/",
          "height": 337
        },
        "id": "49NNpNdRabg1",
        "outputId": "bc92d448-6d44-445a-f52d-905b229757a4"
      },
      "execution_count": null,
      "outputs": [
        {
          "output_type": "execute_result",
          "data": {
            "text/plain": [
              "   anime_id                              name  \\\n",
              "0     32281                    Kimi no Na wa.   \n",
              "1      5114  Fullmetal Alchemist: Brotherhood   \n",
              "2     28977                          Gintama°   \n",
              "3      9253                       Steins;Gate   \n",
              "4      9969                     Gintama&#039;   \n",
              "\n",
              "                                               genre   type anime_size  \\\n",
              "0                  Drama Romance School Supernatural  Movie  veryshort   \n",
              "1  Action Adventure Drama Fantasy Magic Military ...     TV  veryshort   \n",
              "2  Action Comedy Historical Parody Samurai Sci-Fi...     TV  veryshort   \n",
              "3                                    Sci-Fi Thriller     TV  veryshort   \n",
              "4  Action Comedy Historical Parody Samurai Sci-Fi...     TV  veryshort   \n",
              "\n",
              "  anime_rating    anime_popularity  \\\n",
              "0    excellent       fairlypopular   \n",
              "1    excellent    extremelypopular   \n",
              "2    excellent  moderatepopularity   \n",
              "3    excellent       highlypopular   \n",
              "4    excellent  moderatepopularity   \n",
              "\n",
              "                                            features  \n",
              "0  Drama Romance School Supernatural Movie verysh...  \n",
              "1  Action Adventure Drama Fantasy Magic Military ...  \n",
              "2  Action Comedy Historical Parody Samurai Sci-Fi...  \n",
              "3  Sci-Fi Thriller TV veryshort excellent highlyp...  \n",
              "4  Action Comedy Historical Parody Samurai Sci-Fi...  "
            ],
            "text/html": [
              "\n",
              "  <div id=\"df-ae5186c9-1722-4e1d-8dca-ffe66c3ad2ef\">\n",
              "    <div class=\"colab-df-container\">\n",
              "      <div>\n",
              "<style scoped>\n",
              "    .dataframe tbody tr th:only-of-type {\n",
              "        vertical-align: middle;\n",
              "    }\n",
              "\n",
              "    .dataframe tbody tr th {\n",
              "        vertical-align: top;\n",
              "    }\n",
              "\n",
              "    .dataframe thead th {\n",
              "        text-align: right;\n",
              "    }\n",
              "</style>\n",
              "<table border=\"1\" class=\"dataframe\">\n",
              "  <thead>\n",
              "    <tr style=\"text-align: right;\">\n",
              "      <th></th>\n",
              "      <th>anime_id</th>\n",
              "      <th>name</th>\n",
              "      <th>genre</th>\n",
              "      <th>type</th>\n",
              "      <th>anime_size</th>\n",
              "      <th>anime_rating</th>\n",
              "      <th>anime_popularity</th>\n",
              "      <th>features</th>\n",
              "    </tr>\n",
              "  </thead>\n",
              "  <tbody>\n",
              "    <tr>\n",
              "      <th>0</th>\n",
              "      <td>32281</td>\n",
              "      <td>Kimi no Na wa.</td>\n",
              "      <td>Drama Romance School Supernatural</td>\n",
              "      <td>Movie</td>\n",
              "      <td>veryshort</td>\n",
              "      <td>excellent</td>\n",
              "      <td>fairlypopular</td>\n",
              "      <td>Drama Romance School Supernatural Movie verysh...</td>\n",
              "    </tr>\n",
              "    <tr>\n",
              "      <th>1</th>\n",
              "      <td>5114</td>\n",
              "      <td>Fullmetal Alchemist: Brotherhood</td>\n",
              "      <td>Action Adventure Drama Fantasy Magic Military ...</td>\n",
              "      <td>TV</td>\n",
              "      <td>veryshort</td>\n",
              "      <td>excellent</td>\n",
              "      <td>extremelypopular</td>\n",
              "      <td>Action Adventure Drama Fantasy Magic Military ...</td>\n",
              "    </tr>\n",
              "    <tr>\n",
              "      <th>2</th>\n",
              "      <td>28977</td>\n",
              "      <td>Gintama°</td>\n",
              "      <td>Action Comedy Historical Parody Samurai Sci-Fi...</td>\n",
              "      <td>TV</td>\n",
              "      <td>veryshort</td>\n",
              "      <td>excellent</td>\n",
              "      <td>moderatepopularity</td>\n",
              "      <td>Action Comedy Historical Parody Samurai Sci-Fi...</td>\n",
              "    </tr>\n",
              "    <tr>\n",
              "      <th>3</th>\n",
              "      <td>9253</td>\n",
              "      <td>Steins;Gate</td>\n",
              "      <td>Sci-Fi Thriller</td>\n",
              "      <td>TV</td>\n",
              "      <td>veryshort</td>\n",
              "      <td>excellent</td>\n",
              "      <td>highlypopular</td>\n",
              "      <td>Sci-Fi Thriller TV veryshort excellent highlyp...</td>\n",
              "    </tr>\n",
              "    <tr>\n",
              "      <th>4</th>\n",
              "      <td>9969</td>\n",
              "      <td>Gintama&amp;#039;</td>\n",
              "      <td>Action Comedy Historical Parody Samurai Sci-Fi...</td>\n",
              "      <td>TV</td>\n",
              "      <td>veryshort</td>\n",
              "      <td>excellent</td>\n",
              "      <td>moderatepopularity</td>\n",
              "      <td>Action Comedy Historical Parody Samurai Sci-Fi...</td>\n",
              "    </tr>\n",
              "  </tbody>\n",
              "</table>\n",
              "</div>\n",
              "      <button class=\"colab-df-convert\" onclick=\"convertToInteractive('df-ae5186c9-1722-4e1d-8dca-ffe66c3ad2ef')\"\n",
              "              title=\"Convert this dataframe to an interactive table.\"\n",
              "              style=\"display:none;\">\n",
              "        \n",
              "  <svg xmlns=\"http://www.w3.org/2000/svg\" height=\"24px\"viewBox=\"0 0 24 24\"\n",
              "       width=\"24px\">\n",
              "    <path d=\"M0 0h24v24H0V0z\" fill=\"none\"/>\n",
              "    <path d=\"M18.56 5.44l.94 2.06.94-2.06 2.06-.94-2.06-.94-.94-2.06-.94 2.06-2.06.94zm-11 1L8.5 8.5l.94-2.06 2.06-.94-2.06-.94L8.5 2.5l-.94 2.06-2.06.94zm10 10l.94 2.06.94-2.06 2.06-.94-2.06-.94-.94-2.06-.94 2.06-2.06.94z\"/><path d=\"M17.41 7.96l-1.37-1.37c-.4-.4-.92-.59-1.43-.59-.52 0-1.04.2-1.43.59L10.3 9.45l-7.72 7.72c-.78.78-.78 2.05 0 2.83L4 21.41c.39.39.9.59 1.41.59.51 0 1.02-.2 1.41-.59l7.78-7.78 2.81-2.81c.8-.78.8-2.07 0-2.86zM5.41 20L4 18.59l7.72-7.72 1.47 1.35L5.41 20z\"/>\n",
              "  </svg>\n",
              "      </button>\n",
              "      \n",
              "  <style>\n",
              "    .colab-df-container {\n",
              "      display:flex;\n",
              "      flex-wrap:wrap;\n",
              "      gap: 12px;\n",
              "    }\n",
              "\n",
              "    .colab-df-convert {\n",
              "      background-color: #E8F0FE;\n",
              "      border: none;\n",
              "      border-radius: 50%;\n",
              "      cursor: pointer;\n",
              "      display: none;\n",
              "      fill: #1967D2;\n",
              "      height: 32px;\n",
              "      padding: 0 0 0 0;\n",
              "      width: 32px;\n",
              "    }\n",
              "\n",
              "    .colab-df-convert:hover {\n",
              "      background-color: #E2EBFA;\n",
              "      box-shadow: 0px 1px 2px rgba(60, 64, 67, 0.3), 0px 1px 3px 1px rgba(60, 64, 67, 0.15);\n",
              "      fill: #174EA6;\n",
              "    }\n",
              "\n",
              "    [theme=dark] .colab-df-convert {\n",
              "      background-color: #3B4455;\n",
              "      fill: #D2E3FC;\n",
              "    }\n",
              "\n",
              "    [theme=dark] .colab-df-convert:hover {\n",
              "      background-color: #434B5C;\n",
              "      box-shadow: 0px 1px 3px 1px rgba(0, 0, 0, 0.15);\n",
              "      filter: drop-shadow(0px 1px 2px rgba(0, 0, 0, 0.3));\n",
              "      fill: #FFFFFF;\n",
              "    }\n",
              "  </style>\n",
              "\n",
              "      <script>\n",
              "        const buttonEl =\n",
              "          document.querySelector('#df-ae5186c9-1722-4e1d-8dca-ffe66c3ad2ef button.colab-df-convert');\n",
              "        buttonEl.style.display =\n",
              "          google.colab.kernel.accessAllowed ? 'block' : 'none';\n",
              "\n",
              "        async function convertToInteractive(key) {\n",
              "          const element = document.querySelector('#df-ae5186c9-1722-4e1d-8dca-ffe66c3ad2ef');\n",
              "          const dataTable =\n",
              "            await google.colab.kernel.invokeFunction('convertToInteractive',\n",
              "                                                     [key], {});\n",
              "          if (!dataTable) return;\n",
              "\n",
              "          const docLinkHtml = 'Like what you see? Visit the ' +\n",
              "            '<a target=\"_blank\" href=https://colab.research.google.com/notebooks/data_table.ipynb>data table notebook</a>'\n",
              "            + ' to learn more about interactive tables.';\n",
              "          element.innerHTML = '';\n",
              "          dataTable['output_type'] = 'display_data';\n",
              "          await google.colab.output.renderOutput(dataTable, element);\n",
              "          const docLink = document.createElement('div');\n",
              "          docLink.innerHTML = docLinkHtml;\n",
              "          element.appendChild(docLink);\n",
              "        }\n",
              "      </script>\n",
              "    </div>\n",
              "  </div>\n",
              "  "
            ]
          },
          "metadata": {},
          "execution_count": 45
        }
      ]
    },
    {
      "cell_type": "markdown",
      "source": [
        "Reset index untuk mengurutkan kembali baris sesuai dengan data yang sudah dipersiapkan."
      ],
      "metadata": {
        "id": "ZdbFkXyuIgzv"
      }
    },
    {
      "cell_type": "code",
      "source": [
        "data.reset_index(inplace=True)"
      ],
      "metadata": {
        "id": "d80YKGE2zrVq"
      },
      "execution_count": null,
      "outputs": []
    },
    {
      "cell_type": "markdown",
      "source": [
        "### Rating Dataset"
      ],
      "metadata": {
        "id": "lSGHWkIkVHqV"
      }
    },
    {
      "cell_type": "markdown",
      "source": [
        "Encoding user_id dan anime_id\n",
        "\n",
        "Pada model dengan menggunakan teknik collaborative filtering, kita perlu melakukan pengkodean untuk user_id dan anime_id. Berikut adalah langkah-langkah prosesnya:"
      ],
      "metadata": {
        "id": "77ESWm6RVL27"
      }
    },
    {
      "cell_type": "code",
      "source": [
        "rating_data = rating_clean.copy()"
      ],
      "metadata": {
        "id": "f43l4e_cVKxu"
      },
      "execution_count": null,
      "outputs": []
    },
    {
      "cell_type": "code",
      "source": [
        "rating_data.head()"
      ],
      "metadata": {
        "colab": {
          "base_uri": "https://localhost:8080/",
          "height": 206
        },
        "id": "BrlbmwFHWAl4",
        "outputId": "45ed59fd-65e8-4e92-e550-b994bd8206d3"
      },
      "execution_count": null,
      "outputs": [
        {
          "output_type": "execute_result",
          "data": {
            "text/plain": [
              "     user_id  anime_id  rating\n",
              "47         1      8074      10\n",
              "81         1     11617      10\n",
              "83         1     11757      10\n",
              "101        1     15451      10\n",
              "153        2     11771      10"
            ],
            "text/html": [
              "\n",
              "  <div id=\"df-e72ffcb0-f4e5-4573-a777-68771c596eb9\">\n",
              "    <div class=\"colab-df-container\">\n",
              "      <div>\n",
              "<style scoped>\n",
              "    .dataframe tbody tr th:only-of-type {\n",
              "        vertical-align: middle;\n",
              "    }\n",
              "\n",
              "    .dataframe tbody tr th {\n",
              "        vertical-align: top;\n",
              "    }\n",
              "\n",
              "    .dataframe thead th {\n",
              "        text-align: right;\n",
              "    }\n",
              "</style>\n",
              "<table border=\"1\" class=\"dataframe\">\n",
              "  <thead>\n",
              "    <tr style=\"text-align: right;\">\n",
              "      <th></th>\n",
              "      <th>user_id</th>\n",
              "      <th>anime_id</th>\n",
              "      <th>rating</th>\n",
              "    </tr>\n",
              "  </thead>\n",
              "  <tbody>\n",
              "    <tr>\n",
              "      <th>47</th>\n",
              "      <td>1</td>\n",
              "      <td>8074</td>\n",
              "      <td>10</td>\n",
              "    </tr>\n",
              "    <tr>\n",
              "      <th>81</th>\n",
              "      <td>1</td>\n",
              "      <td>11617</td>\n",
              "      <td>10</td>\n",
              "    </tr>\n",
              "    <tr>\n",
              "      <th>83</th>\n",
              "      <td>1</td>\n",
              "      <td>11757</td>\n",
              "      <td>10</td>\n",
              "    </tr>\n",
              "    <tr>\n",
              "      <th>101</th>\n",
              "      <td>1</td>\n",
              "      <td>15451</td>\n",
              "      <td>10</td>\n",
              "    </tr>\n",
              "    <tr>\n",
              "      <th>153</th>\n",
              "      <td>2</td>\n",
              "      <td>11771</td>\n",
              "      <td>10</td>\n",
              "    </tr>\n",
              "  </tbody>\n",
              "</table>\n",
              "</div>\n",
              "      <button class=\"colab-df-convert\" onclick=\"convertToInteractive('df-e72ffcb0-f4e5-4573-a777-68771c596eb9')\"\n",
              "              title=\"Convert this dataframe to an interactive table.\"\n",
              "              style=\"display:none;\">\n",
              "        \n",
              "  <svg xmlns=\"http://www.w3.org/2000/svg\" height=\"24px\"viewBox=\"0 0 24 24\"\n",
              "       width=\"24px\">\n",
              "    <path d=\"M0 0h24v24H0V0z\" fill=\"none\"/>\n",
              "    <path d=\"M18.56 5.44l.94 2.06.94-2.06 2.06-.94-2.06-.94-.94-2.06-.94 2.06-2.06.94zm-11 1L8.5 8.5l.94-2.06 2.06-.94-2.06-.94L8.5 2.5l-.94 2.06-2.06.94zm10 10l.94 2.06.94-2.06 2.06-.94-2.06-.94-.94-2.06-.94 2.06-2.06.94z\"/><path d=\"M17.41 7.96l-1.37-1.37c-.4-.4-.92-.59-1.43-.59-.52 0-1.04.2-1.43.59L10.3 9.45l-7.72 7.72c-.78.78-.78 2.05 0 2.83L4 21.41c.39.39.9.59 1.41.59.51 0 1.02-.2 1.41-.59l7.78-7.78 2.81-2.81c.8-.78.8-2.07 0-2.86zM5.41 20L4 18.59l7.72-7.72 1.47 1.35L5.41 20z\"/>\n",
              "  </svg>\n",
              "      </button>\n",
              "      \n",
              "  <style>\n",
              "    .colab-df-container {\n",
              "      display:flex;\n",
              "      flex-wrap:wrap;\n",
              "      gap: 12px;\n",
              "    }\n",
              "\n",
              "    .colab-df-convert {\n",
              "      background-color: #E8F0FE;\n",
              "      border: none;\n",
              "      border-radius: 50%;\n",
              "      cursor: pointer;\n",
              "      display: none;\n",
              "      fill: #1967D2;\n",
              "      height: 32px;\n",
              "      padding: 0 0 0 0;\n",
              "      width: 32px;\n",
              "    }\n",
              "\n",
              "    .colab-df-convert:hover {\n",
              "      background-color: #E2EBFA;\n",
              "      box-shadow: 0px 1px 2px rgba(60, 64, 67, 0.3), 0px 1px 3px 1px rgba(60, 64, 67, 0.15);\n",
              "      fill: #174EA6;\n",
              "    }\n",
              "\n",
              "    [theme=dark] .colab-df-convert {\n",
              "      background-color: #3B4455;\n",
              "      fill: #D2E3FC;\n",
              "    }\n",
              "\n",
              "    [theme=dark] .colab-df-convert:hover {\n",
              "      background-color: #434B5C;\n",
              "      box-shadow: 0px 1px 3px 1px rgba(0, 0, 0, 0.15);\n",
              "      filter: drop-shadow(0px 1px 2px rgba(0, 0, 0, 0.3));\n",
              "      fill: #FFFFFF;\n",
              "    }\n",
              "  </style>\n",
              "\n",
              "      <script>\n",
              "        const buttonEl =\n",
              "          document.querySelector('#df-e72ffcb0-f4e5-4573-a777-68771c596eb9 button.colab-df-convert');\n",
              "        buttonEl.style.display =\n",
              "          google.colab.kernel.accessAllowed ? 'block' : 'none';\n",
              "\n",
              "        async function convertToInteractive(key) {\n",
              "          const element = document.querySelector('#df-e72ffcb0-f4e5-4573-a777-68771c596eb9');\n",
              "          const dataTable =\n",
              "            await google.colab.kernel.invokeFunction('convertToInteractive',\n",
              "                                                     [key], {});\n",
              "          if (!dataTable) return;\n",
              "\n",
              "          const docLinkHtml = 'Like what you see? Visit the ' +\n",
              "            '<a target=\"_blank\" href=https://colab.research.google.com/notebooks/data_table.ipynb>data table notebook</a>'\n",
              "            + ' to learn more about interactive tables.';\n",
              "          element.innerHTML = '';\n",
              "          dataTable['output_type'] = 'display_data';\n",
              "          await google.colab.output.renderOutput(dataTable, element);\n",
              "          const docLink = document.createElement('div');\n",
              "          docLink.innerHTML = docLinkHtml;\n",
              "          element.appendChild(docLink);\n",
              "        }\n",
              "      </script>\n",
              "    </div>\n",
              "  </div>\n",
              "  "
            ]
          },
          "metadata": {},
          "execution_count": 48
        }
      ]
    },
    {
      "cell_type": "code",
      "source": [
        "user_ids = rating_data['user_id'].unique().tolist()\n",
        "user_to_user_encoded = {x: i for i, x in enumerate(user_ids)}\n",
        "user_encoded_to_user = {i: x for i, x in enumerate(user_ids)}\n",
        "\n",
        "anime_ids = rating_data['anime_id'].unique().tolist()\n",
        "anime_to_anime_encoded = {x: i for i, x in enumerate(anime_ids)}\n",
        "anime_encoded_to_anime = {i: x for i, x in enumerate(anime_ids)}"
      ],
      "metadata": {
        "id": "qmoI06L6Yda7"
      },
      "execution_count": null,
      "outputs": []
    },
    {
      "cell_type": "code",
      "source": [
        "rating_data['user'] = rating_data['user_id'].map(user_to_user_encoded)\n",
        "rating_data['anime'] = rating_data['anime_id'].map(anime_to_anime_encoded)\n",
        "\n",
        "num_users = len(user_to_user_encoded)\n",
        "num_animes = len(anime_to_anime_encoded)"
      ],
      "metadata": {
        "id": "ttf6D5ojY7W7"
      },
      "execution_count": null,
      "outputs": []
    },
    {
      "cell_type": "markdown",
      "source": [
        "Normalisasi Rating\n",
        "\n",
        "Kita akan menormalisasi rating dari skala 0 sampai 1."
      ],
      "metadata": {
        "id": "HyXsQ8yxZ-6n"
      }
    },
    {
      "cell_type": "code",
      "source": [
        "min_rating = min(rating_data['rating'])\n",
        "max_rating = max(rating_data['rating'])\n",
        "\n",
        "rating_data['normalized_rating'] = rating_data['rating'].apply(lambda x: (x - min_rating) / (max_rating - min_rating))"
      ],
      "metadata": {
        "id": "3TxJmJycZp6n"
      },
      "execution_count": null,
      "outputs": []
    },
    {
      "cell_type": "code",
      "source": [
        "rating_data.head()"
      ],
      "metadata": {
        "colab": {
          "base_uri": "https://localhost:8080/",
          "height": 206
        },
        "id": "2X34_VMlamOQ",
        "outputId": "8f25d49a-f0ff-4d9a-a4c1-e2c316f91a3b"
      },
      "execution_count": null,
      "outputs": [
        {
          "output_type": "execute_result",
          "data": {
            "text/plain": [
              "     user_id  anime_id  rating  user  anime  normalized_rating\n",
              "47         1      8074      10     0      0                1.0\n",
              "81         1     11617      10     0      1                1.0\n",
              "83         1     11757      10     0      2                1.0\n",
              "101        1     15451      10     0      3                1.0\n",
              "153        2     11771      10     1      4                1.0"
            ],
            "text/html": [
              "\n",
              "  <div id=\"df-e6d77cb9-99cd-4658-a5e9-2173a4e38fa2\">\n",
              "    <div class=\"colab-df-container\">\n",
              "      <div>\n",
              "<style scoped>\n",
              "    .dataframe tbody tr th:only-of-type {\n",
              "        vertical-align: middle;\n",
              "    }\n",
              "\n",
              "    .dataframe tbody tr th {\n",
              "        vertical-align: top;\n",
              "    }\n",
              "\n",
              "    .dataframe thead th {\n",
              "        text-align: right;\n",
              "    }\n",
              "</style>\n",
              "<table border=\"1\" class=\"dataframe\">\n",
              "  <thead>\n",
              "    <tr style=\"text-align: right;\">\n",
              "      <th></th>\n",
              "      <th>user_id</th>\n",
              "      <th>anime_id</th>\n",
              "      <th>rating</th>\n",
              "      <th>user</th>\n",
              "      <th>anime</th>\n",
              "      <th>normalized_rating</th>\n",
              "    </tr>\n",
              "  </thead>\n",
              "  <tbody>\n",
              "    <tr>\n",
              "      <th>47</th>\n",
              "      <td>1</td>\n",
              "      <td>8074</td>\n",
              "      <td>10</td>\n",
              "      <td>0</td>\n",
              "      <td>0</td>\n",
              "      <td>1.0</td>\n",
              "    </tr>\n",
              "    <tr>\n",
              "      <th>81</th>\n",
              "      <td>1</td>\n",
              "      <td>11617</td>\n",
              "      <td>10</td>\n",
              "      <td>0</td>\n",
              "      <td>1</td>\n",
              "      <td>1.0</td>\n",
              "    </tr>\n",
              "    <tr>\n",
              "      <th>83</th>\n",
              "      <td>1</td>\n",
              "      <td>11757</td>\n",
              "      <td>10</td>\n",
              "      <td>0</td>\n",
              "      <td>2</td>\n",
              "      <td>1.0</td>\n",
              "    </tr>\n",
              "    <tr>\n",
              "      <th>101</th>\n",
              "      <td>1</td>\n",
              "      <td>15451</td>\n",
              "      <td>10</td>\n",
              "      <td>0</td>\n",
              "      <td>3</td>\n",
              "      <td>1.0</td>\n",
              "    </tr>\n",
              "    <tr>\n",
              "      <th>153</th>\n",
              "      <td>2</td>\n",
              "      <td>11771</td>\n",
              "      <td>10</td>\n",
              "      <td>1</td>\n",
              "      <td>4</td>\n",
              "      <td>1.0</td>\n",
              "    </tr>\n",
              "  </tbody>\n",
              "</table>\n",
              "</div>\n",
              "      <button class=\"colab-df-convert\" onclick=\"convertToInteractive('df-e6d77cb9-99cd-4658-a5e9-2173a4e38fa2')\"\n",
              "              title=\"Convert this dataframe to an interactive table.\"\n",
              "              style=\"display:none;\">\n",
              "        \n",
              "  <svg xmlns=\"http://www.w3.org/2000/svg\" height=\"24px\"viewBox=\"0 0 24 24\"\n",
              "       width=\"24px\">\n",
              "    <path d=\"M0 0h24v24H0V0z\" fill=\"none\"/>\n",
              "    <path d=\"M18.56 5.44l.94 2.06.94-2.06 2.06-.94-2.06-.94-.94-2.06-.94 2.06-2.06.94zm-11 1L8.5 8.5l.94-2.06 2.06-.94-2.06-.94L8.5 2.5l-.94 2.06-2.06.94zm10 10l.94 2.06.94-2.06 2.06-.94-2.06-.94-.94-2.06-.94 2.06-2.06.94z\"/><path d=\"M17.41 7.96l-1.37-1.37c-.4-.4-.92-.59-1.43-.59-.52 0-1.04.2-1.43.59L10.3 9.45l-7.72 7.72c-.78.78-.78 2.05 0 2.83L4 21.41c.39.39.9.59 1.41.59.51 0 1.02-.2 1.41-.59l7.78-7.78 2.81-2.81c.8-.78.8-2.07 0-2.86zM5.41 20L4 18.59l7.72-7.72 1.47 1.35L5.41 20z\"/>\n",
              "  </svg>\n",
              "      </button>\n",
              "      \n",
              "  <style>\n",
              "    .colab-df-container {\n",
              "      display:flex;\n",
              "      flex-wrap:wrap;\n",
              "      gap: 12px;\n",
              "    }\n",
              "\n",
              "    .colab-df-convert {\n",
              "      background-color: #E8F0FE;\n",
              "      border: none;\n",
              "      border-radius: 50%;\n",
              "      cursor: pointer;\n",
              "      display: none;\n",
              "      fill: #1967D2;\n",
              "      height: 32px;\n",
              "      padding: 0 0 0 0;\n",
              "      width: 32px;\n",
              "    }\n",
              "\n",
              "    .colab-df-convert:hover {\n",
              "      background-color: #E2EBFA;\n",
              "      box-shadow: 0px 1px 2px rgba(60, 64, 67, 0.3), 0px 1px 3px 1px rgba(60, 64, 67, 0.15);\n",
              "      fill: #174EA6;\n",
              "    }\n",
              "\n",
              "    [theme=dark] .colab-df-convert {\n",
              "      background-color: #3B4455;\n",
              "      fill: #D2E3FC;\n",
              "    }\n",
              "\n",
              "    [theme=dark] .colab-df-convert:hover {\n",
              "      background-color: #434B5C;\n",
              "      box-shadow: 0px 1px 3px 1px rgba(0, 0, 0, 0.15);\n",
              "      filter: drop-shadow(0px 1px 2px rgba(0, 0, 0, 0.3));\n",
              "      fill: #FFFFFF;\n",
              "    }\n",
              "  </style>\n",
              "\n",
              "      <script>\n",
              "        const buttonEl =\n",
              "          document.querySelector('#df-e6d77cb9-99cd-4658-a5e9-2173a4e38fa2 button.colab-df-convert');\n",
              "        buttonEl.style.display =\n",
              "          google.colab.kernel.accessAllowed ? 'block' : 'none';\n",
              "\n",
              "        async function convertToInteractive(key) {\n",
              "          const element = document.querySelector('#df-e6d77cb9-99cd-4658-a5e9-2173a4e38fa2');\n",
              "          const dataTable =\n",
              "            await google.colab.kernel.invokeFunction('convertToInteractive',\n",
              "                                                     [key], {});\n",
              "          if (!dataTable) return;\n",
              "\n",
              "          const docLinkHtml = 'Like what you see? Visit the ' +\n",
              "            '<a target=\"_blank\" href=https://colab.research.google.com/notebooks/data_table.ipynb>data table notebook</a>'\n",
              "            + ' to learn more about interactive tables.';\n",
              "          element.innerHTML = '';\n",
              "          dataTable['output_type'] = 'display_data';\n",
              "          await google.colab.output.renderOutput(dataTable, element);\n",
              "          const docLink = document.createElement('div');\n",
              "          docLink.innerHTML = docLinkHtml;\n",
              "          element.appendChild(docLink);\n",
              "        }\n",
              "      </script>\n",
              "    </div>\n",
              "  </div>\n",
              "  "
            ]
          },
          "metadata": {},
          "execution_count": 52
        }
      ]
    },
    {
      "cell_type": "markdown",
      "source": [
        "Train-Test Split"
      ],
      "metadata": {
        "id": "ZxyAPcpWg_Km"
      }
    },
    {
      "cell_type": "code",
      "source": [
        "X = rating_data[['user','anime']].values\n",
        "y = rating_data['normalized_rating'].values\n",
        "\n",
        "# We will use 80:20 ratio\n",
        "X_train, X_test, y_train, y_test = train_test_split(X, y, test_size = 0.2, random_state = 7)"
      ],
      "metadata": {
        "id": "fVQRitEag2hd"
      },
      "execution_count": null,
      "outputs": []
    },
    {
      "cell_type": "markdown",
      "source": [
        "## Modeling\n",
        "Dalam tahap ini, akan dibuat dua model sistem rekomendasi, yaitu:\n",
        "1.  Content-based filtering (CBF)\n",
        "\n",
        "    CBF adalah salah satu teknik dalam sistem rekomendasi yang berfokus pada karakteristik atau konten dari item yang direkomendasikan.\n",
        "    \n",
        "    Pada proyek ini dilakukan ekstraksi fitur dengan mengubah data atau informasi item menjadi fitur numerik yang dapat digunakan dalam proses rekomendasi. Fitur (genre, episodes, type, rating, members) digabungkan dan diubah menjadi vektor TF-IDF. Selanjutnya kesamaan item-item yang akan direkomendasikan dihitung menggunakan metrik kesamaan cosine similarity. Metrik ini mengukur sejauh mana vektor vektor fitur item-item cocok satu sama lain. Item-item yang memiliki kesamaan tertinggi diberikan peringkat dan diurutkan. Item-item dengan peringkat tertinggi kemudian direkomendasikan kepada *user*.\n",
        "    \n",
        "    Berikut adalah keuntungan dan kekurangan pada teknik ini:\n",
        "    -  Keuntungan: Kemudahan dalam interpretasi dan dapat diterapkan ketika data yang berasal dari user belum tersedia, karena hanya menggunakan informasi feature yang ada.\n",
        "    -  Kelemahan: Diperlukan deskripsi item/fitur yang baik untuk teknik ini.\n",
        "\n",
        "2.  Collaborative filtering (CF)\n",
        "    \n",
        "    Kita akan membangun Arsitektur model RecommenderNet yang dirancang untuk mempelajari pola hubungan antara *user_id* dan *anime_id*. Input akan melalui lapisan embedding dan kemudian digabungkan untuk memprediksi preferensi *user* terhadap anime tertentu. Berikut penjelasannya dan cara kerjanya:\n",
        "    - Fungsi loss Binary Crossentropy digunakan untuk mengukur kesalahan model selama proses pelatihan.\n",
        "    - Model ini menggunakan Adam Optimizer, yang memungkinkan pembaruan bobot dan bias model berdasarkan gradien, sambil mempertahankan kecepatan dan performa yang baik. Learning rate yang digunakan adalah 0.0001.\n",
        "    - Metrik yang digunakan untuk evaluasi model adalah MAE (Mean Absolute Error) dan RMSE (Root Mean Squared Error). Penggunaan metrik ini bertujuan untuk mengukur rata-rata selisih antara rating yang diprediksi oleh model dengan rating sebenarnya.\n",
        "    - batch_size digunakan untuk menentukan jumlah data training yang diproses dalam satu batch sebelum dilakukan penyesuaian bobot model. Semakin besar nilai batch_size, semakin cepat proses pelatihan, namun memori yang digunakan juga semakin besar. Batch Size yang digunakan adalah 256.\n",
        "    - Epochs menentukan jumlah iterasi di mana seluruh data training diberikan ke model. Semakin banyak epochs, prediksi model cenderung lebih akurat, tetapi juga meningkatkan risiko overfitting. Epochs yang digunakan adalah 8.\n",
        "    \n",
        "    Setelah dilatih, model dapat memberikan rekomendasi anime kepada *user* berdasarkan *rating* yang diberikan *user* dengan anime sebelumnya.\n",
        "    - Keuntungan: Kemampuan untuk memberikan rekomendasi yang dipersonalisasi sesuai dengan preferensi user, serta dapat diterapkan dalam kondisi di mana deskripsi item/feature yang baik tidak tersedia.\n",
        "    - Kelemahan: Teknik ini memerlukan jumlah data yang besar dari user yang berbeda-beda."
      ],
      "metadata": {
        "id": "TJ7pckkY_d6l"
      }
    },
    {
      "cell_type": "markdown",
      "source": [
        "### Content-based Filtering"
      ],
      "metadata": {
        "id": "iqx2BKgz4SXP"
      }
    },
    {
      "cell_type": "markdown",
      "source": [
        "Pertama-tama kita akan membuat TF-IDF matrix berdasarkan fitur yang telah disiapkan sebelumnya"
      ],
      "metadata": {
        "id": "Za2eq3MQENns"
      }
    },
    {
      "cell_type": "code",
      "source": [
        "# Create TF-IDF matrix based on features\n",
        "tfidf = TfidfVectorizer(encoding='utf-8',\n",
        "                        lowercase=True,\n",
        "                        stop_words='english')\n",
        "\n",
        "tfidf_matrix = tfidf.fit_transform(data['features'])\n",
        "\n",
        "# Compute cosine similarity\n",
        "cosine_sim = linear_kernel(tfidf_matrix, tfidf_matrix)"
      ],
      "metadata": {
        "id": "nCEXkwKKlvfT"
      },
      "execution_count": null,
      "outputs": []
    },
    {
      "cell_type": "markdown",
      "source": [
        "Kita lihat data apa saja yang tersedia"
      ],
      "metadata": {
        "id": "bwGb-BZdEVrr"
      }
    },
    {
      "cell_type": "code",
      "source": [
        "tfidf.get_feature_names_out()"
      ],
      "metadata": {
        "colab": {
          "base_uri": "https://localhost:8080/"
        },
        "id": "OrR_HnFGfmu9",
        "outputId": "14f8177b-e4d4-4c2f-b3f5-4f7c890053c3"
      },
      "execution_count": null,
      "outputs": [
        {
          "output_type": "execute_result",
          "data": {
            "text/plain": [
              "array(['aboveaverage', 'action', 'adventure', 'ai', 'arts', 'average',\n",
              "       'bad', 'belowaverage', 'cars', 'comedy', 'dementia', 'demons',\n",
              "       'drama', 'ecchi', 'epic', 'excellent', 'extralong',\n",
              "       'extremelypopular', 'fairlypopular', 'fantasy', 'fi', 'game',\n",
              "       'good', 'harem', 'hentai', 'highlypopular', 'historical', 'horror',\n",
              "       'josei', 'kids', 'life', 'long', 'lowpopularity', 'magic',\n",
              "       'martial', 'masterpiece', 'mecha', 'medium', 'mediumlong',\n",
              "       'megapopular', 'military', 'moderate', 'moderatepopularity',\n",
              "       'movie', 'music', 'mystery', 'ona', 'ova', 'parody', 'police',\n",
              "       'popular', 'power', 'psychological', 'quitepopular', 'romance',\n",
              "       'samurai', 'school', 'sci', 'seinen', 'short', 'shoujo', 'shounen',\n",
              "       'slice', 'space', 'special', 'sports', 'super', 'supernatural',\n",
              "       'superpopular', 'terrible', 'thriller', 'tv', 'ultralong',\n",
              "       'vampire', 'verybad', 'verygood', 'verypopular', 'veryshort',\n",
              "       'yaoi', 'yuri'], dtype=object)"
            ]
          },
          "metadata": {},
          "execution_count": 55
        }
      ]
    },
    {
      "cell_type": "markdown",
      "source": [
        "Buat fungsi rekomendasi yang akan menerima input judul anime, nilai cosine_sim dan tabel referensi yang digunakan. Fungsi ini akan mengembalikan data 5 judul anime yang direkomendasikan,"
      ],
      "metadata": {
        "id": "Brs5_ZIIJ79m"
      }
    },
    {
      "cell_type": "code",
      "source": [
        "# Function to get recommendations based on content similarity\n",
        "def get_recommendations(title, cosine_sim=cosine_sim, anime_data=data):\n",
        "    try:\n",
        "      # Get the index of the anime title\n",
        "      idx = anime_data.loc[anime_data['name'] == title].index[0]\n",
        "\n",
        "      # Get the pairwise similarity scores\n",
        "      sim_scores = list(enumerate(cosine_sim[idx]))\n",
        "\n",
        "      # Sort the anime titles based on similarity scores\n",
        "      sim_scores = sorted(sim_scores, key=lambda x: x[1], reverse=True)\n",
        "\n",
        "      # Get the top 10 most similar anime titles (excluding the input title itself)\n",
        "      top_anime_indices = [i[0] for i in sim_scores[1:6]]\n",
        "      top_anime_titles = anime_data[['name','genre', 'type','anime_size', 'anime_rating', 'anime_popularity']].iloc[top_anime_indices]\n",
        "      top_anime_titles['sim_score'] = sim_scores[1:6]\n",
        "      return top_anime_titles\n",
        "    except:\n",
        "      return \"Please Check Title\""
      ],
      "metadata": {
        "id": "6j6gRSTImY7Q"
      },
      "execution_count": null,
      "outputs": []
    },
    {
      "cell_type": "markdown",
      "source": [
        "Bagian menariknya, kita akan mencoba Sitem Rekomendasi Anime (Content-based Filtering) yang telah dibuat."
      ],
      "metadata": {
        "id": "s8xz9LthKId_"
      }
    },
    {
      "cell_type": "markdown",
      "source": [
        "Saya akan mencoba menggunakan salah satu judul franchise anime favorit saya, yakni: Macross. Pertama-tama kita akan mencari judul anime yang tersedia dengan mengeluarkan seluruh judul anime yang mengandung kata kunci Macross."
      ],
      "metadata": {
        "id": "SZJ7vsaZKnID"
      }
    },
    {
      "cell_type": "code",
      "source": [
        "# String to be searched in start of string\n",
        "search = 'Macross'\n",
        "\n",
        "# boolean series returned with False at place of NaN\n",
        "bool_series = data['name'].str.startswith(search, na = False)\n",
        "\n",
        "# displaying filtered dataframe\n",
        "data[bool_series]"
      ],
      "metadata": {
        "colab": {
          "base_uri": "https://localhost:8080/",
          "height": 1000
        },
        "id": "7F0PcKw7nrKa",
        "outputId": "26898238-5b82-4459-da59-748e689d471c"
      },
      "execution_count": null,
      "outputs": [
        {
          "output_type": "execute_result",
          "data": {
            "text/plain": [
              "      index  anime_id                                               name  \\\n",
              "427     429      1089                     Macross: Do You Remember Love?   \n",
              "442     444      1088                                            Macross   \n",
              "458     460      7222             Macross F Movie 2: Sayonara no Tsubasa   \n",
              "505     507      3572                                          Macross F   \n",
              "627     630      5310             Macross F Movie 1: Itsuwari no Utahime   \n",
              "747     750      4454     Macross F: Close Encounter - Deculture Edition   \n",
              "814     817       474                                       Macross Plus   \n",
              "815     818      1211                         Macross Plus Movie Edition   \n",
              "1085   1090       194                                       Macross Zero   \n",
              "1666   1673     10050                Macross F Music Clip Shuu: Nyankuri   \n",
              "2143   2155     28013                                          Macross Δ   \n",
              "2540   2554      1397                                          Macross 7   \n",
              "3119   3141      1399                                   Macross 7 Encore   \n",
              "3191   3213      1400         Macross 7 Movie: Ginga ga Ore wo Yondeiru!   \n",
              "3235   3257      1504                            Macross Flash Back 2012   \n",
              "3457   3479      6209                                     Macross 7 Plus   \n",
              "3479   3501      1398                                 Macross Dynamite 7   \n",
              "4436   4460     10361                       Macross F: Choujikuu Gekijou   \n",
              "4878   4905      5165  Macross 25th Anniversary: All That VF Macross ...   \n",
              "4924   4951      5164  Macross 25th Anniversary: All That VF Macross ...   \n",
              "5361   5390      1262                           Macross II: Lovers Again   \n",
              "5836   5872     15177                   Macross FB7: Ore no Uta wo Kike!   \n",
              "7013   7061      4939                                   Macross Fufonfia   \n",
              "7070   7118      5051                                         Macross XX   \n",
              "7306   7357     28809                          Macross Fufonfia Specials   \n",
              "\n",
              "                                                  genre     type anime_size  \\\n",
              "427    Action Mecha Military Music Romance Sci-Fi Space    Movie  veryshort   \n",
              "442    Action Mecha Military Music Romance Sci-Fi Space       TV  veryshort   \n",
              "458    Action Mecha Military Music Romance Sci-Fi Space    Movie  veryshort   \n",
              "505    Action Mecha Military Music Romance Sci-Fi Space       TV  veryshort   \n",
              "627    Action Mecha Military Music Romance Sci-Fi Space    Movie  veryshort   \n",
              "747            Action Mecha Military Music Sci-Fi Space  Special  veryshort   \n",
              "814           Drama Mecha Military Romance Sci-Fi Space      OVA  veryshort   \n",
              "815   Action Adventure Mecha Military Romance Sci-Fi...    Movie  veryshort   \n",
              "1085            Adventure Mecha Military Sci-Fi Shounen      OVA  veryshort   \n",
              "1666                                              Music    Music  veryshort   \n",
              "2143   Action Mecha Military Music Romance Sci-Fi Space       TV  veryshort   \n",
              "2540  Action Adventure Comedy Drama Mecha Military M...       TV  veryshort   \n",
              "3119     Action Comedy Drama Mecha Music Sci-Fi Shounen      OVA  veryshort   \n",
              "3191  Action Adventure Comedy Drama Mecha Music Sci-...    Movie  veryshort   \n",
              "3235                        Drama Mecha Military Sci-Fi      OVA  veryshort   \n",
              "3457                          Mecha Music Slice of Life  Special  veryshort   \n",
              "3479              Adventure Comedy Mecha Sci-Fi Shounen      OVA  veryshort   \n",
              "4436                               Comedy Slice of Life      OVA  veryshort   \n",
              "4878                                Action Mecha Sci-Fi      ONA  veryshort   \n",
              "4924                                Action Mecha Sci-Fi      ONA  veryshort   \n",
              "5361      Adventure Mecha Military Sci-Fi Shounen Space      OVA  veryshort   \n",
              "5836                  Action Mecha Music Romance Sci-Fi    Movie  veryshort   \n",
              "7013                                      Comedy Parody      ONA  veryshort   \n",
              "7070                                       Action Mecha  Special  veryshort   \n",
              "7306                                      Comedy Parody  Special  veryshort   \n",
              "\n",
              "      anime_rating anime_popularity  \\\n",
              "427       verygood    lowpopularity   \n",
              "442       verygood    lowpopularity   \n",
              "458       verygood    lowpopularity   \n",
              "505       verygood    lowpopularity   \n",
              "627           good    lowpopularity   \n",
              "747           good    lowpopularity   \n",
              "814           good    lowpopularity   \n",
              "815           good    lowpopularity   \n",
              "1085          good    lowpopularity   \n",
              "1666          good    lowpopularity   \n",
              "2143          good    lowpopularity   \n",
              "2540          good    lowpopularity   \n",
              "3119          good    lowpopularity   \n",
              "3191          good    lowpopularity   \n",
              "3235          good    lowpopularity   \n",
              "3457  aboveaverage    lowpopularity   \n",
              "3479  aboveaverage    lowpopularity   \n",
              "4436  aboveaverage    lowpopularity   \n",
              "4878  aboveaverage    lowpopularity   \n",
              "4924  aboveaverage    lowpopularity   \n",
              "5361  aboveaverage    lowpopularity   \n",
              "5836  aboveaverage    lowpopularity   \n",
              "7013       average    lowpopularity   \n",
              "7070       average    lowpopularity   \n",
              "7306       average    lowpopularity   \n",
              "\n",
              "                                               features  \n",
              "427   Action Mecha Military Music Romance Sci-Fi Spa...  \n",
              "442   Action Mecha Military Music Romance Sci-Fi Spa...  \n",
              "458   Action Mecha Military Music Romance Sci-Fi Spa...  \n",
              "505   Action Mecha Military Music Romance Sci-Fi Spa...  \n",
              "627   Action Mecha Military Music Romance Sci-Fi Spa...  \n",
              "747   Action Mecha Military Music Sci-Fi Space Speci...  \n",
              "814   Drama Mecha Military Romance Sci-Fi Space OVA ...  \n",
              "815   Action Adventure Mecha Military Romance Sci-Fi...  \n",
              "1085  Adventure Mecha Military Sci-Fi Shounen OVA ve...  \n",
              "1666           Music Music veryshort good lowpopularity  \n",
              "2143  Action Mecha Military Music Romance Sci-Fi Spa...  \n",
              "2540  Action Adventure Comedy Drama Mecha Military M...  \n",
              "3119  Action Comedy Drama Mecha Music Sci-Fi Shounen...  \n",
              "3191  Action Adventure Comedy Drama Mecha Music Sci-...  \n",
              "3235  Drama Mecha Military Sci-Fi OVA veryshort good...  \n",
              "3457  Mecha Music Slice of Life Special veryshort ab...  \n",
              "3479  Adventure Comedy Mecha Sci-Fi Shounen OVA very...  \n",
              "4436  Comedy Slice of Life OVA veryshort aboveaverag...  \n",
              "4878  Action Mecha Sci-Fi ONA veryshort aboveaverage...  \n",
              "4924  Action Mecha Sci-Fi ONA veryshort aboveaverage...  \n",
              "5361  Adventure Mecha Military Sci-Fi Shounen Space ...  \n",
              "5836  Action Mecha Music Romance Sci-Fi Movie verysh...  \n",
              "7013  Comedy Parody ONA veryshort average lowpopularity  \n",
              "7070  Action Mecha Special veryshort average lowpopu...  \n",
              "7306  Comedy Parody Special veryshort average lowpop...  "
            ],
            "text/html": [
              "\n",
              "  <div id=\"df-6f6aaf0c-01f6-42b9-b11e-301dca375e87\">\n",
              "    <div class=\"colab-df-container\">\n",
              "      <div>\n",
              "<style scoped>\n",
              "    .dataframe tbody tr th:only-of-type {\n",
              "        vertical-align: middle;\n",
              "    }\n",
              "\n",
              "    .dataframe tbody tr th {\n",
              "        vertical-align: top;\n",
              "    }\n",
              "\n",
              "    .dataframe thead th {\n",
              "        text-align: right;\n",
              "    }\n",
              "</style>\n",
              "<table border=\"1\" class=\"dataframe\">\n",
              "  <thead>\n",
              "    <tr style=\"text-align: right;\">\n",
              "      <th></th>\n",
              "      <th>index</th>\n",
              "      <th>anime_id</th>\n",
              "      <th>name</th>\n",
              "      <th>genre</th>\n",
              "      <th>type</th>\n",
              "      <th>anime_size</th>\n",
              "      <th>anime_rating</th>\n",
              "      <th>anime_popularity</th>\n",
              "      <th>features</th>\n",
              "    </tr>\n",
              "  </thead>\n",
              "  <tbody>\n",
              "    <tr>\n",
              "      <th>427</th>\n",
              "      <td>429</td>\n",
              "      <td>1089</td>\n",
              "      <td>Macross: Do You Remember Love?</td>\n",
              "      <td>Action Mecha Military Music Romance Sci-Fi Space</td>\n",
              "      <td>Movie</td>\n",
              "      <td>veryshort</td>\n",
              "      <td>verygood</td>\n",
              "      <td>lowpopularity</td>\n",
              "      <td>Action Mecha Military Music Romance Sci-Fi Spa...</td>\n",
              "    </tr>\n",
              "    <tr>\n",
              "      <th>442</th>\n",
              "      <td>444</td>\n",
              "      <td>1088</td>\n",
              "      <td>Macross</td>\n",
              "      <td>Action Mecha Military Music Romance Sci-Fi Space</td>\n",
              "      <td>TV</td>\n",
              "      <td>veryshort</td>\n",
              "      <td>verygood</td>\n",
              "      <td>lowpopularity</td>\n",
              "      <td>Action Mecha Military Music Romance Sci-Fi Spa...</td>\n",
              "    </tr>\n",
              "    <tr>\n",
              "      <th>458</th>\n",
              "      <td>460</td>\n",
              "      <td>7222</td>\n",
              "      <td>Macross F Movie 2: Sayonara no Tsubasa</td>\n",
              "      <td>Action Mecha Military Music Romance Sci-Fi Space</td>\n",
              "      <td>Movie</td>\n",
              "      <td>veryshort</td>\n",
              "      <td>verygood</td>\n",
              "      <td>lowpopularity</td>\n",
              "      <td>Action Mecha Military Music Romance Sci-Fi Spa...</td>\n",
              "    </tr>\n",
              "    <tr>\n",
              "      <th>505</th>\n",
              "      <td>507</td>\n",
              "      <td>3572</td>\n",
              "      <td>Macross F</td>\n",
              "      <td>Action Mecha Military Music Romance Sci-Fi Space</td>\n",
              "      <td>TV</td>\n",
              "      <td>veryshort</td>\n",
              "      <td>verygood</td>\n",
              "      <td>lowpopularity</td>\n",
              "      <td>Action Mecha Military Music Romance Sci-Fi Spa...</td>\n",
              "    </tr>\n",
              "    <tr>\n",
              "      <th>627</th>\n",
              "      <td>630</td>\n",
              "      <td>5310</td>\n",
              "      <td>Macross F Movie 1: Itsuwari no Utahime</td>\n",
              "      <td>Action Mecha Military Music Romance Sci-Fi Space</td>\n",
              "      <td>Movie</td>\n",
              "      <td>veryshort</td>\n",
              "      <td>good</td>\n",
              "      <td>lowpopularity</td>\n",
              "      <td>Action Mecha Military Music Romance Sci-Fi Spa...</td>\n",
              "    </tr>\n",
              "    <tr>\n",
              "      <th>747</th>\n",
              "      <td>750</td>\n",
              "      <td>4454</td>\n",
              "      <td>Macross F: Close Encounter - Deculture Edition</td>\n",
              "      <td>Action Mecha Military Music Sci-Fi Space</td>\n",
              "      <td>Special</td>\n",
              "      <td>veryshort</td>\n",
              "      <td>good</td>\n",
              "      <td>lowpopularity</td>\n",
              "      <td>Action Mecha Military Music Sci-Fi Space Speci...</td>\n",
              "    </tr>\n",
              "    <tr>\n",
              "      <th>814</th>\n",
              "      <td>817</td>\n",
              "      <td>474</td>\n",
              "      <td>Macross Plus</td>\n",
              "      <td>Drama Mecha Military Romance Sci-Fi Space</td>\n",
              "      <td>OVA</td>\n",
              "      <td>veryshort</td>\n",
              "      <td>good</td>\n",
              "      <td>lowpopularity</td>\n",
              "      <td>Drama Mecha Military Romance Sci-Fi Space OVA ...</td>\n",
              "    </tr>\n",
              "    <tr>\n",
              "      <th>815</th>\n",
              "      <td>818</td>\n",
              "      <td>1211</td>\n",
              "      <td>Macross Plus Movie Edition</td>\n",
              "      <td>Action Adventure Mecha Military Romance Sci-Fi...</td>\n",
              "      <td>Movie</td>\n",
              "      <td>veryshort</td>\n",
              "      <td>good</td>\n",
              "      <td>lowpopularity</td>\n",
              "      <td>Action Adventure Mecha Military Romance Sci-Fi...</td>\n",
              "    </tr>\n",
              "    <tr>\n",
              "      <th>1085</th>\n",
              "      <td>1090</td>\n",
              "      <td>194</td>\n",
              "      <td>Macross Zero</td>\n",
              "      <td>Adventure Mecha Military Sci-Fi Shounen</td>\n",
              "      <td>OVA</td>\n",
              "      <td>veryshort</td>\n",
              "      <td>good</td>\n",
              "      <td>lowpopularity</td>\n",
              "      <td>Adventure Mecha Military Sci-Fi Shounen OVA ve...</td>\n",
              "    </tr>\n",
              "    <tr>\n",
              "      <th>1666</th>\n",
              "      <td>1673</td>\n",
              "      <td>10050</td>\n",
              "      <td>Macross F Music Clip Shuu: Nyankuri</td>\n",
              "      <td>Music</td>\n",
              "      <td>Music</td>\n",
              "      <td>veryshort</td>\n",
              "      <td>good</td>\n",
              "      <td>lowpopularity</td>\n",
              "      <td>Music Music veryshort good lowpopularity</td>\n",
              "    </tr>\n",
              "    <tr>\n",
              "      <th>2143</th>\n",
              "      <td>2155</td>\n",
              "      <td>28013</td>\n",
              "      <td>Macross Δ</td>\n",
              "      <td>Action Mecha Military Music Romance Sci-Fi Space</td>\n",
              "      <td>TV</td>\n",
              "      <td>veryshort</td>\n",
              "      <td>good</td>\n",
              "      <td>lowpopularity</td>\n",
              "      <td>Action Mecha Military Music Romance Sci-Fi Spa...</td>\n",
              "    </tr>\n",
              "    <tr>\n",
              "      <th>2540</th>\n",
              "      <td>2554</td>\n",
              "      <td>1397</td>\n",
              "      <td>Macross 7</td>\n",
              "      <td>Action Adventure Comedy Drama Mecha Military M...</td>\n",
              "      <td>TV</td>\n",
              "      <td>veryshort</td>\n",
              "      <td>good</td>\n",
              "      <td>lowpopularity</td>\n",
              "      <td>Action Adventure Comedy Drama Mecha Military M...</td>\n",
              "    </tr>\n",
              "    <tr>\n",
              "      <th>3119</th>\n",
              "      <td>3141</td>\n",
              "      <td>1399</td>\n",
              "      <td>Macross 7 Encore</td>\n",
              "      <td>Action Comedy Drama Mecha Music Sci-Fi Shounen</td>\n",
              "      <td>OVA</td>\n",
              "      <td>veryshort</td>\n",
              "      <td>good</td>\n",
              "      <td>lowpopularity</td>\n",
              "      <td>Action Comedy Drama Mecha Music Sci-Fi Shounen...</td>\n",
              "    </tr>\n",
              "    <tr>\n",
              "      <th>3191</th>\n",
              "      <td>3213</td>\n",
              "      <td>1400</td>\n",
              "      <td>Macross 7 Movie: Ginga ga Ore wo Yondeiru!</td>\n",
              "      <td>Action Adventure Comedy Drama Mecha Music Sci-...</td>\n",
              "      <td>Movie</td>\n",
              "      <td>veryshort</td>\n",
              "      <td>good</td>\n",
              "      <td>lowpopularity</td>\n",
              "      <td>Action Adventure Comedy Drama Mecha Music Sci-...</td>\n",
              "    </tr>\n",
              "    <tr>\n",
              "      <th>3235</th>\n",
              "      <td>3257</td>\n",
              "      <td>1504</td>\n",
              "      <td>Macross Flash Back 2012</td>\n",
              "      <td>Drama Mecha Military Sci-Fi</td>\n",
              "      <td>OVA</td>\n",
              "      <td>veryshort</td>\n",
              "      <td>good</td>\n",
              "      <td>lowpopularity</td>\n",
              "      <td>Drama Mecha Military Sci-Fi OVA veryshort good...</td>\n",
              "    </tr>\n",
              "    <tr>\n",
              "      <th>3457</th>\n",
              "      <td>3479</td>\n",
              "      <td>6209</td>\n",
              "      <td>Macross 7 Plus</td>\n",
              "      <td>Mecha Music Slice of Life</td>\n",
              "      <td>Special</td>\n",
              "      <td>veryshort</td>\n",
              "      <td>aboveaverage</td>\n",
              "      <td>lowpopularity</td>\n",
              "      <td>Mecha Music Slice of Life Special veryshort ab...</td>\n",
              "    </tr>\n",
              "    <tr>\n",
              "      <th>3479</th>\n",
              "      <td>3501</td>\n",
              "      <td>1398</td>\n",
              "      <td>Macross Dynamite 7</td>\n",
              "      <td>Adventure Comedy Mecha Sci-Fi Shounen</td>\n",
              "      <td>OVA</td>\n",
              "      <td>veryshort</td>\n",
              "      <td>aboveaverage</td>\n",
              "      <td>lowpopularity</td>\n",
              "      <td>Adventure Comedy Mecha Sci-Fi Shounen OVA very...</td>\n",
              "    </tr>\n",
              "    <tr>\n",
              "      <th>4436</th>\n",
              "      <td>4460</td>\n",
              "      <td>10361</td>\n",
              "      <td>Macross F: Choujikuu Gekijou</td>\n",
              "      <td>Comedy Slice of Life</td>\n",
              "      <td>OVA</td>\n",
              "      <td>veryshort</td>\n",
              "      <td>aboveaverage</td>\n",
              "      <td>lowpopularity</td>\n",
              "      <td>Comedy Slice of Life OVA veryshort aboveaverag...</td>\n",
              "    </tr>\n",
              "    <tr>\n",
              "      <th>4878</th>\n",
              "      <td>4905</td>\n",
              "      <td>5165</td>\n",
              "      <td>Macross 25th Anniversary: All That VF Macross ...</td>\n",
              "      <td>Action Mecha Sci-Fi</td>\n",
              "      <td>ONA</td>\n",
              "      <td>veryshort</td>\n",
              "      <td>aboveaverage</td>\n",
              "      <td>lowpopularity</td>\n",
              "      <td>Action Mecha Sci-Fi ONA veryshort aboveaverage...</td>\n",
              "    </tr>\n",
              "    <tr>\n",
              "      <th>4924</th>\n",
              "      <td>4951</td>\n",
              "      <td>5164</td>\n",
              "      <td>Macross 25th Anniversary: All That VF Macross ...</td>\n",
              "      <td>Action Mecha Sci-Fi</td>\n",
              "      <td>ONA</td>\n",
              "      <td>veryshort</td>\n",
              "      <td>aboveaverage</td>\n",
              "      <td>lowpopularity</td>\n",
              "      <td>Action Mecha Sci-Fi ONA veryshort aboveaverage...</td>\n",
              "    </tr>\n",
              "    <tr>\n",
              "      <th>5361</th>\n",
              "      <td>5390</td>\n",
              "      <td>1262</td>\n",
              "      <td>Macross II: Lovers Again</td>\n",
              "      <td>Adventure Mecha Military Sci-Fi Shounen Space</td>\n",
              "      <td>OVA</td>\n",
              "      <td>veryshort</td>\n",
              "      <td>aboveaverage</td>\n",
              "      <td>lowpopularity</td>\n",
              "      <td>Adventure Mecha Military Sci-Fi Shounen Space ...</td>\n",
              "    </tr>\n",
              "    <tr>\n",
              "      <th>5836</th>\n",
              "      <td>5872</td>\n",
              "      <td>15177</td>\n",
              "      <td>Macross FB7: Ore no Uta wo Kike!</td>\n",
              "      <td>Action Mecha Music Romance Sci-Fi</td>\n",
              "      <td>Movie</td>\n",
              "      <td>veryshort</td>\n",
              "      <td>aboveaverage</td>\n",
              "      <td>lowpopularity</td>\n",
              "      <td>Action Mecha Music Romance Sci-Fi Movie verysh...</td>\n",
              "    </tr>\n",
              "    <tr>\n",
              "      <th>7013</th>\n",
              "      <td>7061</td>\n",
              "      <td>4939</td>\n",
              "      <td>Macross Fufonfia</td>\n",
              "      <td>Comedy Parody</td>\n",
              "      <td>ONA</td>\n",
              "      <td>veryshort</td>\n",
              "      <td>average</td>\n",
              "      <td>lowpopularity</td>\n",
              "      <td>Comedy Parody ONA veryshort average lowpopularity</td>\n",
              "    </tr>\n",
              "    <tr>\n",
              "      <th>7070</th>\n",
              "      <td>7118</td>\n",
              "      <td>5051</td>\n",
              "      <td>Macross XX</td>\n",
              "      <td>Action Mecha</td>\n",
              "      <td>Special</td>\n",
              "      <td>veryshort</td>\n",
              "      <td>average</td>\n",
              "      <td>lowpopularity</td>\n",
              "      <td>Action Mecha Special veryshort average lowpopu...</td>\n",
              "    </tr>\n",
              "    <tr>\n",
              "      <th>7306</th>\n",
              "      <td>7357</td>\n",
              "      <td>28809</td>\n",
              "      <td>Macross Fufonfia Specials</td>\n",
              "      <td>Comedy Parody</td>\n",
              "      <td>Special</td>\n",
              "      <td>veryshort</td>\n",
              "      <td>average</td>\n",
              "      <td>lowpopularity</td>\n",
              "      <td>Comedy Parody Special veryshort average lowpop...</td>\n",
              "    </tr>\n",
              "  </tbody>\n",
              "</table>\n",
              "</div>\n",
              "      <button class=\"colab-df-convert\" onclick=\"convertToInteractive('df-6f6aaf0c-01f6-42b9-b11e-301dca375e87')\"\n",
              "              title=\"Convert this dataframe to an interactive table.\"\n",
              "              style=\"display:none;\">\n",
              "        \n",
              "  <svg xmlns=\"http://www.w3.org/2000/svg\" height=\"24px\"viewBox=\"0 0 24 24\"\n",
              "       width=\"24px\">\n",
              "    <path d=\"M0 0h24v24H0V0z\" fill=\"none\"/>\n",
              "    <path d=\"M18.56 5.44l.94 2.06.94-2.06 2.06-.94-2.06-.94-.94-2.06-.94 2.06-2.06.94zm-11 1L8.5 8.5l.94-2.06 2.06-.94-2.06-.94L8.5 2.5l-.94 2.06-2.06.94zm10 10l.94 2.06.94-2.06 2.06-.94-2.06-.94-.94-2.06-.94 2.06-2.06.94z\"/><path d=\"M17.41 7.96l-1.37-1.37c-.4-.4-.92-.59-1.43-.59-.52 0-1.04.2-1.43.59L10.3 9.45l-7.72 7.72c-.78.78-.78 2.05 0 2.83L4 21.41c.39.39.9.59 1.41.59.51 0 1.02-.2 1.41-.59l7.78-7.78 2.81-2.81c.8-.78.8-2.07 0-2.86zM5.41 20L4 18.59l7.72-7.72 1.47 1.35L5.41 20z\"/>\n",
              "  </svg>\n",
              "      </button>\n",
              "      \n",
              "  <style>\n",
              "    .colab-df-container {\n",
              "      display:flex;\n",
              "      flex-wrap:wrap;\n",
              "      gap: 12px;\n",
              "    }\n",
              "\n",
              "    .colab-df-convert {\n",
              "      background-color: #E8F0FE;\n",
              "      border: none;\n",
              "      border-radius: 50%;\n",
              "      cursor: pointer;\n",
              "      display: none;\n",
              "      fill: #1967D2;\n",
              "      height: 32px;\n",
              "      padding: 0 0 0 0;\n",
              "      width: 32px;\n",
              "    }\n",
              "\n",
              "    .colab-df-convert:hover {\n",
              "      background-color: #E2EBFA;\n",
              "      box-shadow: 0px 1px 2px rgba(60, 64, 67, 0.3), 0px 1px 3px 1px rgba(60, 64, 67, 0.15);\n",
              "      fill: #174EA6;\n",
              "    }\n",
              "\n",
              "    [theme=dark] .colab-df-convert {\n",
              "      background-color: #3B4455;\n",
              "      fill: #D2E3FC;\n",
              "    }\n",
              "\n",
              "    [theme=dark] .colab-df-convert:hover {\n",
              "      background-color: #434B5C;\n",
              "      box-shadow: 0px 1px 3px 1px rgba(0, 0, 0, 0.15);\n",
              "      filter: drop-shadow(0px 1px 2px rgba(0, 0, 0, 0.3));\n",
              "      fill: #FFFFFF;\n",
              "    }\n",
              "  </style>\n",
              "\n",
              "      <script>\n",
              "        const buttonEl =\n",
              "          document.querySelector('#df-6f6aaf0c-01f6-42b9-b11e-301dca375e87 button.colab-df-convert');\n",
              "        buttonEl.style.display =\n",
              "          google.colab.kernel.accessAllowed ? 'block' : 'none';\n",
              "\n",
              "        async function convertToInteractive(key) {\n",
              "          const element = document.querySelector('#df-6f6aaf0c-01f6-42b9-b11e-301dca375e87');\n",
              "          const dataTable =\n",
              "            await google.colab.kernel.invokeFunction('convertToInteractive',\n",
              "                                                     [key], {});\n",
              "          if (!dataTable) return;\n",
              "\n",
              "          const docLinkHtml = 'Like what you see? Visit the ' +\n",
              "            '<a target=\"_blank\" href=https://colab.research.google.com/notebooks/data_table.ipynb>data table notebook</a>'\n",
              "            + ' to learn more about interactive tables.';\n",
              "          element.innerHTML = '';\n",
              "          dataTable['output_type'] = 'display_data';\n",
              "          await google.colab.output.renderOutput(dataTable, element);\n",
              "          const docLink = document.createElement('div');\n",
              "          docLink.innerHTML = docLinkHtml;\n",
              "          element.appendChild(docLink);\n",
              "        }\n",
              "      </script>\n",
              "    </div>\n",
              "  </div>\n",
              "  "
            ]
          },
          "metadata": {},
          "execution_count": 57
        }
      ]
    },
    {
      "cell_type": "markdown",
      "source": [
        "Saya akan coba dengan judul Anime yang terakhir saya tonton, Macross Δ (Macross Delta)."
      ],
      "metadata": {
        "id": "qFAhthbaLAXb"
      }
    },
    {
      "cell_type": "code",
      "source": [
        "# Contoh penggunaan\n",
        "input_anime_title = \"Macross Δ\"\n",
        "recommendations = get_recommendations(input_anime_title)\n",
        "\n",
        "print(\"Recommendations for\", input_anime_title + \":\")\n",
        "recommendations"
      ],
      "metadata": {
        "colab": {
          "base_uri": "https://localhost:8080/",
          "height": 355
        },
        "id": "Ck5t37W2mZhT",
        "outputId": "00c96753-4262-4ba5-db2b-a5f5eff2db8a"
      },
      "execution_count": null,
      "outputs": [
        {
          "output_type": "stream",
          "name": "stdout",
          "text": [
            "Recommendations for Macross Δ:\n"
          ]
        },
        {
          "output_type": "execute_result",
          "data": {
            "text/plain": [
              "                                        name  \\\n",
              "627   Macross F Movie 1: Itsuwari no Utahime   \n",
              "442                                  Macross   \n",
              "505                                Macross F   \n",
              "628                  Mobile Suit Gundam Seed   \n",
              "2075         Mobile Suit Gundam Seed Destiny   \n",
              "\n",
              "                                                 genre   type anime_size  \\\n",
              "627   Action Mecha Military Music Romance Sci-Fi Space  Movie  veryshort   \n",
              "442   Action Mecha Military Music Romance Sci-Fi Space     TV  veryshort   \n",
              "505   Action Mecha Military Music Romance Sci-Fi Space     TV  veryshort   \n",
              "628   Action Drama Mecha Military Romance Sci-Fi Space     TV  veryshort   \n",
              "2075  Action Drama Mecha Military Romance Sci-Fi Space     TV  veryshort   \n",
              "\n",
              "     anime_rating anime_popularity                   sim_score  \n",
              "627          good    lowpopularity   (627, 0.9454558076721036)  \n",
              "442      verygood    lowpopularity   (442, 0.9074532950525018)  \n",
              "505      verygood    lowpopularity   (505, 0.9074532950525018)  \n",
              "628          good    lowpopularity   (628, 0.8996772680176637)  \n",
              "2075         good    lowpopularity  (2075, 0.8996772680176637)  "
            ],
            "text/html": [
              "\n",
              "  <div id=\"df-397d295a-d421-4081-8f18-a4ad27b4aaa9\">\n",
              "    <div class=\"colab-df-container\">\n",
              "      <div>\n",
              "<style scoped>\n",
              "    .dataframe tbody tr th:only-of-type {\n",
              "        vertical-align: middle;\n",
              "    }\n",
              "\n",
              "    .dataframe tbody tr th {\n",
              "        vertical-align: top;\n",
              "    }\n",
              "\n",
              "    .dataframe thead th {\n",
              "        text-align: right;\n",
              "    }\n",
              "</style>\n",
              "<table border=\"1\" class=\"dataframe\">\n",
              "  <thead>\n",
              "    <tr style=\"text-align: right;\">\n",
              "      <th></th>\n",
              "      <th>name</th>\n",
              "      <th>genre</th>\n",
              "      <th>type</th>\n",
              "      <th>anime_size</th>\n",
              "      <th>anime_rating</th>\n",
              "      <th>anime_popularity</th>\n",
              "      <th>sim_score</th>\n",
              "    </tr>\n",
              "  </thead>\n",
              "  <tbody>\n",
              "    <tr>\n",
              "      <th>627</th>\n",
              "      <td>Macross F Movie 1: Itsuwari no Utahime</td>\n",
              "      <td>Action Mecha Military Music Romance Sci-Fi Space</td>\n",
              "      <td>Movie</td>\n",
              "      <td>veryshort</td>\n",
              "      <td>good</td>\n",
              "      <td>lowpopularity</td>\n",
              "      <td>(627, 0.9454558076721036)</td>\n",
              "    </tr>\n",
              "    <tr>\n",
              "      <th>442</th>\n",
              "      <td>Macross</td>\n",
              "      <td>Action Mecha Military Music Romance Sci-Fi Space</td>\n",
              "      <td>TV</td>\n",
              "      <td>veryshort</td>\n",
              "      <td>verygood</td>\n",
              "      <td>lowpopularity</td>\n",
              "      <td>(442, 0.9074532950525018)</td>\n",
              "    </tr>\n",
              "    <tr>\n",
              "      <th>505</th>\n",
              "      <td>Macross F</td>\n",
              "      <td>Action Mecha Military Music Romance Sci-Fi Space</td>\n",
              "      <td>TV</td>\n",
              "      <td>veryshort</td>\n",
              "      <td>verygood</td>\n",
              "      <td>lowpopularity</td>\n",
              "      <td>(505, 0.9074532950525018)</td>\n",
              "    </tr>\n",
              "    <tr>\n",
              "      <th>628</th>\n",
              "      <td>Mobile Suit Gundam Seed</td>\n",
              "      <td>Action Drama Mecha Military Romance Sci-Fi Space</td>\n",
              "      <td>TV</td>\n",
              "      <td>veryshort</td>\n",
              "      <td>good</td>\n",
              "      <td>lowpopularity</td>\n",
              "      <td>(628, 0.8996772680176637)</td>\n",
              "    </tr>\n",
              "    <tr>\n",
              "      <th>2075</th>\n",
              "      <td>Mobile Suit Gundam Seed Destiny</td>\n",
              "      <td>Action Drama Mecha Military Romance Sci-Fi Space</td>\n",
              "      <td>TV</td>\n",
              "      <td>veryshort</td>\n",
              "      <td>good</td>\n",
              "      <td>lowpopularity</td>\n",
              "      <td>(2075, 0.8996772680176637)</td>\n",
              "    </tr>\n",
              "  </tbody>\n",
              "</table>\n",
              "</div>\n",
              "      <button class=\"colab-df-convert\" onclick=\"convertToInteractive('df-397d295a-d421-4081-8f18-a4ad27b4aaa9')\"\n",
              "              title=\"Convert this dataframe to an interactive table.\"\n",
              "              style=\"display:none;\">\n",
              "        \n",
              "  <svg xmlns=\"http://www.w3.org/2000/svg\" height=\"24px\"viewBox=\"0 0 24 24\"\n",
              "       width=\"24px\">\n",
              "    <path d=\"M0 0h24v24H0V0z\" fill=\"none\"/>\n",
              "    <path d=\"M18.56 5.44l.94 2.06.94-2.06 2.06-.94-2.06-.94-.94-2.06-.94 2.06-2.06.94zm-11 1L8.5 8.5l.94-2.06 2.06-.94-2.06-.94L8.5 2.5l-.94 2.06-2.06.94zm10 10l.94 2.06.94-2.06 2.06-.94-2.06-.94-.94-2.06-.94 2.06-2.06.94z\"/><path d=\"M17.41 7.96l-1.37-1.37c-.4-.4-.92-.59-1.43-.59-.52 0-1.04.2-1.43.59L10.3 9.45l-7.72 7.72c-.78.78-.78 2.05 0 2.83L4 21.41c.39.39.9.59 1.41.59.51 0 1.02-.2 1.41-.59l7.78-7.78 2.81-2.81c.8-.78.8-2.07 0-2.86zM5.41 20L4 18.59l7.72-7.72 1.47 1.35L5.41 20z\"/>\n",
              "  </svg>\n",
              "      </button>\n",
              "      \n",
              "  <style>\n",
              "    .colab-df-container {\n",
              "      display:flex;\n",
              "      flex-wrap:wrap;\n",
              "      gap: 12px;\n",
              "    }\n",
              "\n",
              "    .colab-df-convert {\n",
              "      background-color: #E8F0FE;\n",
              "      border: none;\n",
              "      border-radius: 50%;\n",
              "      cursor: pointer;\n",
              "      display: none;\n",
              "      fill: #1967D2;\n",
              "      height: 32px;\n",
              "      padding: 0 0 0 0;\n",
              "      width: 32px;\n",
              "    }\n",
              "\n",
              "    .colab-df-convert:hover {\n",
              "      background-color: #E2EBFA;\n",
              "      box-shadow: 0px 1px 2px rgba(60, 64, 67, 0.3), 0px 1px 3px 1px rgba(60, 64, 67, 0.15);\n",
              "      fill: #174EA6;\n",
              "    }\n",
              "\n",
              "    [theme=dark] .colab-df-convert {\n",
              "      background-color: #3B4455;\n",
              "      fill: #D2E3FC;\n",
              "    }\n",
              "\n",
              "    [theme=dark] .colab-df-convert:hover {\n",
              "      background-color: #434B5C;\n",
              "      box-shadow: 0px 1px 3px 1px rgba(0, 0, 0, 0.15);\n",
              "      filter: drop-shadow(0px 1px 2px rgba(0, 0, 0, 0.3));\n",
              "      fill: #FFFFFF;\n",
              "    }\n",
              "  </style>\n",
              "\n",
              "      <script>\n",
              "        const buttonEl =\n",
              "          document.querySelector('#df-397d295a-d421-4081-8f18-a4ad27b4aaa9 button.colab-df-convert');\n",
              "        buttonEl.style.display =\n",
              "          google.colab.kernel.accessAllowed ? 'block' : 'none';\n",
              "\n",
              "        async function convertToInteractive(key) {\n",
              "          const element = document.querySelector('#df-397d295a-d421-4081-8f18-a4ad27b4aaa9');\n",
              "          const dataTable =\n",
              "            await google.colab.kernel.invokeFunction('convertToInteractive',\n",
              "                                                     [key], {});\n",
              "          if (!dataTable) return;\n",
              "\n",
              "          const docLinkHtml = 'Like what you see? Visit the ' +\n",
              "            '<a target=\"_blank\" href=https://colab.research.google.com/notebooks/data_table.ipynb>data table notebook</a>'\n",
              "            + ' to learn more about interactive tables.';\n",
              "          element.innerHTML = '';\n",
              "          dataTable['output_type'] = 'display_data';\n",
              "          await google.colab.output.renderOutput(dataTable, element);\n",
              "          const docLink = document.createElement('div');\n",
              "          docLink.innerHTML = docLinkHtml;\n",
              "          element.appendChild(docLink);\n",
              "        }\n",
              "      </script>\n",
              "    </div>\n",
              "  </div>\n",
              "  "
            ]
          },
          "metadata": {},
          "execution_count": 58
        }
      ]
    },
    {
      "cell_type": "markdown",
      "source": [
        "Hasilnya sangat memuaskan, sistem ini merekomendasikan Macross (Classic) dan juga Macross F (Macross Frontier) yang merupakan series Macross terfavorit saya. Cukup mengesankan juga, sistem rekomendasi ini menyarankan judul dengan genre serupa namun berbeda franchise, yaitu Gundam."
      ],
      "metadata": {
        "id": "PlZNSQ7-LSgS"
      }
    },
    {
      "cell_type": "markdown",
      "source": [
        "### Collaborative Filtering"
      ],
      "metadata": {
        "id": "A581ANxK47DT"
      }
    },
    {
      "cell_type": "markdown",
      "source": [
        "Membuat class RecommenderNet dengan keras Model class."
      ],
      "metadata": {
        "id": "iW4mjvQ3i2Nk"
      }
    },
    {
      "cell_type": "code",
      "source": [
        "class RecommenderNet(tf.keras.Model):\n",
        "\n",
        "    def __init__(self, num_users, num_animes, embedding_size, **kwargs):\n",
        "        super(RecommenderNet, self).__init__(**kwargs)\n",
        "        self.num_users = num_users\n",
        "        self.num_animes = num_animes\n",
        "        self.embedding_size = embedding_size\n",
        "        self.user_embedding = layers.Embedding(\n",
        "            num_users,\n",
        "            embedding_size,\n",
        "            embeddings_initializer=\"he_normal\",\n",
        "            embeddings_regularizer=tf.keras.regularizers.l2(1e-6),\n",
        "        )\n",
        "        self.user_bias = layers.Embedding(num_users, 1)\n",
        "        self.anime_embedding = layers.Embedding(\n",
        "            num_animes,\n",
        "            embedding_size,\n",
        "            embeddings_initializer=\"he_normal\",\n",
        "            embeddings_regularizer=tf.keras.regularizers.l2(1e-6),\n",
        "        )\n",
        "        self.anime_bias = layers.Embedding(num_animes, 1)\n",
        "\n",
        "    def call(self, inputs):\n",
        "        user_vector = self.user_embedding(inputs[:, 0])\n",
        "        user_bias = self.user_bias(inputs[:, 0])\n",
        "        anime_vector = self.anime_embedding(inputs[:, 1])\n",
        "        anime_bias = self.anime_bias(inputs[:, 1])\n",
        "\n",
        "        dot_user_anime = tf.tensordot(user_vector, anime_vector, 2)\n",
        "\n",
        "        x = dot_user_anime + user_bias + anime_bias\n",
        "\n",
        "        return tf.nn.sigmoid(x)"
      ],
      "metadata": {
        "id": "ByX4xBtS46Oy"
      },
      "execution_count": null,
      "outputs": []
    },
    {
      "cell_type": "markdown",
      "source": [
        "Proses compile terhadap model"
      ],
      "metadata": {
        "id": "7B72FNCvk74W"
      }
    },
    {
      "cell_type": "code",
      "source": [
        "model = RecommenderNet(num_users, num_animes, 50) # Inisialisasi model\n",
        "model.compile(loss=tf.keras.losses.BinaryCrossentropy(),\n",
        "              optimizer=keras.optimizers.Adam(learning_rate=0.0001),\n",
        "              metrics=[tf.keras.metrics.MeanAbsoluteError(), tf.keras.metrics.RootMeanSquaredError()])"
      ],
      "metadata": {
        "id": "9q5YkxjHkwqC"
      },
      "execution_count": null,
      "outputs": []
    },
    {
      "cell_type": "markdown",
      "source": [
        "Memulai proses training"
      ],
      "metadata": {
        "id": "ekQMa8l8lhEl"
      }
    },
    {
      "cell_type": "code",
      "source": [
        "# Check jika menggunakan GPU\n",
        "tf.test.gpu_device_name()"
      ],
      "metadata": {
        "colab": {
          "base_uri": "https://localhost:8080/",
          "height": 36
        },
        "id": "QR9QRYcKtscU",
        "outputId": "53eae99d-7a46-4e93-cc97-e591d0ed79b2"
      },
      "execution_count": null,
      "outputs": [
        {
          "output_type": "execute_result",
          "data": {
            "text/plain": [
              "'/device:GPU:0'"
            ],
            "application/vnd.google.colaboratory.intrinsic+json": {
              "type": "string"
            }
          },
          "metadata": {},
          "execution_count": 61
        }
      ]
    },
    {
      "cell_type": "code",
      "source": [
        "# Memulai training\n",
        "history = model.fit(\n",
        "    x = X_train,\n",
        "    y = y_train,\n",
        "    batch_size = 256,\n",
        "    epochs = 8,\n",
        "    validation_data = (X_test, y_test)\n",
        ")"
      ],
      "metadata": {
        "colab": {
          "base_uri": "https://localhost:8080/"
        },
        "id": "d8gLAKMPlPke",
        "outputId": "43fdc1b3-eeb8-4229-f6a9-51cfb64baedd"
      },
      "execution_count": null,
      "outputs": [
        {
          "output_type": "stream",
          "name": "stdout",
          "text": [
            "Epoch 1/8\n",
            "19804/19804 [==============================] - 189s 9ms/step - loss: 0.5606 - mean_absolute_error: 0.1434 - root_mean_squared_error: 0.1839 - val_loss: 0.5407 - val_mean_absolute_error: 0.1233 - val_root_mean_squared_error: 0.1586\n",
            "Epoch 2/8\n",
            "19804/19804 [==============================] - 181s 9ms/step - loss: 0.5369 - mean_absolute_error: 0.1191 - root_mean_squared_error: 0.1540 - val_loss: 0.5342 - val_mean_absolute_error: 0.1163 - val_root_mean_squared_error: 0.1506\n",
            "Epoch 3/8\n",
            "19804/19804 [==============================] - 151s 8ms/step - loss: 0.5319 - mean_absolute_error: 0.1138 - root_mean_squared_error: 0.1477 - val_loss: 0.5305 - val_mean_absolute_error: 0.1124 - val_root_mean_squared_error: 0.1458\n",
            "Epoch 4/8\n",
            "19804/19804 [==============================] - 143s 7ms/step - loss: 0.5288 - mean_absolute_error: 0.1105 - root_mean_squared_error: 0.1437 - val_loss: 0.5280 - val_mean_absolute_error: 0.1097 - val_root_mean_squared_error: 0.1427\n",
            "Epoch 5/8\n",
            "19804/19804 [==============================] - 139s 7ms/step - loss: 0.5267 - mean_absolute_error: 0.1082 - root_mean_squared_error: 0.1410 - val_loss: 0.5263 - val_mean_absolute_error: 0.1080 - val_root_mean_squared_error: 0.1405\n",
            "Epoch 6/8\n",
            "19804/19804 [==============================] - 134s 7ms/step - loss: 0.5251 - mean_absolute_error: 0.1066 - root_mean_squared_error: 0.1390 - val_loss: 0.5250 - val_mean_absolute_error: 0.1066 - val_root_mean_squared_error: 0.1389\n",
            "Epoch 7/8\n",
            "19804/19804 [==============================] - 141s 7ms/step - loss: 0.5239 - mean_absolute_error: 0.1054 - root_mean_squared_error: 0.1375 - val_loss: 0.5241 - val_mean_absolute_error: 0.1057 - val_root_mean_squared_error: 0.1376\n",
            "Epoch 8/8\n",
            "19804/19804 [==============================] - 132s 7ms/step - loss: 0.5230 - mean_absolute_error: 0.1044 - root_mean_squared_error: 0.1364 - val_loss: 0.5233 - val_mean_absolute_error: 0.1048 - val_root_mean_squared_error: 0.1368\n"
          ]
        }
      ]
    },
    {
      "cell_type": "markdown",
      "source": [
        "Visualisasi Proses Training"
      ],
      "metadata": {
        "id": "nb-j0jQDlws2"
      }
    },
    {
      "cell_type": "markdown",
      "source": [
        "Mean Absolute Error (MAE)"
      ],
      "metadata": {
        "id": "p09ovpd_mahB"
      }
    },
    {
      "cell_type": "code",
      "source": [
        "plt.plot(history.history['mean_absolute_error'])\n",
        "plt.plot(history.history['val_mean_absolute_error'])\n",
        "plt.title('Mean Absolute Error')\n",
        "plt.ylabel('MAE')\n",
        "plt.xlabel('EPOCH')\n",
        "plt.legend(['train', 'test'], loc='upper left')\n",
        "plt.show()"
      ],
      "metadata": {
        "colab": {
          "base_uri": "https://localhost:8080/",
          "height": 472
        },
        "id": "LTf9apKslsfO",
        "outputId": "4151194f-f11a-45bb-b5c8-76930b69dad8"
      },
      "execution_count": null,
      "outputs": [
        {
          "output_type": "display_data",
          "data": {
            "text/plain": [
              "<Figure size 640x480 with 1 Axes>"
            ],
            "image/png": "[encoded data removed]"
          },
          "metadata": {}
        }
      ]
    },
    {
      "cell_type": "markdown",
      "source": [
        "RMSE (Root Mean Squared Error)"
      ],
      "metadata": {
        "id": "2iqno3zpmc2_"
      }
    },
    {
      "cell_type": "code",
      "source": [
        "plt.plot(history.history['root_mean_squared_error'])\n",
        "plt.plot(history.history['val_root_mean_squared_error'])\n",
        "plt.title('Root Mean Squared Error')\n",
        "plt.ylabel('RMSE')\n",
        "plt.xlabel('EPOCH')\n",
        "plt.legend(['train', 'test'], loc='upper left')\n",
        "plt.show()"
      ],
      "metadata": {
        "colab": {
          "base_uri": "https://localhost:8080/",
          "height": 472
        },
        "id": "ayITmybFmYjY",
        "outputId": "80103f28-8d61-4bba-e946-3d91581f0e83"
      },
      "execution_count": null,
      "outputs": [
        {
          "output_type": "display_data",
          "data": {
            "text/plain": [
              "<Figure size 640x480 with 1 Axes>"
            ],
            "image/png": "[encoded data removed]"
          },
          "metadata": {}
        }
      ]
    },
    {
      "cell_type": "markdown",
      "source": [
        "Menghasilkan rekomendasi"
      ],
      "metadata": {
        "id": "qeVKDfgMmtk4"
      }
    },
    {
      "cell_type": "code",
      "source": [
        "def get_cf_recommendation(user_id):\n",
        "  watched_animes = rating_data[rating_data['user_id'] == user_id]\n",
        "\n",
        "  not_watched_animes = anime[~anime['anime_id'].isin(watched_animes['anime_id'].values)]['anime_id']\n",
        "  not_watched_animes = list(set(not_watched_animes).intersection(set(anime_to_anime_encoded.keys())))\n",
        "  not_watched_animes = [[anime_to_anime_encoded.get(x)] for x in not_watched_animes]\n",
        "\n",
        "  user_encoder = user_to_user_encoded.get(user_id)\n",
        "  user_anime_array = np.hstack(\n",
        "    ([[user_encoder]] * len(not_watched_animes), not_watched_animes)\n",
        "  )\n",
        "\n",
        "  pred_ratings = model.predict(user_anime_array).flatten()\n",
        "  top_ratings_indices = pred_ratings.argsort()[-10:][::-1]\n",
        "  recommended_anime_ids = [anime_encoded_to_anime.get(not_watched_animes[x][0]) for x in top_ratings_indices]\n",
        "\n",
        "  print('Showing recommendations for users: {}'.format(user_id))\n",
        "  print('===' * 9)\n",
        "  print('Movie with high ratings from user')\n",
        "  print('----' * 8)\n",
        "\n",
        "  top_anime_user = (\n",
        "      watched_animes.sort_values(\n",
        "          by='rating',\n",
        "          ascending=False\n",
        "      )\n",
        "      .head(5)\n",
        "      .anime_id.values\n",
        "  )\n",
        "\n",
        "  animes_rows = anime[anime['anime_id'].isin(top_anime_user)]\n",
        "  for row in animes_rows.itertuples():\n",
        "    print(row.name, ':', row.genre)\n",
        "\n",
        "  print('----' * 8)\n",
        "  print('Top 10 anime recommendation')\n",
        "  print('----' * 8)\n",
        "\n",
        "  recommended_animes = anime[anime['anime_id'].isin(recommended_anime_ids)]\n",
        "  for row in recommended_animes.itertuples():\n",
        "    print(row.name, ':', row.genre)"
      ],
      "metadata": {
        "id": "5l6urFyBmsHF"
      },
      "execution_count": null,
      "outputs": []
    },
    {
      "cell_type": "code",
      "source": [
        "rating_data.loc[rating_data['anime_id'] == 3572].sort_values('normalized_rating', ascending=False)"
      ],
      "metadata": {
        "colab": {
          "base_uri": "https://localhost:8080/",
          "height": 423
        },
        "id": "SP6dFkgX2sWx",
        "outputId": "b1e0bc32-f465-43cd-868c-121870342517"
      },
      "execution_count": null,
      "outputs": [
        {
          "output_type": "execute_result",
          "data": {
            "text/plain": [
              "         user_id  anime_id  rating   user  anime  normalized_rating\n",
              "2353363    22584      3572      10  21341   1401           1.000000\n",
              "2155622    20881      3572      10  19721   1401           1.000000\n",
              "1799656    17440      3572      10  16478   1401           1.000000\n",
              "1805026    17497      3572      10  16531   1401           1.000000\n",
              "4489897    42555      3572      10  40204   1401           1.000000\n",
              "...          ...       ...     ...    ...    ...                ...\n",
              "5359012    50748      3572       3  47993   1401           0.222222\n",
              "54241        565      3572       2    528   1401           0.111111\n",
              "3694566    34512      3572       1  32624   1401           0.000000\n",
              "6386396    59235      3572       1  56113   1401           0.000000\n",
              "6353360    58974      3572       1  55860   1401           0.000000\n",
              "\n",
              "[3118 rows x 6 columns]"
            ],
            "text/html": [
              "\n",
              "  <div id=\"df-b9863e2b-f97b-4a36-bef6-2f3ad3b754df\">\n",
              "    <div class=\"colab-df-container\">\n",
              "      <div>\n",
              "<style scoped>\n",
              "    .dataframe tbody tr th:only-of-type {\n",
              "        vertical-align: middle;\n",
              "    }\n",
              "\n",
              "    .dataframe tbody tr th {\n",
              "        vertical-align: top;\n",
              "    }\n",
              "\n",
              "    .dataframe thead th {\n",
              "        text-align: right;\n",
              "    }\n",
              "</style>\n",
              "<table border=\"1\" class=\"dataframe\">\n",
              "  <thead>\n",
              "    <tr style=\"text-align: right;\">\n",
              "      <th></th>\n",
              "      <th>user_id</th>\n",
              "      <th>anime_id</th>\n",
              "      <th>rating</th>\n",
              "      <th>user</th>\n",
              "      <th>anime</th>\n",
              "      <th>normalized_rating</th>\n",
              "    </tr>\n",
              "  </thead>\n",
              "  <tbody>\n",
              "    <tr>\n",
              "      <th>2353363</th>\n",
              "      <td>22584</td>\n",
              "      <td>3572</td>\n",
              "      <td>10</td>\n",
              "      <td>21341</td>\n",
              "      <td>1401</td>\n",
              "      <td>1.000000</td>\n",
              "    </tr>\n",
              "    <tr>\n",
              "      <th>2155622</th>\n",
              "      <td>20881</td>\n",
              "      <td>3572</td>\n",
              "      <td>10</td>\n",
              "      <td>19721</td>\n",
              "      <td>1401</td>\n",
              "      <td>1.000000</td>\n",
              "    </tr>\n",
              "    <tr>\n",
              "      <th>1799656</th>\n",
              "      <td>17440</td>\n",
              "      <td>3572</td>\n",
              "      <td>10</td>\n",
              "      <td>16478</td>\n",
              "      <td>1401</td>\n",
              "      <td>1.000000</td>\n",
              "    </tr>\n",
              "    <tr>\n",
              "      <th>1805026</th>\n",
              "      <td>17497</td>\n",
              "      <td>3572</td>\n",
              "      <td>10</td>\n",
              "      <td>16531</td>\n",
              "      <td>1401</td>\n",
              "      <td>1.000000</td>\n",
              "    </tr>\n",
              "    <tr>\n",
              "      <th>4489897</th>\n",
              "      <td>42555</td>\n",
              "      <td>3572</td>\n",
              "      <td>10</td>\n",
              "      <td>40204</td>\n",
              "      <td>1401</td>\n",
              "      <td>1.000000</td>\n",
              "    </tr>\n",
              "    <tr>\n",
              "      <th>...</th>\n",
              "      <td>...</td>\n",
              "      <td>...</td>\n",
              "      <td>...</td>\n",
              "      <td>...</td>\n",
              "      <td>...</td>\n",
              "      <td>...</td>\n",
              "    </tr>\n",
              "    <tr>\n",
              "      <th>5359012</th>\n",
              "      <td>50748</td>\n",
              "      <td>3572</td>\n",
              "      <td>3</td>\n",
              "      <td>47993</td>\n",
              "      <td>1401</td>\n",
              "      <td>0.222222</td>\n",
              "    </tr>\n",
              "    <tr>\n",
              "      <th>54241</th>\n",
              "      <td>565</td>\n",
              "      <td>3572</td>\n",
              "      <td>2</td>\n",
              "      <td>528</td>\n",
              "      <td>1401</td>\n",
              "      <td>0.111111</td>\n",
              "    </tr>\n",
              "    <tr>\n",
              "      <th>3694566</th>\n",
              "      <td>34512</td>\n",
              "      <td>3572</td>\n",
              "      <td>1</td>\n",
              "      <td>32624</td>\n",
              "      <td>1401</td>\n",
              "      <td>0.000000</td>\n",
              "    </tr>\n",
              "    <tr>\n",
              "      <th>6386396</th>\n",
              "      <td>59235</td>\n",
              "      <td>3572</td>\n",
              "      <td>1</td>\n",
              "      <td>56113</td>\n",
              "      <td>1401</td>\n",
              "      <td>0.000000</td>\n",
              "    </tr>\n",
              "    <tr>\n",
              "      <th>6353360</th>\n",
              "      <td>58974</td>\n",
              "      <td>3572</td>\n",
              "      <td>1</td>\n",
              "      <td>55860</td>\n",
              "      <td>1401</td>\n",
              "      <td>0.000000</td>\n",
              "    </tr>\n",
              "  </tbody>\n",
              "</table>\n",
              "<p>3118 rows × 6 columns</p>\n",
              "</div>\n",
              "      <button class=\"colab-df-convert\" onclick=\"convertToInteractive('df-b9863e2b-f97b-4a36-bef6-2f3ad3b754df')\"\n",
              "              title=\"Convert this dataframe to an interactive table.\"\n",
              "              style=\"display:none;\">\n",
              "        \n",
              "  <svg xmlns=\"http://www.w3.org/2000/svg\" height=\"24px\"viewBox=\"0 0 24 24\"\n",
              "       width=\"24px\">\n",
              "    <path d=\"M0 0h24v24H0V0z\" fill=\"none\"/>\n",
              "    <path d=\"M18.56 5.44l.94 2.06.94-2.06 2.06-.94-2.06-.94-.94-2.06-.94 2.06-2.06.94zm-11 1L8.5 8.5l.94-2.06 2.06-.94-2.06-.94L8.5 2.5l-.94 2.06-2.06.94zm10 10l.94 2.06.94-2.06 2.06-.94-2.06-.94-.94-2.06-.94 2.06-2.06.94z\"/><path d=\"M17.41 7.96l-1.37-1.37c-.4-.4-.92-.59-1.43-.59-.52 0-1.04.2-1.43.59L10.3 9.45l-7.72 7.72c-.78.78-.78 2.05 0 2.83L4 21.41c.39.39.9.59 1.41.59.51 0 1.02-.2 1.41-.59l7.78-7.78 2.81-2.81c.8-.78.8-2.07 0-2.86zM5.41 20L4 18.59l7.72-7.72 1.47 1.35L5.41 20z\"/>\n",
              "  </svg>\n",
              "      </button>\n",
              "      \n",
              "  <style>\n",
              "    .colab-df-container {\n",
              "      display:flex;\n",
              "      flex-wrap:wrap;\n",
              "      gap: 12px;\n",
              "    }\n",
              "\n",
              "    .colab-df-convert {\n",
              "      background-color: #E8F0FE;\n",
              "      border: none;\n",
              "      border-radius: 50%;\n",
              "      cursor: pointer;\n",
              "      display: none;\n",
              "      fill: #1967D2;\n",
              "      height: 32px;\n",
              "      padding: 0 0 0 0;\n",
              "      width: 32px;\n",
              "    }\n",
              "\n",
              "    .colab-df-convert:hover {\n",
              "      background-color: #E2EBFA;\n",
              "      box-shadow: 0px 1px 2px rgba(60, 64, 67, 0.3), 0px 1px 3px 1px rgba(60, 64, 67, 0.15);\n",
              "      fill: #174EA6;\n",
              "    }\n",
              "\n",
              "    [theme=dark] .colab-df-convert {\n",
              "      background-color: #3B4455;\n",
              "      fill: #D2E3FC;\n",
              "    }\n",
              "\n",
              "    [theme=dark] .colab-df-convert:hover {\n",
              "      background-color: #434B5C;\n",
              "      box-shadow: 0px 1px 3px 1px rgba(0, 0, 0, 0.15);\n",
              "      filter: drop-shadow(0px 1px 2px rgba(0, 0, 0, 0.3));\n",
              "      fill: #FFFFFF;\n",
              "    }\n",
              "  </style>\n",
              "\n",
              "      <script>\n",
              "        const buttonEl =\n",
              "          document.querySelector('#df-b9863e2b-f97b-4a36-bef6-2f3ad3b754df button.colab-df-convert');\n",
              "        buttonEl.style.display =\n",
              "          google.colab.kernel.accessAllowed ? 'block' : 'none';\n",
              "\n",
              "        async function convertToInteractive(key) {\n",
              "          const element = document.querySelector('#df-b9863e2b-f97b-4a36-bef6-2f3ad3b754df');\n",
              "          const dataTable =\n",
              "            await google.colab.kernel.invokeFunction('convertToInteractive',\n",
              "                                                     [key], {});\n",
              "          if (!dataTable) return;\n",
              "\n",
              "          const docLinkHtml = 'Like what you see? Visit the ' +\n",
              "            '<a target=\"_blank\" href=https://colab.research.google.com/notebooks/data_table.ipynb>data table notebook</a>'\n",
              "            + ' to learn more about interactive tables.';\n",
              "          element.innerHTML = '';\n",
              "          dataTable['output_type'] = 'display_data';\n",
              "          await google.colab.output.renderOutput(dataTable, element);\n",
              "          const docLink = document.createElement('div');\n",
              "          docLink.innerHTML = docLinkHtml;\n",
              "          element.appendChild(docLink);\n",
              "        }\n",
              "      </script>\n",
              "    </div>\n",
              "  </div>\n",
              "  "
            ]
          },
          "metadata": {},
          "execution_count": 66
        }
      ]
    },
    {
      "cell_type": "code",
      "source": [
        "get_cf_recommendation(17440)"
      ],
      "metadata": {
        "colab": {
          "base_uri": "https://localhost:8080/"
        },
        "id": "B7_jPZlk2i-C",
        "outputId": "ad1fc54d-5343-4e35-f433-3b3165946a0d"
      },
      "execution_count": null,
      "outputs": [
        {
          "output_type": "stream",
          "name": "stdout",
          "text": [
            "308/308 [==============================] - 1s 2ms/step\n",
            "Showing recommendations for users: 17440\n",
            "===========================\n",
            "Movie with high ratings from user\n",
            "--------------------------------\n",
            "Code Geass: Hangyaku no Lelouch : Action, Mecha, Military, School, Sci-Fi, Super Power\n",
            "Ginga Nagareboshi Gin : Action, Adventure, Drama, Shounen\n",
            "Macross F : Action, Mecha, Military, Music, Romance, Sci-Fi, Space\n",
            "Pokemon : Action, Adventure, Comedy, Fantasy, Kids\n",
            "Code Geass: Nunnally in Wonderland : Comedy, Fantasy, Parody\n",
            "--------------------------------\n",
            "Top 10 anime recommendation\n",
            "--------------------------------\n",
            "Kimi no Na wa. : Drama, Romance, School, Supernatural\n",
            "Fullmetal Alchemist: Brotherhood : Action, Adventure, Drama, Fantasy, Magic, Military, Shounen\n",
            "Gintama° : Action, Comedy, Historical, Parody, Samurai, Sci-Fi, Shounen\n",
            "Steins;Gate : Sci-Fi, Thriller\n",
            "Gintama&#039; : Action, Comedy, Historical, Parody, Samurai, Sci-Fi, Shounen\n",
            "Hunter x Hunter (2011) : Action, Adventure, Shounen, Super Power\n",
            "Ginga Eiyuu Densetsu : Drama, Military, Sci-Fi, Space\n",
            "Gintama Movie: Kanketsu-hen - Yorozuya yo Eien Nare : Action, Comedy, Historical, Parody, Samurai, Sci-Fi, Shounen\n",
            "Gintama&#039;: Enchousen : Action, Comedy, Historical, Parody, Samurai, Sci-Fi, Shounen\n",
            "Gintama : Action, Comedy, Historical, Parody, Samurai, Sci-Fi, Shounen\n"
          ]
        }
      ]
    },
    {
      "cell_type": "markdown",
      "source": [
        "## Evaluation\n",
        "Pada bagian ini kita akan membahas metrik evaluasi yang digunakan dan hasilnya untuk masing-masing teknik yang digunakan."
      ],
      "metadata": {
        "id": "iDLk0bKL_fXh"
      }
    },
    {
      "cell_type": "markdown",
      "source": [
        "### Content-based Filtering\n",
        "\n",
        "Untuk mengevaluasi Sistem Rekomendasi dengan teknik *Content-based Filtering (CBF)* kita dapat menggunakan *NDCG (Normalized Discounted Cumulative Gain)*.\n",
        "\n",
        "Gambaran langkah-langkahnya adalah sebagai berikut:\n",
        "1. Tentukan skor relevansi untuk setiap judul anime berdasarkan relevansinya dengan *User*.\n",
        "2. Buat daftar rekomendasi untuk setiap *User* dalam dataset evaluasi.\n",
        "3. Hitung *Discounted Cumulative Gain (DCG)* untuk setiap *User* dengan menjumlahkan skor relevansi $rel_i$ dari item-item yang direkomendasikan, yang didiskonkan berdasarkan posisinya $i$ dalam daftar $k$. $$DCG@k = \\sum_{i=1}^{k} \\frac{rel_i}{\\log_2(i+1)}$$\n",
        "4. Hitung Ideal DCG (IDCG) untuk setiap *User*, yang mewakili DCG maksimum yang mungkin pada setiap posisi jika daftarnya diurutkan secara sempurna.\n",
        "5. Hitung Normalized DCG (NDCG) dengan membagi DCG dengan IDCG pada setiap posisi. $$NDCG@k = \\frac{DCG@k}{IDCG@k}$$\n",
        "6. Hitung rata-rata NDCG dari seluruh *User* untuk mengevaluasi performa keseluruhan sistem rekomendasi (jika sudah diimplementasikan dan mendapatkan feedback).\n",
        "\n",
        "NDCG memberikan ukuran seberapa baik sistem mengurutkan dan merekomendasikan item anime yang relevan. Nilai NDCG yang lebih tinggi menunjukkan performa yang lebih baik, menandakan bahwa item-item yang lebih relevan diurutkan lebih tinggi dalam daftar rekomendasi."
      ],
      "metadata": {
        "id": "lMJqRTqWoSOu"
      }
    },
    {
      "cell_type": "markdown",
      "source": [
        "Kita akan coba membuat fungsi untuk menghitung NDCG"
      ],
      "metadata": {
        "id": "GHo2xylcyvr8"
      }
    },
    {
      "cell_type": "code",
      "source": [
        "def calculate_dcg(relevance_scores):\n",
        "    positions = np.arange(1, len(relevance_scores) + 1)\n",
        "    discounts = np.log2(positions + 1)\n",
        "    dcg = np.sum(relevance_scores / discounts)\n",
        "    return dcg\n",
        "\n",
        "def calculate_idcg(relevance_scores):\n",
        "    sorted_scores = np.sort(relevance_scores)[::-1]\n",
        "    idcg = calculate_dcg(sorted_scores)\n",
        "    return idcg\n",
        "\n",
        "def calculate_ndcg(relevance_scores):\n",
        "    dcg = calculate_dcg(relevance_scores)\n",
        "    idcg = calculate_idcg(relevance_scores)\n",
        "    ndcg = dcg / idcg if idcg != 0 else 0\n",
        "    return ndcg"
      ],
      "metadata": {
        "id": "2Iu3GBCczzap"
      },
      "execution_count": null,
      "outputs": []
    },
    {
      "cell_type": "markdown",
      "source": [
        "Berdasarkan hasil rekomendasi sebelumnya saya akan memberikan skoring personal untuk judul anime yang direkomendasikan\n",
        "\n",
        "|No| Name                                   | Sim Score | Relevance Score |\n",
        "|--|----------------------------------------|----------:|--:|\n",
        "|1 | Macross F Movie 1: Itsuwari no Utahime | 0.94      | 3 |\n",
        "|2 | Macross                                | 0.91      | 5 |\n",
        "|3 | Macross F                              | 0.91      | 4 |\n",
        "|4 | Mobile Suit Gundam Seed                | 0.90      | 4 |\n",
        "|5 | Mobile Suit Gundam Seed Destiny        | 0.90      | 3 |"
      ],
      "metadata": {
        "id": "Lli7vCSH0C_O"
      }
    },
    {
      "cell_type": "code",
      "source": [
        "relevance_scores = [3, 5, 4, 4, 3]  # Relevance scores of recommended anime items\n",
        "ndcg = calculate_ndcg(relevance_scores)\n",
        "print(\"NDCG:\", ndcg)"
      ],
      "metadata": {
        "colab": {
          "base_uri": "https://localhost:8080/"
        },
        "id": "V4chHTHUz_h7",
        "outputId": "6bc40482-99a3-41a3-97a5-6c2f3a57f765"
      },
      "execution_count": null,
      "outputs": [
        {
          "output_type": "stream",
          "name": "stdout",
          "text": [
            "NDCG: 0.921645822896844\n"
          ]
        }
      ]
    },
    {
      "cell_type": "markdown",
      "source": [
        "Sistem rekomendasi yang baik memilki nilai NDCG yang mendekati 1. Nilai NDCG yang diperoleh dari proyek ini adalah 0.92 dan merupakan pencapaian yang baik."
      ],
      "metadata": {
        "id": "pMduDhQR42OB"
      }
    },
    {
      "cell_type": "markdown",
      "source": [
        "### Collaborative Filtering"
      ],
      "metadata": {
        "id": "KTvGLVTuoWgl"
      }
    },
    {
      "cell_type": "markdown",
      "source": [
        "Untuk sistem rekomendasi *Collaborative Filtering (CF)*, kita menggunakan 2 metrik evaluasi, yaitu *MAE (Mean Absolute Error)* dan *RMSE (Root Mean Squared Error)*. Berikut adalah formula untuk kedua metrik tersebut:\n",
        "\n",
        "| $$MAE$$      | $$RMSE$$ |\n",
        "| :----:      |    :----:   |\n",
        "| $$\\frac{1}{n}\\sum_{i=1}^{n}|y_i - \\hat{y}_i|$$     | $$\\sqrt{\\frac{1}{n}\\sum_{i=1}^{n}(y_i - \\hat{y}_i)^2}$$       |\n",
        "\n",
        "Di mana:\n",
        "- $n$ jumlah data (observasi)\n",
        "- $y_i$ nilai aktual\n",
        "- $\\hat{y}_i$ nilai prediksi.\n",
        "\n",
        "Perbedaan antara MAE dan RMSE:\n",
        "- Cara mengukur perbedaan antara prediksi dan nilai sebenarnya. MAE menghitung rata-rata selisih absolut antara prediksi dan nilai sebenarnya, sedangkan RMSE menghitung akar kuadrat dari rata-rata selisih kuadrat.\n",
        "- MAE tidak memperhitungkan perbedaan arah, sementara RMSE memberikan penalti lebih besar untuk perbedaan yang lebih besar.\n",
        "- MAE lebih mudah diinterpretasikan, sementara RMSE lebih sensitif terhadap perbedaan signifikan.\n",
        "\n",
        "Pada model CF, hasil yang dicapai:\n",
        "\n",
        "|          | MAE    | RMSE   |\n",
        "|----------|--------|--------|\n",
        "| Training | 0.1044 | 0.1364 |\n",
        "| Test     | 0.1048 | 0.1368 |\n",
        "\n",
        "Hasil ini menunjukkan kinerja yang baik untuk sistem rekomendasi."
      ],
      "metadata": {
        "id": "MSTlR1YOotZX"
      }
    },
    {
      "cell_type": "markdown",
      "source": [
        "## Conclusion"
      ],
      "metadata": {
        "id": "yAzlCoJU_nyT"
      }
    },
    {
      "cell_type": "markdown",
      "source": [
        "Kesimpulan yang dapat diambil dari pembahasan di atas adalah sebagai berikut:\n",
        "1. Telah dibuat Sistem Rekomendasi dengan teknik ***Content-based Filtering (CBF)*** berdasarkan fitur-fitur yang ada pada dataset Anime Recomendation System (yaitu: genre, episodes, type, rating, dan members) menggunakan *TF-IDF* dan *Cosine Similarity*.\n",
        "2. Telah dibuat Sistem Rekomendasi dengan teknik ***Collaborative Filtering (CF)*** berdasarkan kemiripan penilaian User terhadap judul Anime yang sudah pernah ditonton sebelumnya dengan membangun *Model Keras* menggunakan *Binary Crossentropy* untuk menghitung *loss function*, Adam (Adaptive Moment Estimation) sebagai *optimizer*, dan Mean Absolute Error (MAE) serta Root Mean Squared Error (RMSE) sebagai *metrics evaluation*. Dihasilkan MAE 0.1048 dan RMSE 0.1368 pada data uji.\n",
        "\n",
        "Adapun peluang improvement yang dapat dilakukan untuk proyek ini adalah Mengembangkan **Sistem Rekomendasi Hibrida**."
      ],
      "metadata": {
        "id": "62Yf-5MAiGQs"
      }
    },
    {
      "cell_type": "markdown",
      "source": [
        "## Reference\n",
        "1. [Masuda, H. et al. (2023). Anime Industry Report 2022. The Association of Japanese Animations.](https://aja.gr.jp/english/japan-anime-data)\n",
        "2. [Murugeswari, R., & Kalaiselvi, M. (2019). Anime Recommendation System Based on Collaborative Filtering and Content-Based Filtering. International Journal of Computer Science and Information Security (IJCSIS).](https://ijcsis.org/papers/vol17no4/A-2637.pdf)\n",
        "3. https://www.kaggle.com/datasets/CooperUnion/anime-recommendations-database"
      ],
      "metadata": {
        "id": "xDHHjMru_pEt"
      }
    },
    {
      "cell_type": "markdown",
      "source": [
        "**---Ini adalah bagian akhir laporan---**"
      ],
      "metadata": {
        "id": "m7ynGpeS_ttL"
      }
    }
  ]
}